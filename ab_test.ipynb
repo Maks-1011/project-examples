{
 "cells": [
  {
   "cell_type": "markdown",
   "id": "3da0c475",
   "metadata": {},
   "source": [
    "# Импорт библиотек"
   ]
  },
  {
   "cell_type": "code",
   "execution_count": 1,
   "id": "7e258870",
   "metadata": {},
   "outputs": [],
   "source": [
    "import pandas as pd\n",
    "import numpy as np\n",
    "import math as mth\n",
    "from scipy import stats as st\n",
    "\n",
    "import matplotlib.pyplot as plt\n",
    "\n",
    "import datetime as dt\n",
    "from datetime import timedelta"
   ]
  },
  {
   "cell_type": "markdown",
   "id": "11480579",
   "metadata": {},
   "source": [
    "# Цели и задачи проекта"
   ]
  },
  {
   "cell_type": "markdown",
   "id": "57259a8a",
   "metadata": {},
   "source": [
    "В рамках проекта предстоит провести оценку результатов А/В теста изменений, связанных с внедрением улучшенной рекомендательной системы.\n",
    "\n",
    "Необходимо:\n",
    "- оценить корректность проведения теста;\n",
    "- проанализировать результат."
   ]
  },
  {
   "cell_type": "markdown",
   "id": "9e94f837",
   "metadata": {},
   "source": [
    "## Техническое задание"
   ]
  },
  {
   "cell_type": "markdown",
   "id": "99713d50",
   "metadata": {},
   "source": [
    "- Название теста: recommender_system_test;\n",
    "- Группы: А (контрольная), B (новая платёжная воронка);\n",
    "- Дата запуска: 2020-12-07;\n",
    "- Дата остановки набора новых пользователей: 2020-12-21;\n",
    "- Дата остановки: 2021-01-04;\n",
    "- Аудитория: 15% новых пользователей из региона EU;\n",
    "- Назначение теста: тестирование изменений, связанных с внедрением улучшенной рекомендательной системы;\n",
    "- Ожидаемое количество участников теста: 6000.\n",
    "- Ожидаемый эффект: за 14 дней с момента регистрации в системе пользователи покажут улучшение каждой метрики не менее, чем на 10%:\n",
    "    - конверсии в просмотр карточек товаров — событие product_page;\n",
    "    - просмотры корзины — product_cart;\n",
    "    - покупки — purchase."
   ]
  },
  {
   "cell_type": "markdown",
   "id": "b6aaffcd",
   "metadata": {},
   "source": [
    "# Загрузка данных"
   ]
  },
  {
   "cell_type": "code",
   "execution_count": 2,
   "id": "01332de2",
   "metadata": {},
   "outputs": [],
   "source": [
    "# функция для загрузки файлов\n",
    "\n",
    "def file_loader(file_name):\n",
    "    try:\n",
    "        file = pd.read_csv(file_name)\n",
    "        print('loaded from local source')\n",
    "        return file\n",
    "        \n",
    "    except:\n",
    "        try:\n",
    "            file = pd.read_csv('https://code.s3.yandex.net/datasets/' + file_name)\n",
    "            print('loaded from web source')\n",
    "            return file\n",
    "        except:\n",
    "            print('not loaded')"
   ]
  },
  {
   "cell_type": "code",
   "execution_count": 3,
   "id": "f9669230",
   "metadata": {},
   "outputs": [
    {
     "name": "stdout",
     "output_type": "stream",
     "text": [
      "loaded from local source\n"
     ]
    }
   ],
   "source": [
    "# календарь маркетинговых событий на 2020 год\n",
    "\n",
    "ab_project_marketing_events = file_loader('ab_project_marketing_events.csv')"
   ]
  },
  {
   "cell_type": "code",
   "execution_count": 4,
   "id": "695bde30",
   "metadata": {},
   "outputs": [
    {
     "name": "stdout",
     "output_type": "stream",
     "text": [
      "loaded from local source\n"
     ]
    }
   ],
   "source": [
    "# все пользователи, зарегистрировавшиеся в интернет-магазине в период с 7 по 21 декабря 2020 года;\n",
    "\n",
    "final_ab_new_users = file_loader('final_ab_new_users.csv')"
   ]
  },
  {
   "cell_type": "code",
   "execution_count": 5,
   "id": "41964308",
   "metadata": {},
   "outputs": [
    {
     "name": "stdout",
     "output_type": "stream",
     "text": [
      "loaded from local source\n"
     ]
    }
   ],
   "source": [
    "# все события новых пользователей в период с 7 декабря 2020 по 4 января 2021 года\n",
    "\n",
    "final_ab_events = file_loader('final_ab_events.csv')"
   ]
  },
  {
   "cell_type": "code",
   "execution_count": 6,
   "id": "12afe37d",
   "metadata": {},
   "outputs": [
    {
     "name": "stdout",
     "output_type": "stream",
     "text": [
      "loaded from local source\n"
     ]
    }
   ],
   "source": [
    "# таблица участников тестов\n",
    "\n",
    "final_ab_participant = file_loader('final_ab_participants.csv')"
   ]
  },
  {
   "cell_type": "markdown",
   "id": "2bfed5f5",
   "metadata": {},
   "source": [
    "## Описание данных"
   ]
  },
  {
   "cell_type": "markdown",
   "id": "a1f11ca9",
   "metadata": {},
   "source": [
    "### ab_project_marketing_events.csv"
   ]
  },
  {
   "cell_type": "markdown",
   "id": "a3705fd8",
   "metadata": {},
   "source": [
    "календарь маркетинговых событий на 2020 год.\n",
    "\n",
    "Структура файла:\n",
    "- name — название маркетингового события;\n",
    "- regions — регионы, в которых будет проводиться рекламная кампания;\n",
    "- start_dt — дата начала кампании;\n",
    "- finish_dt — дата завершения кампании."
   ]
  },
  {
   "cell_type": "markdown",
   "id": "2da8aa22",
   "metadata": {},
   "source": [
    "### final_ab_new_users.csv"
   ]
  },
  {
   "cell_type": "markdown",
   "id": "6e01f1ba",
   "metadata": {},
   "source": [
    "все пользователи, зарегистрировавшиеся в интернет-магазине в период с 7 по 21 декабря 2020 года.\n",
    "\n",
    "Структура файла:\n",
    "- user_id — идентификатор пользователя;\n",
    "- first_date — дата регистрации;\n",
    "- region — регион пользователя;\n",
    "- device — устройство, с которого происходила регистрация."
   ]
  },
  {
   "cell_type": "markdown",
   "id": "86057b52",
   "metadata": {},
   "source": [
    "### final_ab_events.csv"
   ]
  },
  {
   "cell_type": "markdown",
   "id": "2833b305",
   "metadata": {},
   "source": [
    "все события новых пользователей в период с 7 декабря 2020 по 4 января 2021 года.\n",
    "\n",
    "Структура файла:\n",
    "- user_id — идентификатор пользователя;\n",
    "- event_dt — дата и время события;\n",
    "- event_name — тип события;\n",
    "- details — дополнительные данные о событии. Например, для покупок, purchase, в этом поле хранится стоимость покупки в долларах."
   ]
  },
  {
   "cell_type": "markdown",
   "id": "5a9261ab",
   "metadata": {},
   "source": [
    "### final_ab_participants.csv"
   ]
  },
  {
   "cell_type": "markdown",
   "id": "ec39b9ea",
   "metadata": {},
   "source": [
    "таблица участников тестов.\n",
    "\n",
    "Структура файла:\n",
    "- user_id — идентификатор пользователя;\n",
    "- ab_test — название теста;\n",
    "- group — группа пользователя."
   ]
  },
  {
   "cell_type": "markdown",
   "id": "091dd25b",
   "metadata": {},
   "source": [
    "# Оценка качества данных, предобработка данных"
   ]
  },
  {
   "cell_type": "markdown",
   "id": "c80fd5e4",
   "metadata": {},
   "source": [
    "## Проверка заголовков"
   ]
  },
  {
   "cell_type": "code",
   "execution_count": 7,
   "id": "6e604c12",
   "metadata": {},
   "outputs": [
    {
     "data": {
      "text/html": [
       "<div>\n",
       "<style scoped>\n",
       "    .dataframe tbody tr th:only-of-type {\n",
       "        vertical-align: middle;\n",
       "    }\n",
       "\n",
       "    .dataframe tbody tr th {\n",
       "        vertical-align: top;\n",
       "    }\n",
       "\n",
       "    .dataframe thead th {\n",
       "        text-align: right;\n",
       "    }\n",
       "</style>\n",
       "<table border=\"1\" class=\"dataframe\">\n",
       "  <thead>\n",
       "    <tr style=\"text-align: right;\">\n",
       "      <th></th>\n",
       "      <th>name</th>\n",
       "      <th>regions</th>\n",
       "      <th>start_dt</th>\n",
       "      <th>finish_dt</th>\n",
       "    </tr>\n",
       "  </thead>\n",
       "  <tbody>\n",
       "    <tr>\n",
       "      <th>0</th>\n",
       "      <td>Christmas&amp;New Year Promo</td>\n",
       "      <td>EU, N.America</td>\n",
       "      <td>2020-12-25</td>\n",
       "      <td>2021-01-03</td>\n",
       "    </tr>\n",
       "  </tbody>\n",
       "</table>\n",
       "</div>"
      ],
      "text/plain": [
       "                       name        regions    start_dt   finish_dt\n",
       "0  Christmas&New Year Promo  EU, N.America  2020-12-25  2021-01-03"
      ]
     },
     "metadata": {},
     "output_type": "display_data"
    },
    {
     "data": {
      "text/html": [
       "<div>\n",
       "<style scoped>\n",
       "    .dataframe tbody tr th:only-of-type {\n",
       "        vertical-align: middle;\n",
       "    }\n",
       "\n",
       "    .dataframe tbody tr th {\n",
       "        vertical-align: top;\n",
       "    }\n",
       "\n",
       "    .dataframe thead th {\n",
       "        text-align: right;\n",
       "    }\n",
       "</style>\n",
       "<table border=\"1\" class=\"dataframe\">\n",
       "  <thead>\n",
       "    <tr style=\"text-align: right;\">\n",
       "      <th></th>\n",
       "      <th>user_id</th>\n",
       "      <th>first_date</th>\n",
       "      <th>region</th>\n",
       "      <th>device</th>\n",
       "    </tr>\n",
       "  </thead>\n",
       "  <tbody>\n",
       "    <tr>\n",
       "      <th>0</th>\n",
       "      <td>D72A72121175D8BE</td>\n",
       "      <td>2020-12-07</td>\n",
       "      <td>EU</td>\n",
       "      <td>PC</td>\n",
       "    </tr>\n",
       "  </tbody>\n",
       "</table>\n",
       "</div>"
      ],
      "text/plain": [
       "            user_id  first_date region device\n",
       "0  D72A72121175D8BE  2020-12-07     EU     PC"
      ]
     },
     "metadata": {},
     "output_type": "display_data"
    },
    {
     "data": {
      "text/html": [
       "<div>\n",
       "<style scoped>\n",
       "    .dataframe tbody tr th:only-of-type {\n",
       "        vertical-align: middle;\n",
       "    }\n",
       "\n",
       "    .dataframe tbody tr th {\n",
       "        vertical-align: top;\n",
       "    }\n",
       "\n",
       "    .dataframe thead th {\n",
       "        text-align: right;\n",
       "    }\n",
       "</style>\n",
       "<table border=\"1\" class=\"dataframe\">\n",
       "  <thead>\n",
       "    <tr style=\"text-align: right;\">\n",
       "      <th></th>\n",
       "      <th>user_id</th>\n",
       "      <th>event_dt</th>\n",
       "      <th>event_name</th>\n",
       "      <th>details</th>\n",
       "    </tr>\n",
       "  </thead>\n",
       "  <tbody>\n",
       "    <tr>\n",
       "      <th>0</th>\n",
       "      <td>E1BDDCE0DAFA2679</td>\n",
       "      <td>2020-12-07 20:22:03</td>\n",
       "      <td>purchase</td>\n",
       "      <td>99.99</td>\n",
       "    </tr>\n",
       "  </tbody>\n",
       "</table>\n",
       "</div>"
      ],
      "text/plain": [
       "            user_id             event_dt event_name  details\n",
       "0  E1BDDCE0DAFA2679  2020-12-07 20:22:03   purchase    99.99"
      ]
     },
     "metadata": {},
     "output_type": "display_data"
    },
    {
     "data": {
      "text/html": [
       "<div>\n",
       "<style scoped>\n",
       "    .dataframe tbody tr th:only-of-type {\n",
       "        vertical-align: middle;\n",
       "    }\n",
       "\n",
       "    .dataframe tbody tr th {\n",
       "        vertical-align: top;\n",
       "    }\n",
       "\n",
       "    .dataframe thead th {\n",
       "        text-align: right;\n",
       "    }\n",
       "</style>\n",
       "<table border=\"1\" class=\"dataframe\">\n",
       "  <thead>\n",
       "    <tr style=\"text-align: right;\">\n",
       "      <th></th>\n",
       "      <th>user_id</th>\n",
       "      <th>group</th>\n",
       "      <th>ab_test</th>\n",
       "    </tr>\n",
       "  </thead>\n",
       "  <tbody>\n",
       "    <tr>\n",
       "      <th>0</th>\n",
       "      <td>D1ABA3E2887B6A73</td>\n",
       "      <td>A</td>\n",
       "      <td>recommender_system_test</td>\n",
       "    </tr>\n",
       "  </tbody>\n",
       "</table>\n",
       "</div>"
      ],
      "text/plain": [
       "            user_id group                  ab_test\n",
       "0  D1ABA3E2887B6A73     A  recommender_system_test"
      ]
     },
     "metadata": {},
     "output_type": "display_data"
    }
   ],
   "source": [
    "head = [ab_project_marketing_events, final_ab_new_users, final_ab_events, final_ab_participant]\n",
    "\n",
    "for i in head:\n",
    "    display(i.head(1))"
   ]
  },
  {
   "cell_type": "markdown",
   "id": "f34950bf",
   "metadata": {},
   "source": [
    "Названия столбцов оставляем без изменений"
   ]
  },
  {
   "cell_type": "markdown",
   "id": "f6b1c698",
   "metadata": {},
   "source": [
    "## Пропущенные значения"
   ]
  },
  {
   "cell_type": "code",
   "execution_count": 8,
   "id": "18ea7640",
   "metadata": {},
   "outputs": [
    {
     "name": "stdout",
     "output_type": "stream",
     "text": [
      "<class 'pandas.core.frame.DataFrame'>\n",
      "RangeIndex: 14 entries, 0 to 13\n",
      "Data columns (total 4 columns):\n",
      " #   Column     Non-Null Count  Dtype \n",
      "---  ------     --------------  ----- \n",
      " 0   name       14 non-null     object\n",
      " 1   regions    14 non-null     object\n",
      " 2   start_dt   14 non-null     object\n",
      " 3   finish_dt  14 non-null     object\n",
      "dtypes: object(4)\n",
      "memory usage: 576.0+ bytes\n"
     ]
    },
    {
     "data": {
      "text/plain": [
       "None"
      ]
     },
     "metadata": {},
     "output_type": "display_data"
    },
    {
     "name": "stdout",
     "output_type": "stream",
     "text": [
      "--------------------------------------------------\n",
      "<class 'pandas.core.frame.DataFrame'>\n",
      "RangeIndex: 61733 entries, 0 to 61732\n",
      "Data columns (total 4 columns):\n",
      " #   Column      Non-Null Count  Dtype \n",
      "---  ------      --------------  ----- \n",
      " 0   user_id     61733 non-null  object\n",
      " 1   first_date  61733 non-null  object\n",
      " 2   region      61733 non-null  object\n",
      " 3   device      61733 non-null  object\n",
      "dtypes: object(4)\n",
      "memory usage: 1.9+ MB\n"
     ]
    },
    {
     "data": {
      "text/plain": [
       "None"
      ]
     },
     "metadata": {},
     "output_type": "display_data"
    },
    {
     "name": "stdout",
     "output_type": "stream",
     "text": [
      "--------------------------------------------------\n",
      "<class 'pandas.core.frame.DataFrame'>\n",
      "RangeIndex: 440317 entries, 0 to 440316\n",
      "Data columns (total 4 columns):\n",
      " #   Column      Non-Null Count   Dtype  \n",
      "---  ------      --------------   -----  \n",
      " 0   user_id     440317 non-null  object \n",
      " 1   event_dt    440317 non-null  object \n",
      " 2   event_name  440317 non-null  object \n",
      " 3   details     62740 non-null   float64\n",
      "dtypes: float64(1), object(3)\n",
      "memory usage: 13.4+ MB\n"
     ]
    },
    {
     "data": {
      "text/plain": [
       "None"
      ]
     },
     "metadata": {},
     "output_type": "display_data"
    },
    {
     "name": "stdout",
     "output_type": "stream",
     "text": [
      "--------------------------------------------------\n",
      "<class 'pandas.core.frame.DataFrame'>\n",
      "RangeIndex: 18268 entries, 0 to 18267\n",
      "Data columns (total 3 columns):\n",
      " #   Column   Non-Null Count  Dtype \n",
      "---  ------   --------------  ----- \n",
      " 0   user_id  18268 non-null  object\n",
      " 1   group    18268 non-null  object\n",
      " 2   ab_test  18268 non-null  object\n",
      "dtypes: object(3)\n",
      "memory usage: 428.3+ KB\n"
     ]
    },
    {
     "data": {
      "text/plain": [
       "None"
      ]
     },
     "metadata": {},
     "output_type": "display_data"
    },
    {
     "name": "stdout",
     "output_type": "stream",
     "text": [
      "--------------------------------------------------\n"
     ]
    }
   ],
   "source": [
    "for i in head:\n",
    "    display(i.info())\n",
    "    print('-'*50)"
   ]
  },
  {
   "cell_type": "markdown",
   "id": "712a05dc",
   "metadata": {},
   "source": [
    "Пропущенные значения в final_ab_events, столбец details. Большой объем пропусков, данные в данном столбце явлюяются дополнительной информацией, оставим без изменения."
   ]
  },
  {
   "cell_type": "markdown",
   "id": "9acecebc",
   "metadata": {},
   "source": [
    "## Тип данных"
   ]
  },
  {
   "cell_type": "code",
   "execution_count": 9,
   "id": "b31cb570",
   "metadata": {},
   "outputs": [],
   "source": [
    "# преобразуем столбцы дата-время в соответствующий формат\n",
    "\n",
    "ab_project_marketing_events['start_dt'] = pd.to_datetime(ab_project_marketing_events['start_dt'])\n",
    "\n",
    "ab_project_marketing_events['finish_dt'] = pd.to_datetime(ab_project_marketing_events['finish_dt'])\n",
    "\n",
    "final_ab_new_users['first_date'] = pd.to_datetime(final_ab_new_users['first_date'])\n",
    "\n",
    "final_ab_events['event_dt'] = pd.to_datetime(final_ab_events['event_dt'])"
   ]
  },
  {
   "cell_type": "markdown",
   "id": "ba8ad0fd",
   "metadata": {},
   "source": [
    "## Дубли"
   ]
  },
  {
   "cell_type": "code",
   "execution_count": 10,
   "id": "6e3e229c",
   "metadata": {},
   "outputs": [
    {
     "data": {
      "text/html": [
       "<div>\n",
       "<style scoped>\n",
       "    .dataframe tbody tr th:only-of-type {\n",
       "        vertical-align: middle;\n",
       "    }\n",
       "\n",
       "    .dataframe tbody tr th {\n",
       "        vertical-align: top;\n",
       "    }\n",
       "\n",
       "    .dataframe thead th {\n",
       "        text-align: right;\n",
       "    }\n",
       "</style>\n",
       "<table border=\"1\" class=\"dataframe\">\n",
       "  <thead>\n",
       "    <tr style=\"text-align: right;\">\n",
       "      <th></th>\n",
       "      <th>name</th>\n",
       "      <th>regions</th>\n",
       "      <th>start_dt</th>\n",
       "      <th>finish_dt</th>\n",
       "    </tr>\n",
       "  </thead>\n",
       "  <tbody>\n",
       "    <tr>\n",
       "      <th>0</th>\n",
       "      <td>Christmas&amp;New Year Promo</td>\n",
       "      <td>EU, N.America</td>\n",
       "      <td>2020-12-25</td>\n",
       "      <td>2021-01-03</td>\n",
       "    </tr>\n",
       "  </tbody>\n",
       "</table>\n",
       "</div>"
      ],
      "text/plain": [
       "                       name        regions   start_dt  finish_dt\n",
       "0  Christmas&New Year Promo  EU, N.America 2020-12-25 2021-01-03"
      ]
     },
     "execution_count": 10,
     "metadata": {},
     "output_type": "execute_result"
    }
   ],
   "source": [
    "# датафрейм:\n",
    "\n",
    "ab_project_marketing_events.head(1)"
   ]
  },
  {
   "cell_type": "code",
   "execution_count": 11,
   "id": "0e12f2cd",
   "metadata": {},
   "outputs": [
    {
     "data": {
      "text/plain": [
       "0"
      ]
     },
     "execution_count": 11,
     "metadata": {},
     "output_type": "execute_result"
    }
   ],
   "source": [
    "# полные дубли \n",
    "\n",
    "ab_project_marketing_events.duplicated().sum()"
   ]
  },
  {
   "cell_type": "code",
   "execution_count": 12,
   "id": "44a3586f",
   "metadata": {
    "scrolled": true
   },
   "outputs": [
    {
     "data": {
      "text/plain": [
       "0"
      ]
     },
     "execution_count": 12,
     "metadata": {},
     "output_type": "execute_result"
    }
   ],
   "source": [
    "# дубли в наименовании\n",
    "\n",
    "ab_project_marketing_events['name'].duplicated().sum()"
   ]
  },
  {
   "cell_type": "markdown",
   "id": "a72544bf",
   "metadata": {},
   "source": [
    "___"
   ]
  },
  {
   "cell_type": "code",
   "execution_count": 13,
   "id": "17834906",
   "metadata": {},
   "outputs": [
    {
     "data": {
      "text/html": [
       "<div>\n",
       "<style scoped>\n",
       "    .dataframe tbody tr th:only-of-type {\n",
       "        vertical-align: middle;\n",
       "    }\n",
       "\n",
       "    .dataframe tbody tr th {\n",
       "        vertical-align: top;\n",
       "    }\n",
       "\n",
       "    .dataframe thead th {\n",
       "        text-align: right;\n",
       "    }\n",
       "</style>\n",
       "<table border=\"1\" class=\"dataframe\">\n",
       "  <thead>\n",
       "    <tr style=\"text-align: right;\">\n",
       "      <th></th>\n",
       "      <th>user_id</th>\n",
       "      <th>first_date</th>\n",
       "      <th>region</th>\n",
       "      <th>device</th>\n",
       "    </tr>\n",
       "  </thead>\n",
       "  <tbody>\n",
       "    <tr>\n",
       "      <th>0</th>\n",
       "      <td>D72A72121175D8BE</td>\n",
       "      <td>2020-12-07</td>\n",
       "      <td>EU</td>\n",
       "      <td>PC</td>\n",
       "    </tr>\n",
       "  </tbody>\n",
       "</table>\n",
       "</div>"
      ],
      "text/plain": [
       "            user_id first_date region device\n",
       "0  D72A72121175D8BE 2020-12-07     EU     PC"
      ]
     },
     "execution_count": 13,
     "metadata": {},
     "output_type": "execute_result"
    }
   ],
   "source": [
    "# датафрейм:\n",
    "\n",
    "final_ab_new_users.head(1)"
   ]
  },
  {
   "cell_type": "code",
   "execution_count": 14,
   "id": "8e43e04c",
   "metadata": {
    "scrolled": true
   },
   "outputs": [
    {
     "data": {
      "text/plain": [
       "0"
      ]
     },
     "execution_count": 14,
     "metadata": {},
     "output_type": "execute_result"
    }
   ],
   "source": [
    "# полные дубли \n",
    "\n",
    "final_ab_new_users.duplicated().sum()"
   ]
  },
  {
   "cell_type": "code",
   "execution_count": 15,
   "id": "072ee924",
   "metadata": {},
   "outputs": [
    {
     "data": {
      "text/plain": [
       "array(['EU', 'N.America', 'APAC', 'CIS'], dtype=object)"
      ]
     },
     "execution_count": 15,
     "metadata": {},
     "output_type": "execute_result"
    }
   ],
   "source": [
    "# названия регионов\n",
    "\n",
    "final_ab_new_users['region'].unique()"
   ]
  },
  {
   "cell_type": "code",
   "execution_count": 16,
   "id": "878bbdfd",
   "metadata": {},
   "outputs": [
    {
     "data": {
      "text/plain": [
       "array(['PC', 'Android', 'iPhone', 'Mac'], dtype=object)"
      ]
     },
     "execution_count": 16,
     "metadata": {},
     "output_type": "execute_result"
    }
   ],
   "source": [
    "# device\n",
    "\n",
    "final_ab_new_users['device'].unique()"
   ]
  },
  {
   "cell_type": "markdown",
   "id": "6c94ec09",
   "metadata": {},
   "source": [
    "___"
   ]
  },
  {
   "cell_type": "code",
   "execution_count": 17,
   "id": "cb70d8a4",
   "metadata": {},
   "outputs": [
    {
     "data": {
      "text/html": [
       "<div>\n",
       "<style scoped>\n",
       "    .dataframe tbody tr th:only-of-type {\n",
       "        vertical-align: middle;\n",
       "    }\n",
       "\n",
       "    .dataframe tbody tr th {\n",
       "        vertical-align: top;\n",
       "    }\n",
       "\n",
       "    .dataframe thead th {\n",
       "        text-align: right;\n",
       "    }\n",
       "</style>\n",
       "<table border=\"1\" class=\"dataframe\">\n",
       "  <thead>\n",
       "    <tr style=\"text-align: right;\">\n",
       "      <th></th>\n",
       "      <th>user_id</th>\n",
       "      <th>event_dt</th>\n",
       "      <th>event_name</th>\n",
       "      <th>details</th>\n",
       "    </tr>\n",
       "  </thead>\n",
       "  <tbody>\n",
       "    <tr>\n",
       "      <th>0</th>\n",
       "      <td>E1BDDCE0DAFA2679</td>\n",
       "      <td>2020-12-07 20:22:03</td>\n",
       "      <td>purchase</td>\n",
       "      <td>99.99</td>\n",
       "    </tr>\n",
       "  </tbody>\n",
       "</table>\n",
       "</div>"
      ],
      "text/plain": [
       "            user_id            event_dt event_name  details\n",
       "0  E1BDDCE0DAFA2679 2020-12-07 20:22:03   purchase    99.99"
      ]
     },
     "execution_count": 17,
     "metadata": {},
     "output_type": "execute_result"
    }
   ],
   "source": [
    "# датафрейм:\n",
    "\n",
    "final_ab_events.head(1)"
   ]
  },
  {
   "cell_type": "code",
   "execution_count": 18,
   "id": "cf76f3b4",
   "metadata": {},
   "outputs": [
    {
     "data": {
      "text/plain": [
       "0"
      ]
     },
     "execution_count": 18,
     "metadata": {},
     "output_type": "execute_result"
    }
   ],
   "source": [
    "# полные дубли \n",
    "\n",
    "final_ab_events.duplicated().sum()"
   ]
  },
  {
   "cell_type": "code",
   "execution_count": 19,
   "id": "9a41a837",
   "metadata": {},
   "outputs": [
    {
     "data": {
      "text/plain": [
       "array(['purchase', 'product_cart', 'product_page', 'login'], dtype=object)"
      ]
     },
     "execution_count": 19,
     "metadata": {},
     "output_type": "execute_result"
    }
   ],
   "source": [
    "# названия событий\n",
    "\n",
    "final_ab_events['event_name'].unique()"
   ]
  },
  {
   "cell_type": "markdown",
   "id": "0b717ca1",
   "metadata": {},
   "source": [
    "___"
   ]
  },
  {
   "cell_type": "code",
   "execution_count": 20,
   "id": "48adc26d",
   "metadata": {},
   "outputs": [
    {
     "data": {
      "text/html": [
       "<div>\n",
       "<style scoped>\n",
       "    .dataframe tbody tr th:only-of-type {\n",
       "        vertical-align: middle;\n",
       "    }\n",
       "\n",
       "    .dataframe tbody tr th {\n",
       "        vertical-align: top;\n",
       "    }\n",
       "\n",
       "    .dataframe thead th {\n",
       "        text-align: right;\n",
       "    }\n",
       "</style>\n",
       "<table border=\"1\" class=\"dataframe\">\n",
       "  <thead>\n",
       "    <tr style=\"text-align: right;\">\n",
       "      <th></th>\n",
       "      <th>user_id</th>\n",
       "      <th>group</th>\n",
       "      <th>ab_test</th>\n",
       "    </tr>\n",
       "  </thead>\n",
       "  <tbody>\n",
       "    <tr>\n",
       "      <th>0</th>\n",
       "      <td>D1ABA3E2887B6A73</td>\n",
       "      <td>A</td>\n",
       "      <td>recommender_system_test</td>\n",
       "    </tr>\n",
       "  </tbody>\n",
       "</table>\n",
       "</div>"
      ],
      "text/plain": [
       "            user_id group                  ab_test\n",
       "0  D1ABA3E2887B6A73     A  recommender_system_test"
      ]
     },
     "execution_count": 20,
     "metadata": {},
     "output_type": "execute_result"
    }
   ],
   "source": [
    "# датафрейм:\n",
    "\n",
    "final_ab_participant.head(1)"
   ]
  },
  {
   "cell_type": "code",
   "execution_count": 21,
   "id": "d49ebd71",
   "metadata": {},
   "outputs": [
    {
     "data": {
      "text/plain": [
       "0"
      ]
     },
     "execution_count": 21,
     "metadata": {},
     "output_type": "execute_result"
    }
   ],
   "source": [
    "# полные дубли \n",
    "\n",
    "final_ab_participant.duplicated().sum()"
   ]
  },
  {
   "cell_type": "code",
   "execution_count": 22,
   "id": "7b17a6b8",
   "metadata": {},
   "outputs": [
    {
     "data": {
      "text/plain": [
       "1602"
      ]
     },
     "execution_count": 22,
     "metadata": {},
     "output_type": "execute_result"
    }
   ],
   "source": [
    "# дубли user_id\n",
    "\n",
    "final_ab_participant['user_id'].duplicated().sum()"
   ]
  },
  {
   "cell_type": "code",
   "execution_count": 23,
   "id": "9632f651",
   "metadata": {},
   "outputs": [
    {
     "data": {
      "text/plain": [
       "array(['recommender_system_test', 'interface_eu_test'], dtype=object)"
      ]
     },
     "execution_count": 23,
     "metadata": {},
     "output_type": "execute_result"
    }
   ],
   "source": [
    "final_ab_participant['ab_test'].unique()"
   ]
  },
  {
   "cell_type": "markdown",
   "id": "ce5deff9",
   "metadata": {},
   "source": [
    "Видим наличие дублей. Возможно связано с некорректным разнесением по группам, возможно с отбором одних и тех же пользователей на разные тесты."
   ]
  },
  {
   "cell_type": "code",
   "execution_count": 24,
   "id": "748a6c8e",
   "metadata": {},
   "outputs": [
    {
     "data": {
      "text/plain": [
       "0"
      ]
     },
     "execution_count": 24,
     "metadata": {},
     "output_type": "execute_result"
    }
   ],
   "source": [
    "# добавим фильтр по тесту\n",
    "\n",
    "final_ab_participant.query('ab_test == \"recommender_system_test\"')['user_id'].duplicated().sum()"
   ]
  },
  {
   "cell_type": "code",
   "execution_count": 25,
   "id": "d9e7ab5c",
   "metadata": {},
   "outputs": [
    {
     "data": {
      "text/plain": [
       "783"
      ]
     },
     "execution_count": 25,
     "metadata": {},
     "output_type": "execute_result"
    }
   ],
   "source": [
    "# проверим пересечение с тестовой группой конкуририующего теста\n",
    "\n",
    "final_ab_participant.query(\n",
    "    'ab_test == \"recommender_system_test\" | \\\n",
    "    group == \"B\"'\n",
    "                            )\\\n",
    "        ['user_id'].duplicated().sum()"
   ]
  },
  {
   "cell_type": "markdown",
   "id": "958e2b9b",
   "metadata": {},
   "source": [
    "Видим пересечение с тестовой группой конкурирующего теста."
   ]
  },
  {
   "cell_type": "code",
   "execution_count": 26,
   "id": "84019ef4",
   "metadata": {},
   "outputs": [],
   "source": [
    "# Удалим пересечения с тестовой группой конкурирующего теста\n",
    "\n",
    "final_ab_participant = final_ab_participant[~final_ab_participant['user_id'].isin(\n",
    "    final_ab_participant.query('ab_test == \"interface_eu_test\" & group == \"B\"')['user_id']\n",
    "                                                                                    )\n",
    "                                             ]"
   ]
  },
  {
   "cell_type": "code",
   "execution_count": 27,
   "id": "e04ff919",
   "metadata": {},
   "outputs": [],
   "source": [
    "# удалим оставшиеся данные конкурирующего теста\n",
    "\n",
    "final_ab_participant = final_ab_participant[final_ab_participant['ab_test'] == 'recommender_system_test']"
   ]
  },
  {
   "cell_type": "code",
   "execution_count": 28,
   "id": "1c85a358",
   "metadata": {},
   "outputs": [
    {
     "data": {
      "text/plain": [
       "(5918, 3)"
      ]
     },
     "execution_count": 28,
     "metadata": {},
     "output_type": "execute_result"
    }
   ],
   "source": [
    "final_ab_participant.shape"
   ]
  },
  {
   "cell_type": "markdown",
   "id": "fc8c9921",
   "metadata": {},
   "source": [
    "- удалили пересечения с конкурирующим тестом;\n",
    "- объем данных стал меньше заявленного в ТЗ."
   ]
  },
  {
   "cell_type": "markdown",
   "id": "6fd3fa3e",
   "metadata": {},
   "source": [
    "## Аномальные значения"
   ]
  },
  {
   "cell_type": "markdown",
   "id": "9a804d5f",
   "metadata": {},
   "source": [
    "### Диапазон дат маркетинговых активностей"
   ]
  },
  {
   "cell_type": "code",
   "execution_count": 29,
   "id": "fb170baf",
   "metadata": {},
   "outputs": [
    {
     "data": {
      "text/plain": [
       "(Timestamp('2020-01-25 00:00:00'), Timestamp('2020-12-30 00:00:00'))"
      ]
     },
     "execution_count": 29,
     "metadata": {},
     "output_type": "execute_result"
    }
   ],
   "source": [
    "# проверим диапазон дат маркетинговых активностей\n",
    "\n",
    "ab_project_marketing_events['start_dt'].min(), ab_project_marketing_events['start_dt'].max()"
   ]
  },
  {
   "cell_type": "code",
   "execution_count": 30,
   "id": "aa7d64ac",
   "metadata": {},
   "outputs": [
    {
     "data": {
      "image/png": "[encoded data removed]",
      "text/plain": [
       "<Figure size 1008x432 with 2 Axes>"
      ]
     },
     "metadata": {
      "needs_background": "dark"
     },
     "output_type": "display_data"
    }
   ],
   "source": [
    "# построим гистрограммы по датам начала и завершения\n",
    "\n",
    "# функция - настройка параметров графика\n",
    "def hist_set(title=' ',\n",
    "            xlabel=' ',\n",
    "            ylabel=' '):\n",
    " # настройка видимости рамок\n",
    "    ax.spines['top'].set_visible(False)\n",
    "    ax.spines['left'].set_visible(False)\n",
    "    ax.spines['right'].set_visible(False)\n",
    "    ax.spines['bottom'].set_color('grey') #  цвет лини оси X\n",
    "\n",
    "    plt.grid(True, alpha=0.1) # отображение сетки\n",
    "    ax.tick_params(colors='grey', labelsize = 10) # настройка значений осей\n",
    "\n",
    "        # заголовок\n",
    "    plt.title(title, size = 16, loc='left',\n",
    "                      y= 1.05, x = -0.08 )\n",
    "    plt.xlabel(xlabel, fontsize=10, color='grey') # подпись оси Х\n",
    "    plt.ylabel(ylabel, fontsize=10, color='grey') # подпись оси Y\n",
    "\n",
    "plt.figure(figsize=(14, 6))\n",
    "\n",
    "#график 1\n",
    "plt.subplot(1, 2, 1)\n",
    "\n",
    "ax = ab_project_marketing_events['start_dt'].hist(bins=12)\n",
    "\n",
    "hist_set(title='Количество маркетинговых активностей.\\n Начало',\n",
    "            xlabel='дата',\n",
    "            ylabel='количество')\n",
    "\n",
    "#график 2\n",
    "plt.subplot(1, 2, 2)\n",
    "\n",
    "ax = ab_project_marketing_events['finish_dt'].hist(bins=12)\n",
    "\n",
    "hist_set(title='Количество маркетинговых активностей.\\n Завершение',\n",
    "            xlabel='дата',\n",
    "            ylabel='количество')"
   ]
  },
  {
   "cell_type": "markdown",
   "id": "e87045b2",
   "metadata": {},
   "source": [
    "Можно отметить: наличие маркетинговых мероприятий, приходящихся на даты теста. Соответсвие региону тестирования уточним позднее."
   ]
  },
  {
   "cell_type": "markdown",
   "id": "06368995",
   "metadata": {},
   "source": [
    "___"
   ]
  },
  {
   "cell_type": "markdown",
   "id": "5f38467b",
   "metadata": {},
   "source": [
    "### Диапазон дат регистрации новых пользователей"
   ]
  },
  {
   "cell_type": "code",
   "execution_count": 31,
   "id": "5a9290ad",
   "metadata": {},
   "outputs": [
    {
     "data": {
      "text/plain": [
       "(Timestamp('2020-12-07 00:00:00'), Timestamp('2020-12-23 00:00:00'))"
      ]
     },
     "execution_count": 31,
     "metadata": {},
     "output_type": "execute_result"
    }
   ],
   "source": [
    "# проверим диапазон дат регистрации новых пользователей\n",
    "\n",
    "final_ab_new_users['first_date'].min(), final_ab_new_users['first_date'].max()"
   ]
  },
  {
   "cell_type": "markdown",
   "id": "d8f71703",
   "metadata": {},
   "source": [
    "Дата остановки набора новых пользователей: 2020-12-21, Проверим попали ли группы А/В теста."
   ]
  },
  {
   "cell_type": "code",
   "execution_count": 32,
   "id": "40585ff9",
   "metadata": {},
   "outputs": [
    {
     "data": {
      "text/plain": [
       "Timestamp('2020-12-21 00:00:00')"
      ]
     },
     "execution_count": 32,
     "metadata": {},
     "output_type": "execute_result"
    }
   ],
   "source": [
    "final_ab_new_users.merge(final_ab_participant, on='user_id', how='right')['first_date'].max()"
   ]
  },
  {
   "cell_type": "markdown",
   "id": "2d6135f6",
   "metadata": {},
   "source": [
    "Новые пользователи, набранные после 2020-12-21, не попали в группы А/В теста."
   ]
  },
  {
   "cell_type": "code",
   "execution_count": 33,
   "id": "ad2d34b4",
   "metadata": {},
   "outputs": [
    {
     "data": {
      "image/png": "[encoded data removed]",
      "text/plain": [
       "<Figure size 1152x432 with 1 Axes>"
      ]
     },
     "metadata": {
      "needs_background": "dark"
     },
     "output_type": "display_data"
    }
   ],
   "source": [
    "# построим гистограмму распределения регистрации новых пользователей\n",
    "\n",
    "plt.figure(figsize=(16, 6))\n",
    "\n",
    "ax = final_ab_new_users['first_date'].hist(bins=14)\n",
    "\n",
    "hist_set(title='Количество регистраций новых пользователей',\n",
    "            xlabel='дата',\n",
    "            ylabel='количество');"
   ]
  },
  {
   "cell_type": "markdown",
   "id": "0c5750ae",
   "metadata": {},
   "source": [
    "Видим пик регистрации пользователей 21-12-20, в последний день отбора для теста."
   ]
  },
  {
   "cell_type": "markdown",
   "id": "b61a21f2",
   "metadata": {},
   "source": [
    "___"
   ]
  },
  {
   "cell_type": "code",
   "execution_count": 34,
   "id": "284210e4",
   "metadata": {},
   "outputs": [
    {
     "data": {
      "text/plain": [
       "(Timestamp('2020-12-07 00:00:33'), Timestamp('2020-12-30 23:36:33'))"
      ]
     },
     "execution_count": 34,
     "metadata": {},
     "output_type": "execute_result"
    }
   ],
   "source": [
    "# проверим диапазон дат действий пользователей\n",
    "\n",
    "final_ab_events['event_dt'].min(), final_ab_events['event_dt'].max()"
   ]
  },
  {
   "cell_type": "code",
   "execution_count": 35,
   "id": "625e0bd3",
   "metadata": {},
   "outputs": [
    {
     "data": {
      "image/png": "[encoded data removed]",
      "text/plain": [
       "<Figure size 864x432 with 1 Axes>"
      ]
     },
     "metadata": {
      "needs_background": "dark"
     },
     "output_type": "display_data"
    }
   ],
   "source": [
    "# построим гистограмму распределения действий пользователей\n",
    "\n",
    "plt.figure(figsize=(12, 6))\n",
    "\n",
    "ax = final_ab_events['event_dt'].hist(bins=28)\n",
    "\n",
    "hist_set(title='Количество действий новых пользователей',\n",
    "            xlabel='дата',\n",
    "            ylabel='количество');"
   ]
  },
  {
   "cell_type": "code",
   "execution_count": 36,
   "id": "5cd81c38",
   "metadata": {},
   "outputs": [
    {
     "data": {
      "text/plain": [
       "89"
      ]
     },
     "execution_count": 36,
     "metadata": {},
     "output_type": "execute_result"
    }
   ],
   "source": [
    "final_ab_events[final_ab_events['event_dt'] >= '30-12-20'].shape[0]"
   ]
  },
  {
   "cell_type": "markdown",
   "id": "76a2ecb0",
   "metadata": {},
   "source": [
    "Диапазон дат оставляем без изменений. Видим пик событий приходится на 21/22 -12-20. Можем отметить существенное подение активности пользователей после 30-12-20(включительно)"
   ]
  },
  {
   "cell_type": "markdown",
   "id": "5438ff2a",
   "metadata": {},
   "source": [
    "# Оценка корректности проведения теста"
   ]
  },
  {
   "cell_type": "markdown",
   "id": "534cc009",
   "metadata": {},
   "source": [
    "## Соответствие данных требованиям технического задания"
   ]
  },
  {
   "cell_type": "markdown",
   "id": "891b6b2f",
   "metadata": {},
   "source": [
    "Пройдем по ТЗ"
   ]
  },
  {
   "cell_type": "markdown",
   "id": "0f9e5c24",
   "metadata": {},
   "source": [
    "- Название теста: recommender_system_test; <br/>\n",
    "*Данные присутсвуют*"
   ]
  },
  {
   "cell_type": "markdown",
   "id": "0ca60cd3",
   "metadata": {},
   "source": [
    "- Группы: А (контрольная), B (новая платёжная воронка);<br/>\n",
    "*Данные присутсвуют*"
   ]
  },
  {
   "cell_type": "markdown",
   "id": "cf5034b6",
   "metadata": {},
   "source": [
    "- Дата запуска: 2020-12-07;<br/>\n",
    "*Данные присутсвуют*"
   ]
  },
  {
   "cell_type": "markdown",
   "id": "690b8577",
   "metadata": {},
   "source": [
    "- Дата остановки набора новых пользователей: 2020-12-21;<br/>\n",
    "*Данные присутсвуют*"
   ]
  },
  {
   "cell_type": "markdown",
   "id": "b577afe4",
   "metadata": {},
   "source": [
    "- Дата остановки: 2021-01-04;<br/>\n",
    "*Данные присутсвуют, можем отметить сущенственное падение объема данных после 29-12-20*"
   ]
  },
  {
   "cell_type": "markdown",
   "id": "f58ed510",
   "metadata": {},
   "source": [
    "- Аудитория: 15% новых пользователей из региона EU; <br/>\n",
    "*Проверим*"
   ]
  },
  {
   "cell_type": "code",
   "execution_count": 37,
   "id": "1d02ed41",
   "metadata": {},
   "outputs": [
    {
     "data": {
      "text/plain": [
       "46270"
      ]
     },
     "execution_count": 37,
     "metadata": {},
     "output_type": "execute_result"
    }
   ],
   "source": [
    "# Общее количество новых пользователей в Европейском регионе\n",
    "\n",
    "total_new_users = final_ab_new_users.query('region == \"EU\"')['user_id'].nunique()\n",
    "total_new_users"
   ]
  },
  {
   "cell_type": "code",
   "execution_count": 38,
   "id": "51d0cc87",
   "metadata": {},
   "outputs": [
    {
     "data": {
      "text/plain": [
       "350"
      ]
     },
     "execution_count": 38,
     "metadata": {},
     "output_type": "execute_result"
    }
   ],
   "source": [
    "# Участники А/В теста из не Европейского региона\n",
    "\n",
    "final_ab_participant[final_ab_participant['user_id'].\\\n",
    "                      isin(final_ab_new_users.query('region != \"EU\"')['user_id'])].shape[0]"
   ]
  },
  {
   "cell_type": "markdown",
   "id": "6e77fa3a",
   "metadata": {},
   "source": [
    "Видим, попали пользователи из других регионов, удалим."
   ]
  },
  {
   "cell_type": "code",
   "execution_count": 39,
   "id": "05119ed6",
   "metadata": {},
   "outputs": [],
   "source": [
    "final_ab_participant = final_ab_participant[final_ab_participant['user_id'].\\\n",
    "                       isin(final_ab_new_users.query('region == \"EU\"')['user_id'])]"
   ]
  },
  {
   "cell_type": "code",
   "execution_count": 40,
   "id": "bf766e71",
   "metadata": {},
   "outputs": [],
   "source": [
    "# число пользователей в тесте\n",
    "\n",
    "users_in_test = final_ab_participant['user_id'].nunique()"
   ]
  },
  {
   "cell_type": "code",
   "execution_count": 41,
   "id": "b32d7847",
   "metadata": {},
   "outputs": [
    {
     "data": {
      "text/plain": [
       "'12.03%'"
      ]
     },
     "execution_count": 41,
     "metadata": {},
     "output_type": "execute_result"
    }
   ],
   "source": [
    "# процент новых пользователей задействованых в тесте\n",
    "\n",
    "'{0:.2f}%'.format((users_in_test/total_new_users)*100)"
   ]
  },
  {
   "cell_type": "markdown",
   "id": "bbf03207",
   "metadata": {},
   "source": [
    "По итогу получили менее 15% выборки."
   ]
  },
  {
   "cell_type": "markdown",
   "id": "2cf9c361",
   "metadata": {},
   "source": [
    "- Назначение теста: тестирование изменений, связанных с внедрением улучшенной рекомендательной системы;<br/>\n",
    "*Исходя из данных сложно сделать вывод*"
   ]
  },
  {
   "cell_type": "markdown",
   "id": "90776272",
   "metadata": {},
   "source": [
    "- Ожидаемое количество участников теста: 6000. <br/>\n",
    "*Проверим*"
   ]
  },
  {
   "cell_type": "code",
   "execution_count": 42,
   "id": "69026928",
   "metadata": {},
   "outputs": [
    {
     "data": {
      "text/plain": [
       "5568"
      ]
     },
     "execution_count": 42,
     "metadata": {},
     "output_type": "execute_result"
    }
   ],
   "source": [
    "users_in_test"
   ]
  },
  {
   "cell_type": "markdown",
   "id": "1b706c71",
   "metadata": {},
   "source": [
    "В тесте участвуют менее 6000 человек."
   ]
  },
  {
   "cell_type": "markdown",
   "id": "ef8e2030",
   "metadata": {},
   "source": [
    "- Ожидаемый эффект: за 14 дней с момента регистрации в системе пользователи покажут улучшение каждой метрики не менее, чем на 10%:\n",
    "    - конверсии в просмотр карточек товаров — событие product_page;\n",
    "    - просмотры корзины — product_cart;\n",
    "    - покупки — purchase. <br/>\n",
    "    \n",
    "*данные по метрикам присутсвуют*<br/>\n",
    "Корректность:<br/>\n",
    "- улучшение на 10% - абсолютный или относительный прирост(метрика + 10% или метрика * 1.1)?<br/>\n",
    "- у нас есть данные по событиям:<br/>\n",
    "login -- > product_page -- > product_cart --> purchase <br/>\n",
    "В такой логике клиент после логирования попадает на карточку товара. \n",
    "Мы тестируем рекомендательную систему. После регистрации у нас, скорее всего, минимум данных о пользователе, мы еще не успели собрать информацию о его поведении;<br/>\n",
    "Под покупкой подразумевается переход к оформлению покупки(вводу платежных данных) или факт оплаты? Если речь идет о факте оплаты есть риск получить снижение конверсии из-за сбоя проведения оплаты;<br/>\n",
    "**Можем сделать вывод**:\n",
    "- пропущен ряд событий,\n",
    "- необходимо уточнить на каком этапе работают рекомендации."
   ]
  },
  {
   "cell_type": "markdown",
   "id": "9746a51b",
   "metadata": {},
   "source": [
    "Можем отметить:\n",
    "- в рамках ТЗ не предполагается проводилось A/A тестирование;\n",
    "- не указана необходимость подтверждения статистической значимости и уровень $\\alpha$"
   ]
  },
  {
   "cell_type": "markdown",
   "id": "0446da22",
   "metadata": {},
   "source": [
    "## Время проведения теста"
   ]
  },
  {
   "cell_type": "markdown",
   "id": "027e5b98",
   "metadata": {},
   "source": [
    "Можем отметь:\n",
    "- время проведения - канун новгодних праздников, празднование католического Рождества;\n",
    "- наличие маркетинговых активностей"
   ]
  },
  {
   "cell_type": "code",
   "execution_count": 43,
   "id": "ee2a7d20",
   "metadata": {},
   "outputs": [],
   "source": [
    "# напишем функцию для определеня принадлежности к Европейскому региону\n",
    "\n",
    "def eu_in_marketing_events(row):\n",
    "    \n",
    "    if 'EU' in row:\n",
    "        return True\n",
    "    \n",
    "    else:\n",
    "        return False"
   ]
  },
  {
   "cell_type": "code",
   "execution_count": 44,
   "id": "94d3cba1",
   "metadata": {
    "scrolled": true
   },
   "outputs": [
    {
     "data": {
      "text/html": [
       "<div>\n",
       "<style scoped>\n",
       "    .dataframe tbody tr th:only-of-type {\n",
       "        vertical-align: middle;\n",
       "    }\n",
       "\n",
       "    .dataframe tbody tr th {\n",
       "        vertical-align: top;\n",
       "    }\n",
       "\n",
       "    .dataframe thead th {\n",
       "        text-align: right;\n",
       "    }\n",
       "</style>\n",
       "<table border=\"1\" class=\"dataframe\">\n",
       "  <thead>\n",
       "    <tr style=\"text-align: right;\">\n",
       "      <th></th>\n",
       "      <th>name</th>\n",
       "      <th>regions</th>\n",
       "      <th>start_dt</th>\n",
       "      <th>finish_dt</th>\n",
       "      <th>eu_marketing</th>\n",
       "    </tr>\n",
       "  </thead>\n",
       "  <tbody>\n",
       "    <tr>\n",
       "      <th>0</th>\n",
       "      <td>Christmas&amp;New Year Promo</td>\n",
       "      <td>EU, N.America</td>\n",
       "      <td>2020-12-25</td>\n",
       "      <td>2021-01-03</td>\n",
       "      <td>True</td>\n",
       "    </tr>\n",
       "    <tr>\n",
       "      <th>1</th>\n",
       "      <td>St. Valentine's Day Giveaway</td>\n",
       "      <td>EU, CIS, APAC, N.America</td>\n",
       "      <td>2020-02-14</td>\n",
       "      <td>2020-02-16</td>\n",
       "      <td>True</td>\n",
       "    </tr>\n",
       "    <tr>\n",
       "      <th>2</th>\n",
       "      <td>St. Patric's Day Promo</td>\n",
       "      <td>EU, N.America</td>\n",
       "      <td>2020-03-17</td>\n",
       "      <td>2020-03-19</td>\n",
       "      <td>True</td>\n",
       "    </tr>\n",
       "    <tr>\n",
       "      <th>3</th>\n",
       "      <td>Easter Promo</td>\n",
       "      <td>EU, CIS, APAC, N.America</td>\n",
       "      <td>2020-04-12</td>\n",
       "      <td>2020-04-19</td>\n",
       "      <td>True</td>\n",
       "    </tr>\n",
       "    <tr>\n",
       "      <th>5</th>\n",
       "      <td>Black Friday Ads Campaign</td>\n",
       "      <td>EU, CIS, APAC, N.America</td>\n",
       "      <td>2020-11-26</td>\n",
       "      <td>2020-12-01</td>\n",
       "      <td>True</td>\n",
       "    </tr>\n",
       "    <tr>\n",
       "      <th>7</th>\n",
       "      <td>Labor day (May 1st) Ads Campaign</td>\n",
       "      <td>EU, CIS, APAC</td>\n",
       "      <td>2020-05-01</td>\n",
       "      <td>2020-05-03</td>\n",
       "      <td>True</td>\n",
       "    </tr>\n",
       "    <tr>\n",
       "      <th>8</th>\n",
       "      <td>International Women's Day Promo</td>\n",
       "      <td>EU, CIS, APAC</td>\n",
       "      <td>2020-03-08</td>\n",
       "      <td>2020-03-10</td>\n",
       "      <td>True</td>\n",
       "    </tr>\n",
       "  </tbody>\n",
       "</table>\n",
       "</div>"
      ],
      "text/plain": [
       "                               name                   regions   start_dt  \\\n",
       "0          Christmas&New Year Promo             EU, N.America 2020-12-25   \n",
       "1      St. Valentine's Day Giveaway  EU, CIS, APAC, N.America 2020-02-14   \n",
       "2            St. Patric's Day Promo             EU, N.America 2020-03-17   \n",
       "3                      Easter Promo  EU, CIS, APAC, N.America 2020-04-12   \n",
       "5         Black Friday Ads Campaign  EU, CIS, APAC, N.America 2020-11-26   \n",
       "7  Labor day (May 1st) Ads Campaign             EU, CIS, APAC 2020-05-01   \n",
       "8   International Women's Day Promo             EU, CIS, APAC 2020-03-08   \n",
       "\n",
       "   finish_dt  eu_marketing  \n",
       "0 2021-01-03          True  \n",
       "1 2020-02-16          True  \n",
       "2 2020-03-19          True  \n",
       "3 2020-04-19          True  \n",
       "5 2020-12-01          True  \n",
       "7 2020-05-03          True  \n",
       "8 2020-03-10          True  "
      ]
     },
     "execution_count": 44,
     "metadata": {},
     "output_type": "execute_result"
    }
   ],
   "source": [
    "# Выделим в отдельный столбец принадлежность маркетинговой активности к Европейскому региону\n",
    "\n",
    "ab_project_marketing_events['eu_marketing'] = ab_project_marketing_events['regions']\\\n",
    "    .apply(eu_in_marketing_events)\n",
    "    \n",
    "# Отфильтруем по Европейскому региону\n",
    "\n",
    "eu_in_marketing_events_df = ab_project_marketing_events[ab_project_marketing_events['eu_marketing'] == True]\n",
    "\n",
    "eu_in_marketing_events_df"
   ]
  },
  {
   "cell_type": "code",
   "execution_count": 45,
   "id": "8e717969",
   "metadata": {},
   "outputs": [
    {
     "data": {
      "text/html": [
       "<div>\n",
       "<style scoped>\n",
       "    .dataframe tbody tr th:only-of-type {\n",
       "        vertical-align: middle;\n",
       "    }\n",
       "\n",
       "    .dataframe tbody tr th {\n",
       "        vertical-align: top;\n",
       "    }\n",
       "\n",
       "    .dataframe thead th {\n",
       "        text-align: right;\n",
       "    }\n",
       "</style>\n",
       "<table border=\"1\" class=\"dataframe\">\n",
       "  <thead>\n",
       "    <tr style=\"text-align: right;\">\n",
       "      <th></th>\n",
       "      <th>name</th>\n",
       "      <th>regions</th>\n",
       "      <th>start_dt</th>\n",
       "      <th>finish_dt</th>\n",
       "      <th>eu_marketing</th>\n",
       "    </tr>\n",
       "  </thead>\n",
       "  <tbody>\n",
       "    <tr>\n",
       "      <th>0</th>\n",
       "      <td>Christmas&amp;New Year Promo</td>\n",
       "      <td>EU, N.America</td>\n",
       "      <td>2020-12-25</td>\n",
       "      <td>2021-01-03</td>\n",
       "      <td>True</td>\n",
       "    </tr>\n",
       "  </tbody>\n",
       "</table>\n",
       "</div>"
      ],
      "text/plain": [
       "                       name        regions   start_dt  finish_dt  eu_marketing\n",
       "0  Christmas&New Year Promo  EU, N.America 2020-12-25 2021-01-03          True"
      ]
     },
     "execution_count": 45,
     "metadata": {},
     "output_type": "execute_result"
    }
   ],
   "source": [
    "# найдем активности, которые проходили во время теста\n",
    "\n",
    "eu_in_marketing_events_df[\n",
    "    np.logical_and(\n",
    "                    eu_in_marketing_events_df['start_dt'] <= '2021-01-04',\n",
    "                    eu_in_marketing_events_df['finish_dt'] >= '2020-12-07'\n",
    "                  )\n",
    "                            ]"
   ]
  },
  {
   "cell_type": "markdown",
   "id": "1127f5e3",
   "metadata": {},
   "source": [
    "Видим наличие маркетинговой активностей в момент проведения теста."
   ]
  },
  {
   "cell_type": "markdown",
   "id": "317a2591",
   "metadata": {},
   "source": [
    "**Можем сделать вывод** о не самом оптимальном времени проведения теста, наличие праздничных дней и маркетинговых активностей приведет к неестественному поведению пользователей, появлению аномалий. Хотя праздничные дни и маркетинговые мероприятия влияют на обе группы, следует учесть при изучении абсолютных показателей."
   ]
  },
  {
   "cell_type": "markdown",
   "id": "721d534f",
   "metadata": {},
   "source": [
    "## Корректность остановки теста"
   ]
  },
  {
   "cell_type": "markdown",
   "id": "8b4b4b3b",
   "metadata": {},
   "source": [
    "Проверим стабильность результатов к моменту окончания теста"
   ]
  },
  {
   "cell_type": "code",
   "execution_count": 46,
   "id": "1e8126ac",
   "metadata": {},
   "outputs": [],
   "source": [
    "# отфильтруем пользователей участвующих в тесте\n",
    "\n",
    "users_ab_events = final_ab_participant.merge(final_ab_events, on='user_id', how='left')"
   ]
  },
  {
   "cell_type": "code",
   "execution_count": 47,
   "id": "95e3210c",
   "metadata": {},
   "outputs": [
    {
     "data": {
      "text/html": [
       "<div>\n",
       "<style scoped>\n",
       "    .dataframe tbody tr th:only-of-type {\n",
       "        vertical-align: middle;\n",
       "    }\n",
       "\n",
       "    .dataframe tbody tr th {\n",
       "        vertical-align: top;\n",
       "    }\n",
       "\n",
       "    .dataframe thead th {\n",
       "        text-align: right;\n",
       "    }\n",
       "</style>\n",
       "<table border=\"1\" class=\"dataframe\">\n",
       "  <thead>\n",
       "    <tr style=\"text-align: right;\">\n",
       "      <th></th>\n",
       "      <th>date</th>\n",
       "      <th>group</th>\n",
       "    </tr>\n",
       "  </thead>\n",
       "  <tbody>\n",
       "    <tr>\n",
       "      <th>0</th>\n",
       "      <td>2020-12-07</td>\n",
       "      <td>A</td>\n",
       "    </tr>\n",
       "    <tr>\n",
       "      <th>105</th>\n",
       "      <td>2020-12-07</td>\n",
       "      <td>B</td>\n",
       "    </tr>\n",
       "    <tr>\n",
       "      <th>180</th>\n",
       "      <td>2020-12-08</td>\n",
       "      <td>B</td>\n",
       "    </tr>\n",
       "    <tr>\n",
       "      <th>14</th>\n",
       "      <td>2020-12-08</td>\n",
       "      <td>A</td>\n",
       "    </tr>\n",
       "    <tr>\n",
       "      <th>55</th>\n",
       "      <td>2020-12-09</td>\n",
       "      <td>A</td>\n",
       "    </tr>\n",
       "  </tbody>\n",
       "</table>\n",
       "</div>"
      ],
      "text/plain": [
       "           date group\n",
       "0    2020-12-07     A\n",
       "105  2020-12-07     B\n",
       "180  2020-12-08     B\n",
       "14   2020-12-08     A\n",
       "55   2020-12-09     A"
      ]
     },
     "execution_count": 47,
     "metadata": {},
     "output_type": "execute_result"
    }
   ],
   "source": [
    "# преобразуем дату-время в дату\n",
    "\n",
    "users_ab_events['date'] = users_ab_events['event_dt'].dt.date\n",
    "\n",
    "# датафрейм с уникальными дата-группа\n",
    "\n",
    "users_ab_date_events = users_ab_events[['date', 'group']].drop_duplicates()\\\n",
    "    .sort_values(by='date')\n",
    "users_ab_date_events.head()"
   ]
  },
  {
   "cell_type": "code",
   "execution_count": 48,
   "id": "31dcd99c",
   "metadata": {},
   "outputs": [],
   "source": [
    "# оставим только первое уникальное действие пользователя\n",
    "\n",
    "users_ab_events = users_ab_events.groupby(['user_id', 'event_name', 'group'],\n",
    "    as_index=False).agg({'date':'min'})"
   ]
  },
  {
   "cell_type": "code",
   "execution_count": 49,
   "id": "ca5378e4",
   "metadata": {},
   "outputs": [
    {
     "data": {
      "text/html": [
       "<div>\n",
       "<style scoped>\n",
       "    .dataframe tbody tr th:only-of-type {\n",
       "        vertical-align: middle;\n",
       "    }\n",
       "\n",
       "    .dataframe tbody tr th {\n",
       "        vertical-align: top;\n",
       "    }\n",
       "\n",
       "    .dataframe thead th {\n",
       "        text-align: right;\n",
       "    }\n",
       "</style>\n",
       "<table border=\"1\" class=\"dataframe\">\n",
       "  <thead>\n",
       "    <tr style=\"text-align: right;\">\n",
       "      <th></th>\n",
       "      <th>date</th>\n",
       "      <th>group</th>\n",
       "      <th>users_events_count</th>\n",
       "    </tr>\n",
       "  </thead>\n",
       "  <tbody>\n",
       "    <tr>\n",
       "      <th>0</th>\n",
       "      <td>2020-12-07</td>\n",
       "      <td>A</td>\n",
       "      <td>122.0</td>\n",
       "    </tr>\n",
       "    <tr>\n",
       "      <th>105</th>\n",
       "      <td>2020-12-07</td>\n",
       "      <td>B</td>\n",
       "      <td>142.0</td>\n",
       "    </tr>\n",
       "    <tr>\n",
       "      <th>180</th>\n",
       "      <td>2020-12-08</td>\n",
       "      <td>B</td>\n",
       "      <td>180.0</td>\n",
       "    </tr>\n",
       "    <tr>\n",
       "      <th>14</th>\n",
       "      <td>2020-12-08</td>\n",
       "      <td>A</td>\n",
       "      <td>205.0</td>\n",
       "    </tr>\n",
       "    <tr>\n",
       "      <th>55</th>\n",
       "      <td>2020-12-09</td>\n",
       "      <td>A</td>\n",
       "      <td>275.0</td>\n",
       "    </tr>\n",
       "  </tbody>\n",
       "</table>\n",
       "</div>"
      ],
      "text/plain": [
       "           date group  users_events_count\n",
       "0    2020-12-07     A               122.0\n",
       "105  2020-12-07     B               142.0\n",
       "180  2020-12-08     B               180.0\n",
       "14   2020-12-08     A               205.0\n",
       "55   2020-12-09     A               275.0"
      ]
     },
     "execution_count": 49,
     "metadata": {},
     "output_type": "execute_result"
    }
   ],
   "source": [
    "# количество пользователей совершивших како-либо действие в определенный день с накоплением\n",
    "\n",
    "events_aggregated = users_ab_date_events.apply(\n",
    "    lambda x:\n",
    "        users_ab_events[np.logical_and(users_ab_events['date'] <= x['date'],\n",
    "                                      users_ab_events['group'] == x['group'])].\n",
    "            agg(\n",
    "                {\n",
    "                    'date': 'max',\n",
    "                    'group': 'max',\n",
    "                    'user_id':'nunique'}\n",
    "               ), axis=1\n",
    "\n",
    "                                          )\n",
    "events_aggregated = events_aggregated.rename(columns={'user_id':'users_events_count'})\n",
    "events_aggregated.head()"
   ]
  },
  {
   "cell_type": "code",
   "execution_count": 52,
   "id": "5dfdb11f",
   "metadata": {},
   "outputs": [],
   "source": [
    "events_dict = {\n",
    "    'login':'логирование',\n",
    "    'product_page':'просмотр страницы продукта',\n",
    "    'product_cart':'просмотр корзины',\n",
    "    'purchase':'покупка'\n",
    "}"
   ]
  },
  {
   "cell_type": "code",
   "execution_count": 53,
   "id": "748d1b0b",
   "metadata": {},
   "outputs": [],
   "source": [
    "# функция считает воронку по конкретному событию(накопленные значения)\n",
    "# cтроит линейный график график\n",
    "\n",
    "def event_percent(event, legend=True):\n",
    "    ''' в качестве аргумента принимает наименование события (совершенное пользователем действие),\n",
    "    legend - отображение подписи линий\n",
    "    '''\n",
    "    \n",
    "    # фильтруем по событию\n",
    "    users_ab_event = users_ab_events.query('event_name == @event')\n",
    "    \n",
    "    \n",
    "    # считаем количество событий с накоплением\n",
    "    event_aggregated = users_ab_date_events.apply(\n",
    "        lambda x:\n",
    "            users_ab_event[np.logical_and(users_ab_event['date'] <= x['date'],\n",
    "                                          users_ab_event['group'] == x['group'])].\n",
    "                agg(\n",
    "                    {\n",
    "                        'date': 'max',\n",
    "                        'group': 'max',\n",
    "                        'event_name': 'count'}\n",
    "                   ), axis=1\n",
    "\n",
    "                                              )\n",
    "\n",
    "    #переименуем столбцы\n",
    "    event_aggregated = event_aggregated.rename(columns={'event_name':'event_count'})\n",
    "    \n",
    "    # объединим с количеством пользователей совершивших какое-либо действие по дням\n",
    "    event_aggregated = event_aggregated.merge(events_aggregated[['date', 'group', 'users_events_count']],\n",
    "                                              on=['date', 'group'])\n",
    "\n",
    "    # посчитаем воронку\n",
    "    event_aggregated = event_aggregated.assign(event_percent = lambda x:\n",
    "                                               ((x['event_count']/x['users_events_count'])*100).round(2))\n",
    "    \n",
    "    # построим график\n",
    "    fig, ax = plt.subplots(figsize = (12,6))\n",
    "\n",
    "    # датафреймы по группам\n",
    "    events_aggregated_a = event_aggregated.query('group == \"A\"')\n",
    "    events_aggregated_b = event_aggregated.query('group == \"B\"')\n",
    "\n",
    "    # графики\n",
    "    plt.plot(events_aggregated_a['date'], events_aggregated_a['event_percent'],\n",
    "             linewidth = '3', color = '#ed8939')\n",
    "\n",
    "    plt.plot(events_aggregated_b['date'], events_aggregated_b['event_percent'],\n",
    "             linewidth = '3', color = '#3c76af')\n",
    "\n",
    "    # настройка видимости рамок\n",
    "    ax.spines['top'].set_visible(False)\n",
    "    ax.spines['left'].set_visible(False)\n",
    "    ax.spines['right'].set_visible(False)\n",
    "    ax.spines['bottom'].set_color('grey') #  цвет лини оси X\n",
    "\n",
    "    plt.grid(True, alpha=0.2, axis='y') # отображение сетки\n",
    "    ax.tick_params(colors='grey', labelsize = 10) # настройка значений осей\n",
    "\n",
    "    # заголовок\n",
    "    plt.title(events_dict[event], size = 16, loc='left',\n",
    "                  y= 1.05, x = -0.08 )\n",
    "    plt.xlabel('дата', fontsize=10, color='grey') # подпись оси Х\n",
    "    plt.ylabel('%', fontsize=10, color='grey') # подпись оси Y\n",
    "    \n",
    "    # легенда\n",
    "    if legend == True:\n",
    "        plt.annotate('группа A', # текст\n",
    "            (events_aggregated_a[-2:-1]['date'],\n",
    "             events_aggregated_a[-1:]['event_percent'].values), # координаты \n",
    "            textcoords=\"offset points\", # расположение текста\n",
    "            xytext=(35,-2), # расстояние от координат (x,y)\n",
    "            ha='center', size=12, color = '#ed8939') \n",
    "\n",
    "        plt.annotate('группа В', # текст\n",
    "            (events_aggregated_b[-2:-1]['date'],\n",
    "             events_aggregated_b[-1:]['event_percent'].values), # координаты \n",
    "            textcoords=\"offset points\", # расположение текста\n",
    "            xytext=(35,-2), # расстояние от координат (x,y)\n",
    "            ha='center', size=12, color = '#3c76af');"
   ]
  },
  {
   "cell_type": "code",
   "execution_count": 54,
   "id": "ac177a3c",
   "metadata": {
    "scrolled": false
   },
   "outputs": [
    {
     "data": {
      "image/png": "[encoded data removed]",
      "text/plain": [
       "<Figure size 864x432 with 1 Axes>"
      ]
     },
     "metadata": {
      "needs_background": "dark"
     },
     "output_type": "display_data"
    }
   ],
   "source": [
    "event_percent('login')"
   ]
  },
  {
   "cell_type": "markdown",
   "id": "56d57571",
   "metadata": {},
   "source": [
    "__Можно отметить__ стабильность результатов к окончанию теста"
   ]
  },
  {
   "cell_type": "code",
   "execution_count": 55,
   "id": "fa58836b",
   "metadata": {},
   "outputs": [
    {
     "data": {
      "image/png": "[encoded data removed]",
      "text/plain": [
       "<Figure size 864x432 with 1 Axes>"
      ]
     },
     "metadata": {
      "needs_background": "dark"
     },
     "output_type": "display_data"
    }
   ],
   "source": [
    "event_percent('product_page')"
   ]
  },
  {
   "cell_type": "markdown",
   "id": "3f8759aa",
   "metadata": {},
   "source": [
    "__Можно отметить__ стабильность результатов к окончанию теста"
   ]
  },
  {
   "cell_type": "code",
   "execution_count": 56,
   "id": "af125f69",
   "metadata": {},
   "outputs": [
    {
     "data": {
      "image/png": "[encoded data removed]",
      "text/plain": [
       "<Figure size 864x432 with 1 Axes>"
      ]
     },
     "metadata": {
      "needs_background": "dark"
     },
     "output_type": "display_data"
    }
   ],
   "source": [
    "event_percent('product_cart')"
   ]
  },
  {
   "cell_type": "markdown",
   "id": "91343108",
   "metadata": {},
   "source": [
    "Видим снижение в течение 3-х дней к окончанию теста (1-2%) "
   ]
  },
  {
   "cell_type": "code",
   "execution_count": 57,
   "id": "a3c2f456",
   "metadata": {},
   "outputs": [
    {
     "data": {
      "image/png": "[encoded data removed]",
      "text/plain": [
       "<Figure size 864x432 with 1 Axes>"
      ]
     },
     "metadata": {
      "needs_background": "dark"
     },
     "output_type": "display_data"
    }
   ],
   "source": [
    "event_percent('purchase')"
   ]
  },
  {
   "cell_type": "markdown",
   "id": "c2e4c85c",
   "metadata": {},
   "source": [
    "Стабильность группы В и возрастающий график группы А к окончанию теста"
   ]
  },
  {
   "cell_type": "markdown",
   "id": "8471295b",
   "metadata": {},
   "source": [
    "## Аудиторию теста"
   ]
  },
  {
   "cell_type": "markdown",
   "id": "3a8b7722",
   "metadata": {},
   "source": [
    "Ранее было отмечено:\n",
    "- пересечение пользователей с конкурирующим тестом;\n",
    "- отсутсвие пользователей участвующих в двух группах."
   ]
  },
  {
   "cell_type": "code",
   "execution_count": 58,
   "id": "e623e393",
   "metadata": {},
   "outputs": [
    {
     "data": {
      "text/plain": [
       "3195"
      ]
     },
     "execution_count": 58,
     "metadata": {},
     "output_type": "execute_result"
    }
   ],
   "source": [
    "# количество пользователей в группе А\n",
    "\n",
    "sample_a = final_ab_participant[final_ab_participant['group']==\"A\"]\n",
    "sample_a.shape[0]"
   ]
  },
  {
   "cell_type": "code",
   "execution_count": 59,
   "id": "7c7baf57",
   "metadata": {},
   "outputs": [
    {
     "data": {
      "text/plain": [
       "2373"
      ]
     },
     "execution_count": 59,
     "metadata": {},
     "output_type": "execute_result"
    }
   ],
   "source": [
    "# количество пользователей в группе В\n",
    "\n",
    "sample_b = final_ab_participant[final_ab_participant['group']==\"B\"]\n",
    "sample_b.shape[0]"
   ]
  },
  {
   "cell_type": "code",
   "execution_count": 60,
   "id": "7d2f1839",
   "metadata": {},
   "outputs": [
    {
     "data": {
      "text/plain": [
       "0.5738146551724138"
      ]
     },
     "execution_count": 60,
     "metadata": {},
     "output_type": "execute_result"
    }
   ],
   "source": [
    "# % пользователей группы А\n",
    "\n",
    "sample_a.shape[0]/final_ab_participant.shape[0]"
   ]
  },
  {
   "cell_type": "markdown",
   "id": "946c08b2",
   "metadata": {},
   "source": [
    "Примем к сведению неравномерное разбиение по группам (57 / 43)"
   ]
  },
  {
   "cell_type": "code",
   "execution_count": 61,
   "id": "93fd90b0",
   "metadata": {},
   "outputs": [],
   "source": [
    "# сформируем выборки по дате регистрации\n",
    "\n",
    "sample_a_reg = final_ab_new_users[final_ab_new_users['user_id'].isin(sample_a['user_id'])]\n",
    "\n",
    "sample_b_reg = final_ab_new_users[final_ab_new_users['user_id'].isin(sample_b['user_id'])]"
   ]
  },
  {
   "cell_type": "code",
   "execution_count": 62,
   "id": "27e9ec79",
   "metadata": {},
   "outputs": [
    {
     "data": {
      "image/png": "[encoded data removed]",
      "text/plain": [
       "<Figure size 720x720 with 2 Axes>"
      ]
     },
     "metadata": {
      "needs_background": "dark"
     },
     "output_type": "display_data"
    }
   ],
   "source": [
    "# построим гистограммы распределения пользователей по дате регистрации\n",
    "\n",
    "plt.figure(figsize=(10, 10))\n",
    "\n",
    "plt.subplot(2, 1, 1)\n",
    "\n",
    "ax = sample_a_reg['first_date'].hist(bins=14)\n",
    "\n",
    "hist_set(title='Регистрация пользователей группы А',\n",
    "            xlabel='дата',\n",
    "            ylabel='количество пользователей')\n",
    "\n",
    "plt.subplot(2, 1, 2)\n",
    "\n",
    "ax =  sample_b_reg['first_date'].hist(bins=14)\n",
    "\n",
    "hist_set(title='Регистрация пользователей группы В',\n",
    "            xlabel='дата',\n",
    "            ylabel='количество пользователей')\n",
    "\n",
    "plt.subplots_adjust(hspace=0.35);"
   ]
  },
  {
   "cell_type": "markdown",
   "id": "9c593274",
   "metadata": {},
   "source": [
    "Видим схожее распределение по дате регистрации."
   ]
  },
  {
   "cell_type": "code",
   "execution_count": 63,
   "id": "28cf8aff",
   "metadata": {},
   "outputs": [],
   "source": [
    "# отберем пользователей из группы А совершавших действия\n",
    "\n",
    "sample_a_events = final_ab_events[final_ab_events['user_id'].isin(sample_a['user_id'])]\n",
    "\n",
    "# события должны происхдить не позднее 14 дней после регистрации\n",
    "\n",
    "# сформируем датафрейм с максимальной датой до которой должны происхдить события\n",
    "\n",
    "max_dt_test = pd.DataFrame(final_ab_new_users[['user_id', 'first_date']])\n",
    "\n",
    "# добавим к дате регистрации 14 дней\n",
    "\n",
    "max_dt_test['max_dt_for_test'] = max_dt_test['first_date'] + timedelta(days= 14)\n",
    "\n",
    "# добавим ограничевующую дату в датафрейм с ранее отобранными пользователями\n",
    "\n",
    "sample_a_events = sample_a_events.merge(max_dt_test, how='left', on='user_id')\n",
    "\n",
    "# отфильтруем по дате\n",
    "\n",
    "sample_a_events = sample_a_events[sample_a_events['event_dt'] <= sample_a_events['max_dt_for_test']]"
   ]
  },
  {
   "cell_type": "code",
   "execution_count": 64,
   "id": "b8582689",
   "metadata": {},
   "outputs": [],
   "source": [
    "# проделаем то же самое для группы В\n",
    "\n",
    "# cформируем выборки по дате событий(действий)\n",
    "\n",
    "sample_b_events = final_ab_events[final_ab_events['user_id'].isin(sample_b['user_id'])]\n",
    "\n",
    "# добавим ограничевующую дату в выборку\n",
    "\n",
    "sample_b_events = sample_b_events.merge(max_dt_test, how='left', on='user_id')\n",
    "\n",
    "# отфильтруем по дате\n",
    "\n",
    "sample_b_events = sample_b_events[sample_b_events['event_dt'] <= sample_b_events['max_dt_for_test']]"
   ]
  },
  {
   "cell_type": "code",
   "execution_count": 65,
   "id": "ba0f238b",
   "metadata": {},
   "outputs": [
    {
     "data": {
      "image/png": "[encoded data removed]",
      "text/plain": [
       "<Figure size 720x720 with 2 Axes>"
      ]
     },
     "metadata": {
      "needs_background": "dark"
     },
     "output_type": "display_data"
    }
   ],
   "source": [
    "# построим гистограммы распределения пользователей по дате событий(действий)\n",
    "\n",
    "plt.figure(figsize=(10, 10))\n",
    "\n",
    "plt.subplot(2, 1, 1)\n",
    "\n",
    "ax = sample_a_events['event_dt'].hist(bins=14)\n",
    "\n",
    "hist_set(title='Активность пользователей группы А',\n",
    "            xlabel='дата',\n",
    "            ylabel='количество пользователей')\n",
    "\n",
    "plt.subplot(2, 1, 2)\n",
    "\n",
    "ax = sample_b_events['event_dt'].hist(bins=14)\n",
    "\n",
    "hist_set(title='Активность пользователей группы В',\n",
    "            xlabel='дата',\n",
    "            ylabel='количество пользователей')\n",
    "plt.subplots_adjust(hspace=0.35);"
   ]
  },
  {
   "cell_type": "markdown",
   "id": "38077f26",
   "metadata": {},
   "source": [
    "Видим различия в распределении активности(событий) пользователей. В контрольной выборке пик активности приходится на середину теста и сниженная активность в начале и в конце теста. В тестовой пики в начале и в середине теста, к концу теста спад активности. Подобное различие может говорить о поведенчиских различиях пользователей в разных группах."
   ]
  },
  {
   "cell_type": "code",
   "execution_count": 66,
   "id": "acbcd8fe",
   "metadata": {},
   "outputs": [
    {
     "data": {
      "image/png": "[encoded data removed]",
      "text/plain": [
       "<Figure size 1440x720 with 8 Axes>"
      ]
     },
     "metadata": {
      "needs_background": "dark"
     },
     "output_type": "display_data"
    }
   ],
   "source": [
    "# построим гистограммы распределения пользователей по дате по отдельным событиям(действиям)\n",
    "\n",
    "plt.figure(figsize=(20, 10))\n",
    "\n",
    "hist_counter = 1\n",
    "\n",
    "for sample in [sample_a_events, sample_b_events]:\n",
    "    for event in final_ab_events['event_name'].unique():\n",
    "        tmp_sample = sample[sample['event_name'] == event]\n",
    "        \n",
    "        plt.subplot(2, 4, hist_counter)\n",
    "        \n",
    "        ax = tmp_sample['event_dt'].hist(bins=14)\n",
    "\n",
    "        if hist_counter == 1:\n",
    "             hist_set(title=events_dict[event],\n",
    "                 xlabel='',\n",
    "                 ylabel='количество пользователей')\n",
    "        elif hist_counter == 5:\n",
    "            hist_set(title=events_dict[event],\n",
    "                 xlabel='дата',\n",
    "                 ylabel='количество пользователей')\n",
    "        elif hist_counter > 5:\n",
    "            hist_set(title=events_dict[event],\n",
    "                 xlabel='дата',\n",
    "                 ylabel='')\n",
    "        else:\n",
    "            hist_set(title=events_dict[event],\n",
    "                 xlabel='',\n",
    "                 ylabel='')\n",
    "            \n",
    "        plt.subplots_adjust(hspace=0.5)\n",
    "        plt.xticks(rotation = 45)\n",
    "        \n",
    "        hist_counter += 1"
   ]
  },
  {
   "cell_type": "markdown",
   "id": "a63ea092",
   "metadata": {},
   "source": [
    "Видим схожее распределение по каждому наименованию события"
   ]
  },
  {
   "cell_type": "markdown",
   "id": "51b08802",
   "metadata": {},
   "source": [
    "# Исследовательский анализ"
   ]
  },
  {
   "cell_type": "markdown",
   "id": "60a72ca3",
   "metadata": {},
   "source": [
    "## Количество событий на пользователя"
   ]
  },
  {
   "cell_type": "markdown",
   "id": "57bd1f2e",
   "metadata": {},
   "source": [
    "Посчитаем количество пользователей которые зарегистрировались, совершали какие-либо действия"
   ]
  },
  {
   "cell_type": "code",
   "execution_count": 67,
   "id": "a3d3f18b",
   "metadata": {},
   "outputs": [],
   "source": [
    "# группа А\n",
    "\n",
    "a_reg = sample_a_reg['user_id'].nunique()"
   ]
  },
  {
   "cell_type": "code",
   "execution_count": 68,
   "id": "8c4baf96",
   "metadata": {},
   "outputs": [],
   "source": [
    "a_events = sample_a_events['user_id'].nunique()"
   ]
  },
  {
   "cell_type": "code",
   "execution_count": 69,
   "id": "9353e477",
   "metadata": {},
   "outputs": [
    {
     "name": "stdout",
     "output_type": "stream",
     "text": [
      "зарегистрировалось: 3195\n",
      "совершили какое-либо действие: 2279\n",
      "совершили какое-либо действие 0.71% зарегистрировавшихся пользователей\n"
     ]
    }
   ],
   "source": [
    "print(f'зарегистрировалось: {a_reg}')\n",
    "print(f'совершили какое-либо действие: {a_events}')\n",
    "print(f'совершили какое-либо действие {round(a_events/a_reg, 2)}% зарегистрировавшихся пользователей')"
   ]
  },
  {
   "cell_type": "code",
   "execution_count": 70,
   "id": "03f5accd",
   "metadata": {},
   "outputs": [
    {
     "name": "stdout",
     "output_type": "stream",
     "text": [
      "Уникальных событий на пользователя (среднее):\n",
      " 2.3\n"
     ]
    }
   ],
   "source": [
    "# количество уникальных событий на пользователя\n",
    "\n",
    "print('Уникальных событий на пользователя (среднее):\\n',\n",
    "round(sample_a_events.groupby('user_id').agg({'event_name':'nunique'})['event_name'].mean(), 1))"
   ]
  },
  {
   "cell_type": "code",
   "execution_count": 71,
   "id": "bccba6d8",
   "metadata": {},
   "outputs": [
    {
     "name": "stdout",
     "output_type": "stream",
     "text": [
      "Среднее количество событий на пользователя (медиана):\n",
      " 6.0\n"
     ]
    }
   ],
   "source": [
    "a_events_per_user = sample_a_events.groupby('user_id').agg({'event_name':'count'})\n",
    "\n",
    "print('Среднее количество событий на пользователя (медиана):\\n',\n",
    "np.percentile(a_events_per_user['event_name'], 50))"
   ]
  },
  {
   "cell_type": "code",
   "execution_count": 72,
   "id": "8d78b4ac",
   "metadata": {},
   "outputs": [
    {
     "data": {
      "image/png": "[encoded data removed]",
      "text/plain": [
       "<Figure size 432x432 with 1 Axes>"
      ]
     },
     "metadata": {
      "needs_background": "dark"
     },
     "output_type": "display_data"
    }
   ],
   "source": [
    "plt.figure(figsize=(6, 6))\n",
    "\n",
    "ax = a_events_per_user['event_name'].hist(bins=10)\n",
    "\n",
    "hist_set(title='количество дейсвий пользователя',\n",
    "                 xlabel='количество действий',\n",
    "                 ylabel='количество пользователей')\n",
    "plt.axvline(x= np.percentile(a_events_per_user['event_name'], 50),  linestyle = 'dashed' ,\n",
    "           color = 'r', alpha=0.5);"
   ]
  },
  {
   "cell_type": "markdown",
   "id": "ec9fc77f",
   "metadata": {},
   "source": [
    "В большинстве случаев пользователи совершали до 10 действий"
   ]
  },
  {
   "cell_type": "markdown",
   "id": "424f58e0",
   "metadata": {},
   "source": [
    "___"
   ]
  },
  {
   "cell_type": "code",
   "execution_count": 73,
   "id": "8983b673",
   "metadata": {},
   "outputs": [],
   "source": [
    "# группа В\n",
    "\n",
    "b_reg = sample_b_reg['user_id'].nunique()"
   ]
  },
  {
   "cell_type": "code",
   "execution_count": 74,
   "id": "7dcf6f3e",
   "metadata": {},
   "outputs": [],
   "source": [
    "b_events = sample_b_events['user_id'].nunique()"
   ]
  },
  {
   "cell_type": "code",
   "execution_count": 75,
   "id": "036b5323",
   "metadata": {},
   "outputs": [
    {
     "name": "stdout",
     "output_type": "stream",
     "text": [
      "зарегистрировалось: 2373\n",
      "совершили какое-либо действие: 771\n",
      "совершили какое-либо действие 0.32% зарегистрировавшихся пользователей\n"
     ]
    }
   ],
   "source": [
    "print(f'зарегистрировалось: {b_reg}')\n",
    "print(f'совершили какое-либо действие: {b_events}')\n",
    "print(f'совершили какое-либо действие {round(b_events/b_reg, 2)}% зарегистрировавшихся пользователей')"
   ]
  },
  {
   "cell_type": "code",
   "execution_count": 76,
   "id": "6924be0a",
   "metadata": {},
   "outputs": [
    {
     "name": "stdout",
     "output_type": "stream",
     "text": [
      "Уникальных событий на пользователя (среднее):\n",
      " 2.1\n"
     ]
    }
   ],
   "source": [
    "# количество уникальных событий на пользователя\n",
    "\n",
    "print('Уникальных событий на пользователя (среднее):\\n',\n",
    "round(sample_b_events.groupby('user_id').agg({'event_name':'nunique'})['event_name'].mean(), 1))"
   ]
  },
  {
   "cell_type": "code",
   "execution_count": 77,
   "id": "66cc05f7",
   "metadata": {},
   "outputs": [
    {
     "name": "stdout",
     "output_type": "stream",
     "text": [
      "Среднее количество событий на пользователя (медиана):\n",
      " 4.0\n"
     ]
    }
   ],
   "source": [
    "b_events_per_user = sample_b_events.groupby('user_id').agg({'event_name':'count'})\n",
    "\n",
    "print('Среднее количество событий на пользователя (медиана):\\n',\n",
    "np.percentile(b_events_per_user['event_name'], 50))"
   ]
  },
  {
   "cell_type": "code",
   "execution_count": 78,
   "id": "1d24aa09",
   "metadata": {},
   "outputs": [
    {
     "data": {
      "image/png": "[encoded data removed]",
      "text/plain": [
       "<Figure size 432x432 with 1 Axes>"
      ]
     },
     "metadata": {
      "needs_background": "dark"
     },
     "output_type": "display_data"
    }
   ],
   "source": [
    "plt.figure(figsize=(6, 6))\n",
    "\n",
    "ax = b_events_per_user['event_name'].hist(bins=10)\n",
    "\n",
    "hist_set(title='количество дейсвий пользователя',\n",
    "                 xlabel='количество действий',\n",
    "                 ylabel='количество пользователей')\n",
    "plt.axvline(x= np.percentile(b_events_per_user['event_name'], 50),  linestyle = 'dashed' ,\n",
    "           color = 'r', alpha=0.5);"
   ]
  },
  {
   "cell_type": "markdown",
   "id": "709727f2",
   "metadata": {},
   "source": [
    "В большинстве случаев пользователи совершали до 10 действий, но в отличие от группы А пик приходится на 1-2 события."
   ]
  },
  {
   "cell_type": "markdown",
   "id": "dd778162",
   "metadata": {},
   "source": [
    "__Можем отметить:__\n",
    "- схожее среднее количество уникальных события на пользователя; \n",
    "- в контрольной группе среднее(медиана) количество событий на пользователя больше."
   ]
  },
  {
   "cell_type": "markdown",
   "id": "1bfbab53",
   "metadata": {},
   "source": [
    "## Как число событий в выборках распределено по дням"
   ]
  },
  {
   "cell_type": "markdown",
   "id": "0e3d6928",
   "metadata": {},
   "source": [
    "Ранее отмечали различия в распределении активности(событий) пользователей. В контрольной выборке пик активности приходится на середину теста и сниженная активность в начале и в конце теста. <br/> В тестовой пики в начале и в середине теста к концу теста спад активности.<br/> Подобное различие может говорить о поведенчиских различиях пользователей в разных группах."
   ]
  },
  {
   "cell_type": "markdown",
   "id": "658eb48b",
   "metadata": {},
   "source": [
    "__Посчитаем сколько дней понадобилось пользователям для совершения первого действия__"
   ]
  },
  {
   "cell_type": "code",
   "execution_count": 79,
   "id": "e6f993a6",
   "metadata": {},
   "outputs": [
    {
     "data": {
      "text/plain": [
       "(23082, 4)"
      ]
     },
     "execution_count": 79,
     "metadata": {},
     "output_type": "execute_result"
    }
   ],
   "source": [
    "# отфильтруем действия только пользователей участвующих в эксперименте\n",
    "\n",
    "events_participiant = final_ab_participant[['user_id', 'group']].\\\n",
    "    merge(final_ab_events[['user_id', 'event_dt', 'event_name']], on='user_id', how='left')\n",
    "\n",
    "events_participiant.shape"
   ]
  },
  {
   "cell_type": "code",
   "execution_count": 80,
   "id": "01f1bdc5",
   "metadata": {},
   "outputs": [],
   "source": [
    "#  оставим только первое уникалльное действие\n",
    "\n",
    "events_participiant = events_participiant\\\n",
    "    .groupby(['user_id', 'event_name', 'group'], as_index=False).agg({'event_dt':'min'})"
   ]
  },
  {
   "cell_type": "code",
   "execution_count": 81,
   "id": "6d5c3687",
   "metadata": {},
   "outputs": [],
   "source": [
    "# добавим дату регистрации\n",
    "\n",
    "events_participiant_new_user = events_participiant.\\\n",
    "    merge(final_ab_new_users[['user_id', 'first_date', 'device', 'region']], on='user_id', how='left')"
   ]
  },
  {
   "cell_type": "code",
   "execution_count": 82,
   "id": "d0fcdaef",
   "metadata": {},
   "outputs": [],
   "source": [
    "# преобразуем дату\n",
    "\n",
    "events_participiant_new_user['event_date'] = (\n",
    "    pd.to_datetime(events_participiant_new_user['event_dt'].dt.date))"
   ]
  },
  {
   "cell_type": "code",
   "execution_count": 83,
   "id": "48420ddf",
   "metadata": {
    "scrolled": false
   },
   "outputs": [],
   "source": [
    "# определим сколько дней прошло с даты регистрации до даты первого уникального действия\n",
    "\n",
    "events_participiant_new_user['event_from_first_date'] = (\n",
    "    events_participiant_new_user['event_date'] - events_participiant_new_user['first_date']  \n",
    ")"
   ]
  },
  {
   "cell_type": "code",
   "execution_count": 84,
   "id": "a27bb226",
   "metadata": {},
   "outputs": [],
   "source": [
    "def percent_event(events_participiant_new_user):\n",
    "    # посчитаем сколько уникальных действий происходило в день с момента регистрации\n",
    "\n",
    "    event_from_first_date_gr = events_participiant_new_user\\\n",
    "        .groupby(['event_from_first_date', 'event_name'], as_index=False)\\\n",
    "        .agg({'user_id':'nunique'})\\\n",
    "        .rename(columns={'user_id':'number_of_events'})\n",
    "    \n",
    "    # преобразуем дату \n",
    "\n",
    "    event_from_first_date_gr['event_from_first_date'] = (\n",
    "        event_from_first_date_gr['event_from_first_date'].dt.days.astype('int')\n",
    "                                                        )\n",
    "    \n",
    "    # агрегируем количество действий по событиям\n",
    "\n",
    "    event_from_first_date_gr_total = event_from_first_date_gr\\\n",
    "        .groupby('event_name', as_index=False)['number_of_events'].sum()\\\n",
    "        .rename(columns={'number_of_events':'number_of_events_total'})\n",
    "    \n",
    "    # объединим датафреймы (к количеству действий по дням добавим общее количество действий)\n",
    "\n",
    "    event_from_first_date_gr = event_from_first_date_gr\\\n",
    "        .merge(event_from_first_date_gr_total, on='event_name')\n",
    "    \n",
    "    # посчитаем % по дням\n",
    "\n",
    "    event_from_first_date_gr['percent_events'] = (\n",
    "        event_from_first_date_gr.eval('((number_of_events/number_of_events_total)*100)').round(2)\n",
    "                                                 )\n",
    "    # Построим график\n",
    "\n",
    "    fig, ax = plt.subplots(figsize= (16, 8))\n",
    "    \n",
    "    counter = 1\n",
    "    \n",
    "    x_lim = event_from_first_date_gr['event_from_first_date'].max()\n",
    "    \n",
    "    for event in event_from_first_date_gr['event_name'].unique():\n",
    "        tmp_df = event_from_first_date_gr.query('event_name == @event')\n",
    "        ax = plt.subplot(2, 2, counter)\n",
    "        plt.bar(tmp_df['event_from_first_date'], tmp_df['percent_events'])\n",
    "        counter +=1\n",
    "        \n",
    "        plt.xlim(0, x_lim)\n",
    "\n",
    "        # заголовок\n",
    "        plt.title(events_dict[event], size = 16, loc='left',\n",
    "                      y= 1.05, x = -0.08 )\n",
    "        plt.xlabel('дней с момента регистрации', color = 'grey')\n",
    "        plt.ylabel('%', color='grey')\n",
    "        plt.subplots_adjust(hspace=0.35)\n",
    "\n",
    "        ax.spines['top'].set_visible(False)\n",
    "        ax.spines['left'].set_visible(False)\n",
    "        ax.spines['right'].set_visible(False)\n",
    "        ax.spines['bottom'].set_color('grey') #  цвет лини оси X\n",
    "\n",
    "        plt.grid(True, alpha=0.2, axis='y') # отображение сетки\n",
    "        ax.tick_params(colors='grey', labelsize = 10) # настройка значений осей"
   ]
  },
  {
   "cell_type": "code",
   "execution_count": 85,
   "id": "0cfcb605",
   "metadata": {},
   "outputs": [
    {
     "name": "stdout",
     "output_type": "stream",
     "text": [
      "Группа А\n"
     ]
    },
    {
     "data": {
      "image/png": "[encoded data removed]",
      "text/plain": [
       "<Figure size 1152x576 with 4 Axes>"
      ]
     },
     "metadata": {
      "needs_background": "dark"
     },
     "output_type": "display_data"
    }
   ],
   "source": [
    "percent_event(events_participiant_new_user.query('group == \"A\"'))\n",
    "print('Группа А')"
   ]
  },
  {
   "cell_type": "code",
   "execution_count": 86,
   "id": "4a138685",
   "metadata": {},
   "outputs": [
    {
     "name": "stdout",
     "output_type": "stream",
     "text": [
      "Группа В\n"
     ]
    },
    {
     "data": {
      "image/png": "[encoded data removed]",
      "text/plain": [
       "<Figure size 1152x576 with 4 Axes>"
      ]
     },
     "metadata": {
      "needs_background": "dark"
     },
     "output_type": "display_data"
    }
   ],
   "source": [
    "percent_event(events_participiant_new_user.query('group == \"B\"'))\n",
    "print('Группа В')"
   ]
  },
  {
   "cell_type": "markdown",
   "id": "841fc67c",
   "metadata": {},
   "source": [
    "__Можно отметить:__\n",
    "- практически 99% пользователей совершали первое уникальное действие в день регистрации\n",
    "- менее 1% пользователей в тестовой группе понадобилось больше времени для совершения первого события чем в контрольной.\n",
    "- опять же возникает вопрос к метрикам теста, что именно мы хотели проверить за 14 дней!"
   ]
  },
  {
   "cell_type": "markdown",
   "id": "bd036475",
   "metadata": {},
   "source": [
    "## Как меняется конверсия в воронке в выборках на разных этапах"
   ]
  },
  {
   "cell_type": "markdown",
   "id": "5c3f09fa",
   "metadata": {},
   "source": [
    "Всего собыитий"
   ]
  },
  {
   "cell_type": "code",
   "execution_count": 87,
   "id": "96690d45",
   "metadata": {},
   "outputs": [
    {
     "data": {
      "text/plain": [
       "login           6964\n",
       "product_page    4477\n",
       "purchase        2194\n",
       "product_cart    2091\n",
       "Name: event_name, dtype: int64"
      ]
     },
     "execution_count": 87,
     "metadata": {},
     "output_type": "execute_result"
    }
   ],
   "source": [
    "# группа А\n",
    "\n",
    "sample_a_events['event_name'].value_counts()"
   ]
  },
  {
   "cell_type": "markdown",
   "id": "af24d3c0",
   "metadata": {},
   "source": [
    "Видим, количество покупок больше чем количество просмотров карзины"
   ]
  },
  {
   "cell_type": "code",
   "execution_count": 88,
   "id": "cdfec074",
   "metadata": {},
   "outputs": [
    {
     "data": {
      "text/plain": [
       "login           2004\n",
       "product_page    1059\n",
       "product_cart     535\n",
       "purchase         525\n",
       "Name: event_name, dtype: int64"
      ]
     },
     "execution_count": 88,
     "metadata": {},
     "output_type": "execute_result"
    }
   ],
   "source": [
    "# группа B\n",
    "\n",
    "sample_b_events['event_name'].value_counts()"
   ]
  },
  {
   "cell_type": "markdown",
   "id": "9682a320",
   "metadata": {},
   "source": [
    "___"
   ]
  },
  {
   "cell_type": "markdown",
   "id": "028840d4",
   "metadata": {},
   "source": [
    "Сколько пользователей совершали каждое из событий"
   ]
  },
  {
   "cell_type": "code",
   "execution_count": 89,
   "id": "88ffe741",
   "metadata": {},
   "outputs": [
    {
     "data": {
      "text/html": [
       "<div>\n",
       "<style scoped>\n",
       "    .dataframe tbody tr th:only-of-type {\n",
       "        vertical-align: middle;\n",
       "    }\n",
       "\n",
       "    .dataframe tbody tr th {\n",
       "        vertical-align: top;\n",
       "    }\n",
       "\n",
       "    .dataframe thead th {\n",
       "        text-align: right;\n",
       "    }\n",
       "</style>\n",
       "<table border=\"1\" class=\"dataframe\">\n",
       "  <thead>\n",
       "    <tr style=\"text-align: right;\">\n",
       "      <th></th>\n",
       "      <th>users_a</th>\n",
       "      <th>%_of_events</th>\n",
       "    </tr>\n",
       "    <tr>\n",
       "      <th>event_name</th>\n",
       "      <th></th>\n",
       "      <th></th>\n",
       "    </tr>\n",
       "  </thead>\n",
       "  <tbody>\n",
       "    <tr>\n",
       "      <th>login</th>\n",
       "      <td>2279</td>\n",
       "      <td>100.00</td>\n",
       "    </tr>\n",
       "    <tr>\n",
       "      <th>product_page</th>\n",
       "      <td>1476</td>\n",
       "      <td>64.77</td>\n",
       "    </tr>\n",
       "    <tr>\n",
       "      <th>purchase</th>\n",
       "      <td>734</td>\n",
       "      <td>32.21</td>\n",
       "    </tr>\n",
       "    <tr>\n",
       "      <th>product_cart</th>\n",
       "      <td>686</td>\n",
       "      <td>30.10</td>\n",
       "    </tr>\n",
       "  </tbody>\n",
       "</table>\n",
       "</div>"
      ],
      "text/plain": [
       "              users_a  %_of_events\n",
       "event_name                        \n",
       "login            2279       100.00\n",
       "product_page     1476        64.77\n",
       "purchase          734        32.21\n",
       "product_cart      686        30.10"
      ]
     },
     "execution_count": 89,
     "metadata": {},
     "output_type": "execute_result"
    }
   ],
   "source": [
    "# группа А\n",
    "\n",
    "a_event_users = sample_a_events.groupby('event_name').agg({'user_id':'nunique'})\\\n",
    "    .rename(columns={'user_id':'users_a'})\\\n",
    "    .sort_values(by = 'users_a',ascending=False)\n",
    "\n",
    "# добавим столбец с % от общих событий\n",
    "\n",
    "a_event_users['%_of_events'] = a_event_users.eval('(users_a/@a_events)*100').map(lambda x: round(x, 2))\n",
    "a_event_users"
   ]
  },
  {
   "cell_type": "code",
   "execution_count": 90,
   "id": "4d38c32b",
   "metadata": {
    "scrolled": true
   },
   "outputs": [],
   "source": [
    "# индексы для правильного вывода столбцов\n",
    "\n",
    "events_sort = pd.Series(np.arange(0, 4),\n",
    "                       index=['login', 'product_page', 'product_cart', 'purchase'])"
   ]
  },
  {
   "cell_type": "code",
   "execution_count": 91,
   "id": "c3fdcedb",
   "metadata": {},
   "outputs": [
    {
     "data": {
      "text/plain": [
       "event_name\n",
       "login           100.00\n",
       "product_page     64.77\n",
       "product_cart     30.10\n",
       "purchase         32.21\n",
       "Name: %_of_events, dtype: float64"
      ]
     },
     "execution_count": 91,
     "metadata": {},
     "output_type": "execute_result"
    }
   ],
   "source": [
    "a_funnel = a_event_users['%_of_events']\n",
    "a_funnel = a_funnel[a_funnel.index.map(events_sort)]\n",
    "a_funnel"
   ]
  },
  {
   "cell_type": "code",
   "execution_count": 92,
   "id": "f5ef5bc3",
   "metadata": {},
   "outputs": [],
   "source": [
    "# функция строит график воронки\n",
    "\n",
    "def funnel(x = a_funnel.values,\n",
    "          title = '\\n группа А',\n",
    "           color = 'grey'\n",
    "          ):\n",
    "    \n",
    "    fig, ax = plt.subplots(figsize = (6,6))\n",
    "    \n",
    "\n",
    "    y = [4, 3, 2, 1]\n",
    "\n",
    "    x_max = 100\n",
    "    x_min = 0\n",
    "\n",
    "    for idx, val in enumerate(x):\n",
    "        left = (x_max - val)/2\n",
    "        plt.barh(y[idx], x[idx], left = left, color=color, height=.9, alpha=0.8)\n",
    "\n",
    "        plt.text(50, y[idx]-.05, x[idx], ha='center',\n",
    "                 fontsize=12, color='#2A2A2A', alpha=0.8)    \n",
    "    \n",
    "    plt.yticks([4, 3, 2, 1], ['login', 'product_page',\n",
    "                              'product_cart', 'purchase'])\n",
    "    plt.xlabel('%', color='grey')\n",
    "    plt.ylabel('наименование события', color='grey')\n",
    "    plt.title(title, size = 16, loc='left',\n",
    "                  y= 1.05, x = -0.08 )\n",
    "    plt.xlim(x_min, x_max)\n",
    "    \n",
    "    ax.tick_params(colors='grey', labelsize = 10) # настройка значений осей\n",
    "    \n",
    "    ax.spines['top'].set_visible(False)\n",
    "    ax.spines['left'].set_visible(False)\n",
    "    ax.spines['right'].set_visible(False)\n",
    "    ax.spines['bottom'].set_color('grey') #  цвет лини оси X;"
   ]
  },
  {
   "cell_type": "code",
   "execution_count": 93,
   "id": "d72cc37d",
   "metadata": {},
   "outputs": [
    {
     "data": {
      "image/png": "[encoded data removed]",
      "text/plain": [
       "<Figure size 432x432 with 1 Axes>"
      ]
     },
     "metadata": {
      "needs_background": "dark"
     },
     "output_type": "display_data"
    }
   ],
   "source": [
    "funnel(color = '#ed8939')"
   ]
  },
  {
   "cell_type": "code",
   "execution_count": 94,
   "id": "53dbe9b3",
   "metadata": {
    "scrolled": true
   },
   "outputs": [
    {
     "data": {
      "text/html": [
       "<div>\n",
       "<style scoped>\n",
       "    .dataframe tbody tr th:only-of-type {\n",
       "        vertical-align: middle;\n",
       "    }\n",
       "\n",
       "    .dataframe tbody tr th {\n",
       "        vertical-align: top;\n",
       "    }\n",
       "\n",
       "    .dataframe thead th {\n",
       "        text-align: right;\n",
       "    }\n",
       "</style>\n",
       "<table border=\"1\" class=\"dataframe\">\n",
       "  <thead>\n",
       "    <tr style=\"text-align: right;\">\n",
       "      <th></th>\n",
       "      <th>users_b</th>\n",
       "      <th>%_of_events</th>\n",
       "    </tr>\n",
       "    <tr>\n",
       "      <th>event_name</th>\n",
       "      <th></th>\n",
       "      <th></th>\n",
       "    </tr>\n",
       "  </thead>\n",
       "  <tbody>\n",
       "    <tr>\n",
       "      <th>login</th>\n",
       "      <td>770</td>\n",
       "      <td>99.87</td>\n",
       "    </tr>\n",
       "    <tr>\n",
       "      <th>product_page</th>\n",
       "      <td>429</td>\n",
       "      <td>55.64</td>\n",
       "    </tr>\n",
       "    <tr>\n",
       "      <th>purchase</th>\n",
       "      <td>219</td>\n",
       "      <td>28.40</td>\n",
       "    </tr>\n",
       "    <tr>\n",
       "      <th>product_cart</th>\n",
       "      <td>214</td>\n",
       "      <td>27.76</td>\n",
       "    </tr>\n",
       "  </tbody>\n",
       "</table>\n",
       "</div>"
      ],
      "text/plain": [
       "              users_b  %_of_events\n",
       "event_name                        \n",
       "login             770        99.87\n",
       "product_page      429        55.64\n",
       "purchase          219        28.40\n",
       "product_cart      214        27.76"
      ]
     },
     "execution_count": 94,
     "metadata": {},
     "output_type": "execute_result"
    }
   ],
   "source": [
    "# группа B\n",
    "\n",
    "b_event_users = sample_b_events.groupby('event_name').agg({'user_id':'nunique'})\\\n",
    "    .rename(columns={'user_id':'users_b'})\\\n",
    "    .sort_values(by = 'users_b',ascending=False)\n",
    "\n",
    "# добавим столбец с % от общих событий\n",
    "\n",
    "b_event_users['%_of_events'] = b_event_users.eval('(users_b/@b_events)*100').map(lambda x: round(x, 2))\n",
    "b_event_users"
   ]
  },
  {
   "cell_type": "code",
   "execution_count": 95,
   "id": "f01d36e9",
   "metadata": {},
   "outputs": [
    {
     "data": {
      "text/plain": [
       "event_name\n",
       "login           99.87\n",
       "product_page    55.64\n",
       "product_cart    27.76\n",
       "purchase        28.40\n",
       "Name: %_of_events, dtype: float64"
      ]
     },
     "execution_count": 95,
     "metadata": {},
     "output_type": "execute_result"
    }
   ],
   "source": [
    "b_funnel = b_event_users['%_of_events']\n",
    "b_funnel = b_funnel[b_funnel.index.map(events_sort)]\n",
    "b_funnel"
   ]
  },
  {
   "cell_type": "code",
   "execution_count": 96,
   "id": "f0f7d1aa",
   "metadata": {},
   "outputs": [
    {
     "data": {
      "image/png": "[encoded data removed]",
      "text/plain": [
       "<Figure size 432x432 with 1 Axes>"
      ]
     },
     "metadata": {
      "needs_background": "dark"
     },
     "output_type": "display_data"
    }
   ],
   "source": [
    "funnel(x = b_funnel.values,\n",
    "       title='\\n группа В',\n",
    "    color = '#3c76af')"
   ]
  },
  {
   "cell_type": "markdown",
   "id": "5eed77c7",
   "metadata": {},
   "source": [
    "__Можно обратить внимание:__\n",
    "- не все пользователи проходили логирование;\n",
    "- покупок больше чем переходов в корзину."
   ]
  },
  {
   "cell_type": "code",
   "execution_count": 97,
   "id": "e4d3338c",
   "metadata": {},
   "outputs": [],
   "source": [
    "# Посмотрим какие события совершал данный пользователь\n",
    "\n",
    "# Сформируем список всех пользователей проходивших логирование\n",
    "\n",
    "u_id = sample_b_events.query('event_name == \"login\"')['user_id'].unique()"
   ]
  },
  {
   "cell_type": "code",
   "execution_count": 98,
   "id": "57f0d326",
   "metadata": {
    "scrolled": true
   },
   "outputs": [
    {
     "data": {
      "text/html": [
       "<div>\n",
       "<style scoped>\n",
       "    .dataframe tbody tr th:only-of-type {\n",
       "        vertical-align: middle;\n",
       "    }\n",
       "\n",
       "    .dataframe tbody tr th {\n",
       "        vertical-align: top;\n",
       "    }\n",
       "\n",
       "    .dataframe thead th {\n",
       "        text-align: right;\n",
       "    }\n",
       "</style>\n",
       "<table border=\"1\" class=\"dataframe\">\n",
       "  <thead>\n",
       "    <tr style=\"text-align: right;\">\n",
       "      <th></th>\n",
       "      <th>user_id</th>\n",
       "      <th>event_dt</th>\n",
       "      <th>event_name</th>\n",
       "      <th>details</th>\n",
       "      <th>first_date</th>\n",
       "      <th>max_dt_for_test</th>\n",
       "    </tr>\n",
       "  </thead>\n",
       "  <tbody>\n",
       "    <tr>\n",
       "      <th>44</th>\n",
       "      <td>5FF8B6AB257B404F</td>\n",
       "      <td>2020-12-07 04:17:47</td>\n",
       "      <td>purchase</td>\n",
       "      <td>4.99</td>\n",
       "      <td>2020-12-07</td>\n",
       "      <td>2020-12-21</td>\n",
       "    </tr>\n",
       "  </tbody>\n",
       "</table>\n",
       "</div>"
      ],
      "text/plain": [
       "             user_id            event_dt event_name  details first_date  \\\n",
       "44  5FF8B6AB257B404F 2020-12-07 04:17:47   purchase     4.99 2020-12-07   \n",
       "\n",
       "   max_dt_for_test  \n",
       "44      2020-12-21  "
      ]
     },
     "execution_count": 98,
     "metadata": {},
     "output_type": "execute_result"
    }
   ],
   "source": [
    "# отфильтруем пользователей проходивших логирование\n",
    "\n",
    "sample_b_events[~sample_b_events['user_id'].isin(u_id)]"
   ]
  },
  {
   "cell_type": "code",
   "execution_count": 99,
   "id": "365f3987",
   "metadata": {},
   "outputs": [
    {
     "data": {
      "text/html": [
       "<div>\n",
       "<style scoped>\n",
       "    .dataframe tbody tr th:only-of-type {\n",
       "        vertical-align: middle;\n",
       "    }\n",
       "\n",
       "    .dataframe tbody tr th {\n",
       "        vertical-align: top;\n",
       "    }\n",
       "\n",
       "    .dataframe thead th {\n",
       "        text-align: right;\n",
       "    }\n",
       "</style>\n",
       "<table border=\"1\" class=\"dataframe\">\n",
       "  <thead>\n",
       "    <tr style=\"text-align: right;\">\n",
       "      <th></th>\n",
       "      <th>user_id</th>\n",
       "      <th>first_date</th>\n",
       "      <th>region</th>\n",
       "      <th>device</th>\n",
       "    </tr>\n",
       "  </thead>\n",
       "  <tbody>\n",
       "    <tr>\n",
       "      <th>4747</th>\n",
       "      <td>5FF8B6AB257B404F</td>\n",
       "      <td>2020-12-07</td>\n",
       "      <td>EU</td>\n",
       "      <td>Android</td>\n",
       "    </tr>\n",
       "  </tbody>\n",
       "</table>\n",
       "</div>"
      ],
      "text/plain": [
       "               user_id first_date region   device\n",
       "4747  5FF8B6AB257B404F 2020-12-07     EU  Android"
      ]
     },
     "execution_count": 99,
     "metadata": {},
     "output_type": "execute_result"
    }
   ],
   "source": [
    "# когда пользователь был зарегистрирован\n",
    "\n",
    "final_ab_new_users[final_ab_new_users['user_id'] == '5FF8B6AB257B404F']"
   ]
  },
  {
   "cell_type": "code",
   "execution_count": 100,
   "id": "eb838eda",
   "metadata": {
    "scrolled": true
   },
   "outputs": [
    {
     "data": {
      "text/html": [
       "<div>\n",
       "<style scoped>\n",
       "    .dataframe tbody tr th:only-of-type {\n",
       "        vertical-align: middle;\n",
       "    }\n",
       "\n",
       "    .dataframe tbody tr th {\n",
       "        vertical-align: top;\n",
       "    }\n",
       "\n",
       "    .dataframe thead th {\n",
       "        text-align: right;\n",
       "    }\n",
       "</style>\n",
       "<table border=\"1\" class=\"dataframe\">\n",
       "  <thead>\n",
       "    <tr style=\"text-align: right;\">\n",
       "      <th></th>\n",
       "      <th>user_id</th>\n",
       "      <th>event_dt</th>\n",
       "      <th>event_name</th>\n",
       "      <th>details</th>\n",
       "    </tr>\n",
       "  </thead>\n",
       "  <tbody>\n",
       "    <tr>\n",
       "      <th>1411</th>\n",
       "      <td>5FF8B6AB257B404F</td>\n",
       "      <td>2020-12-07 04:17:47</td>\n",
       "      <td>purchase</td>\n",
       "      <td>4.99</td>\n",
       "    </tr>\n",
       "    <tr>\n",
       "      <th>53685</th>\n",
       "      <td>5FF8B6AB257B404F</td>\n",
       "      <td>2020-12-25 22:24:44</td>\n",
       "      <td>purchase</td>\n",
       "      <td>4.99</td>\n",
       "    </tr>\n",
       "    <tr>\n",
       "      <th>412914</th>\n",
       "      <td>5FF8B6AB257B404F</td>\n",
       "      <td>2020-12-25 22:24:44</td>\n",
       "      <td>login</td>\n",
       "      <td>NaN</td>\n",
       "    </tr>\n",
       "  </tbody>\n",
       "</table>\n",
       "</div>"
      ],
      "text/plain": [
       "                 user_id            event_dt event_name  details\n",
       "1411    5FF8B6AB257B404F 2020-12-07 04:17:47   purchase     4.99\n",
       "53685   5FF8B6AB257B404F 2020-12-25 22:24:44   purchase     4.99\n",
       "412914  5FF8B6AB257B404F 2020-12-25 22:24:44      login      NaN"
      ]
     },
     "execution_count": 100,
     "metadata": {},
     "output_type": "execute_result"
    }
   ],
   "source": [
    "# какие события совершал пользователь\n",
    "\n",
    "final_ab_events[final_ab_events['user_id'] == '5FF8B6AB257B404F']"
   ]
  },
  {
   "cell_type": "markdown",
   "id": "272e0cf9",
   "metadata": {},
   "source": [
    "__Можно обратить внимание:__\n",
    "- пользователь после регистрации сразу перешел к покупке минуя все остальные этапы;\n",
    "- пользователь совершил покупку сразу после логирования.\n",
    "\n",
    "Можно предположить пользователь совершал покупку переходя по внешней ссылке."
   ]
  },
  {
   "cell_type": "markdown",
   "id": "aefd9dc2",
   "metadata": {},
   "source": [
    "# Особенности данных которые нужно учесть, прежде чем приступать к A/B-тестированию."
   ]
  },
  {
   "cell_type": "markdown",
   "id": "1d0ef1d3",
   "metadata": {},
   "source": [
    "В рамках АВ-теста мы будем проверять статистическую разницу долей z-критерием. Ранее мы выяснили, что проход по всем этапам воронки не является обязательным, так что работать нужно относительно общего числа клиентов."
   ]
  },
  {
   "cell_type": "markdown",
   "id": "66d72ae1",
   "metadata": {},
   "source": [
    "# Оценка результатов A/B-тестирования"
   ]
  },
  {
   "cell_type": "markdown",
   "id": "5903f010",
   "metadata": {},
   "source": [
    "## Результаты A/B-тестирования?"
   ]
  },
  {
   "cell_type": "code",
   "execution_count": 101,
   "id": "3eff9ba6",
   "metadata": {},
   "outputs": [
    {
     "data": {
      "text/html": [
       "<div>\n",
       "<style scoped>\n",
       "    .dataframe tbody tr th:only-of-type {\n",
       "        vertical-align: middle;\n",
       "    }\n",
       "\n",
       "    .dataframe tbody tr th {\n",
       "        vertical-align: top;\n",
       "    }\n",
       "\n",
       "    .dataframe thead th {\n",
       "        text-align: right;\n",
       "    }\n",
       "</style>\n",
       "<table border=\"1\" class=\"dataframe\">\n",
       "  <thead>\n",
       "    <tr style=\"text-align: right;\">\n",
       "      <th></th>\n",
       "      <th>users_a</th>\n",
       "      <th>%_of_events_a</th>\n",
       "      <th>users_b</th>\n",
       "      <th>%_of_events_b</th>\n",
       "      <th>test_result_abs</th>\n",
       "      <th>test_result_rel</th>\n",
       "    </tr>\n",
       "    <tr>\n",
       "      <th>event_name</th>\n",
       "      <th></th>\n",
       "      <th></th>\n",
       "      <th></th>\n",
       "      <th></th>\n",
       "      <th></th>\n",
       "      <th></th>\n",
       "    </tr>\n",
       "  </thead>\n",
       "  <tbody>\n",
       "    <tr>\n",
       "      <th>login</th>\n",
       "      <td>2279</td>\n",
       "      <td>100.00</td>\n",
       "      <td>770</td>\n",
       "      <td>99.87</td>\n",
       "      <td>-0.13</td>\n",
       "      <td>-0.13</td>\n",
       "    </tr>\n",
       "    <tr>\n",
       "      <th>product_page</th>\n",
       "      <td>1476</td>\n",
       "      <td>64.77</td>\n",
       "      <td>429</td>\n",
       "      <td>55.64</td>\n",
       "      <td>-9.13</td>\n",
       "      <td>-14.10</td>\n",
       "    </tr>\n",
       "    <tr>\n",
       "      <th>purchase</th>\n",
       "      <td>734</td>\n",
       "      <td>32.21</td>\n",
       "      <td>219</td>\n",
       "      <td>28.40</td>\n",
       "      <td>-3.81</td>\n",
       "      <td>-11.83</td>\n",
       "    </tr>\n",
       "    <tr>\n",
       "      <th>product_cart</th>\n",
       "      <td>686</td>\n",
       "      <td>30.10</td>\n",
       "      <td>214</td>\n",
       "      <td>27.76</td>\n",
       "      <td>-2.34</td>\n",
       "      <td>-7.77</td>\n",
       "    </tr>\n",
       "  </tbody>\n",
       "</table>\n",
       "</div>"
      ],
      "text/plain": [
       "              users_a  %_of_events_a  users_b  %_of_events_b  test_result_abs  \\\n",
       "event_name                                                                      \n",
       "login            2279         100.00      770          99.87            -0.13   \n",
       "product_page     1476          64.77      429          55.64            -9.13   \n",
       "purchase          734          32.21      219          28.40            -3.81   \n",
       "product_cart      686          30.10      214          27.76            -2.34   \n",
       "\n",
       "              test_result_rel  \n",
       "event_name                     \n",
       "login                   -0.13  \n",
       "product_page           -14.10  \n",
       "purchase               -11.83  \n",
       "product_cart            -7.77  "
      ]
     },
     "execution_count": 101,
     "metadata": {},
     "output_type": "execute_result"
    }
   ],
   "source": [
    "# объединим данные в выборках\n",
    "\n",
    "ab_events = a_event_users.join(b_event_users, lsuffix='_a', rsuffix='_b')\n",
    "\n",
    "# добавим абсолютное и относительное изменение каждой метрики \n",
    "\n",
    "ab_events['test_result_abs'] = ab_events['%_of_events_b'] - ab_events['%_of_events_a']\n",
    "ab_events['test_result_rel'] = (((ab_events['%_of_events_b'] - ab_events['%_of_events_a'])\\\n",
    "    /ab_events['%_of_events_a'])*100).round(2)\n",
    "ab_events"
   ]
  },
  {
   "cell_type": "markdown",
   "id": "148b5f36",
   "metadata": {},
   "source": [
    "Можем отметить результаты в тестовой группе оказались хуже чем в контрольной."
   ]
  },
  {
   "cell_type": "markdown",
   "id": "0cb1b045",
   "metadata": {},
   "source": [
    "## Проверка статистической разницы долей z-критерием"
   ]
  },
  {
   "cell_type": "code",
   "execution_count": 102,
   "id": "1f755d21",
   "metadata": {},
   "outputs": [],
   "source": [
    "# Напишем функцию для расчета Z-критерия\n",
    "\n",
    "def proportion_test(s1, s2, t1, t2, alpha=.05):\n",
    "    \n",
    "    # гурппа successes\n",
    "    successes = np.array([s1, s2])\n",
    "    \n",
    "    # гурппа trials/observations\n",
    "    trials = np.array([t1, t2])\n",
    "    \n",
    "    # пропорция 'успехов' в группе\n",
    "    p1 = successes[0]/trials[0]\n",
    "\n",
    "    p2 = successes[1]/trials[1]\n",
    "    \n",
    "    # пропорция успехов в комбинированном датасете:\n",
    "    p_combined = (successes[0] + successes[1])/ (trials[0] + trials[1])\n",
    "    \n",
    "    # разница пропорций в датасетах\n",
    "    difference = p1 - p2\n",
    "    \n",
    "    # считаем статистику в ст.отклонениях стандартного нормального распределения\n",
    "    z_value = difference / mth.sqrt(p_combined * (1 - p_combined) * (1/trials[0] + 1/trials[1]))\n",
    "    \n",
    "    distr = st.norm(0, 1) \n",
    "\n",
    "    p_value = (1 - distr.cdf(abs(z_value))) * 2\n",
    "\n",
    "    print('p-значение: ', p_value)\n",
    "    \n",
    "    #установим уровень статистической значимости:\n",
    "\n",
    "    alpha = alpha \n",
    "\n",
    "    if p_value < alpha:\n",
    "        print('Отвергаем нулевую гипотезу. Различия есть.')\n",
    "    \n",
    "    else:\n",
    "        print('Не отвергаем нулевую гипотезу, т.е. разницы нет')"
   ]
  },
  {
   "cell_type": "markdown",
   "id": "b2a579ad",
   "metadata": {},
   "source": [
    "Сформулируем гипотезы:\n",
    "\n",
    "- $H_0$: статистически значимых различий в долях пользователей совершивших хотя бы один раз событие нет (группа А и группа В);\n",
    "- $H_1$: различия есть;\n",
    "- $\\alpha$ = 0.05\n",
    "\n",
    "Используем поправку Бонферрони на множественные сравнения.\n",
    "\n",
    "bonferroni_alpha = $\\alpha$ / 4"
   ]
  },
  {
   "cell_type": "code",
   "execution_count": 103,
   "id": "3f7eb978",
   "metadata": {},
   "outputs": [
    {
     "name": "stdout",
     "output_type": "stream",
     "text": [
      "login\n",
      "значение группы 1: 2279.0\n",
      "значение группы 2: 770.0\n",
      "p-значение:  0.08551328290029048\n",
      "Не отвергаем нулевую гипотезу, т.е. разницы нет\n",
      "--------------------------------------------------\n",
      "product_page\n",
      "значение группы 1: 1476.0\n",
      "значение группы 2: 429.0\n",
      "p-значение:  6.120730626113513e-06\n",
      "Отвергаем нулевую гипотезу. Различия есть.\n",
      "--------------------------------------------------\n",
      "purchase\n",
      "значение группы 1: 734.0\n",
      "значение группы 2: 219.0\n",
      "p-значение:  0.048942596376941205\n",
      "Не отвергаем нулевую гипотезу, т.е. разницы нет\n",
      "--------------------------------------------------\n",
      "product_cart\n",
      "значение группы 1: 686.0\n",
      "значение группы 2: 214.0\n",
      "p-значение:  0.21721122664962245\n",
      "Не отвергаем нулевую гипотезу, т.е. разницы нет\n",
      "--------------------------------------------------\n"
     ]
    }
   ],
   "source": [
    "bonferroni_alpha = .05/4\n",
    "\n",
    "for event in ab_events.index:\n",
    "    # присвоим переменным значения количества пользователей совершивших \n",
    "    # хотя бы одно конкретное событие\n",
    "    \n",
    "    a = ab_events.loc[event]['users_a']\n",
    "    b = ab_events.loc[event]['users_b']\n",
    "    \n",
    "    print(event)\n",
    "    print('значение группы 1:', a)\n",
    "    print('значение группы 2:', b)\n",
    "            \n",
    "    proportion_test(a, b, a_events, b_events, bonferroni_alpha)\n",
    "            \n",
    "    print('-'*50)"
   ]
  },
  {
   "cell_type": "markdown",
   "id": "3f49002e",
   "metadata": {},
   "source": [
    "Можем подтвердить статистическую значимость различий между группами клиентов совершавших событие product_page(просмотр карточек товаров)"
   ]
  },
  {
   "cell_type": "markdown",
   "id": "ccb4b470",
   "metadata": {},
   "source": [
    "# Общий вывод"
   ]
  },
  {
   "cell_type": "markdown",
   "id": "8db7166d",
   "metadata": {},
   "source": [
    "В рамках проекта:\n",
    "- оценили корректность проведения А/В теста;\n",
    "- проанализировали результаты.\n",
    "\n",
    "Тестировали: внедрение улучшенной рекомендательной системы;<br/>\n",
    "\n",
    "Предполагаемая аудитория: 6 000 человек;<br/>\n",
    "\n",
    "Ожидаемый эффек: увеличение метрик:\n",
    "    - конверсии в просмотр карточек товаров — событие product_page;\n",
    "    - просмотры корзины — product_cart;\n",
    "    - покупки — purchase.\n",
    "не менее, чем на 10%:\n",
    "\n",
    "**Корректность проведения A/B теста**\n",
    "\n",
    "*Наличие данных:*\n",
    "- Группы: А (контрольная), B (новая платёжная воронка) - данные присутсвуют;\n",
    "- Наличие данных за весь промежуток проведения теста: Данные присутсвуют, можем отметить сущенственное падение объема данных после 29-12-20;\n",
    "\n",
    "*Аудитория*:\n",
    "- 15% новых пользователей из региона EU - менее 15%;\n",
    "- 6000 - менее 6000;\n",
    "- можем отметить, далеко не все из зарегистрировавшихся пользователей прошли дальше регистрации из-за чего итоговая выборка сократилась до 3050 пользователей. 71% участников группы А и 32% участников группы В совершили какое-либо действие после регистрации. Т.к. мы тестируем рекомендательный сервис логичнее было бы отбирать пользователей после посещения главной страницы (или иной на которой начинают работать рекомендации);\n",
    "- выборка изначально поделена неравномерно 57/43;\n",
    "- видим различия в распределении активности(событий) пользователей. В контрольной выборке пик активности приходится на середину теста и сниженная активность в начале и в конце теста. В тестовой, пики в начале и в середине теста к концу теста спад активности. Подобное различие может говорить о поведенчиских различиях пользователей в разных группах. Что опять же говорит о неоптимальности распределения пользователей по группам.\n",
    "\n",
    "\n",
    "*Время проведения теста:*\n",
    "- можем отметить проведение теста в праздничные дни;\n",
    "- можем отметить проведение теста в период маркетинговых активностей. <br/>\n",
    "Проведение теста в данные период может привести к появлению выбросов/аномальных значений и не отражать нормальное поведение пользователей.\n",
    "\n",
    "*Ожидаемый эффек:*\n",
    "- улучшение на 10% - абсолютный или относительный прирост?\n",
    "- у нас есть данные по событиям:<br/>\n",
    "login -- > product_page -- > product_cart --> purchase <br/>\n",
    "В такой логике клиент после логирования попадает на карточку товара;<br/>\n",
    "Мы тестируем рекомендательную систему. После регистрации у нас минимум данных о пользователе, мы еще не успели собрать информацию о его поведении.<br/>\n",
    "Под покупкой подразумевается переход к оформлению покупки(вводу платежных данных) или факт оплаты? Если речь идет о факте оплаты есть риск получить снижение конверсии из-за сбоя проведения оплаты;<br/>\n",
    "**Можем сделать вывод**: пропущен ряд событий, рекомендательная система будет базироваться на небольшом объеме данных о пользователе;<br/>\n",
    "- Обращали внимание, что пользователи после регистрации или логирования стразу переходят к покупкам минуя этап выбора товара. Еще один аргумент в пользу смены механизма отбора пользователей на ранее озвученный.\n",
    "\n",
    "**Можем сделать вывод** о некорректности проведения теста. \n",
    "\n",
    "**Оценка результата**\n",
    "\n",
    "Тестовая группа показала результат хуже контрольной.\n",
    "\n",
    "      абсолюное / относительное значения\n",
    "- login\t              -0.13\t   /    -0.13\n",
    "- product_page\t\t  -9.13\t   /   -14.10\n",
    "- product_cart\t      -2.34    /   -7.77\n",
    "- purchase\t          -3.81\t   /   -11.83\n",
    "\n",
    "Статистическую значимость можем подтвердить только по событию product_page(просмотр карточек товаров)."
   ]
  },
  {
   "cell_type": "code",
   "execution_count": null,
   "id": "7b12cbb4",
   "metadata": {},
   "outputs": [],
   "source": []
  }
 ],
 "metadata": {
  "kernelspec": {
   "display_name": "Python 3",
   "language": "python",
   "name": "python3"
  },
  "language_info": {
   "codemirror_mode": {
    "name": "ipython",
    "version": 3
   },
   "file_extension": ".py",
   "mimetype": "text/x-python",
   "name": "python",
   "nbconvert_exporter": "python",
   "pygments_lexer": "ipython3",
   "version": "3.8.3"
  },
  "toc": {
   "base_numbering": 1,
   "nav_menu": {},
   "number_sections": true,
   "sideBar": true,
   "skip_h1_title": false,
   "title_cell": "Table of Contents",
   "title_sidebar": "Contents",
   "toc_cell": false,
   "toc_position": {
    "height": "calc(100% - 180px)",
    "left": "10px",
    "top": "150px",
    "width": "310.1875px"
   },
   "toc_section_display": true,
   "toc_window_display": true
  }
 },
 "nbformat": 4,
 "nbformat_minor": 5
}
