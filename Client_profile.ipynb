{
 "cells": [
  {
   "cell_type": "markdown",
   "id": "eb5cc500",
   "metadata": {},
   "source": [
    "# Импорт библиотек"
   ]
  },
  {
   "cell_type": "code",
   "execution_count": 1,
   "id": "a5a8eb64",
   "metadata": {},
   "outputs": [],
   "source": [
    "import pandas as pd\n",
    "import numpy as np\n",
    "from scipy.stats import spearmanr\n",
    "from scipy import stats as st\n",
    "import math as mth\n",
    "\n",
    "import matplotlib.pyplot as plt\n",
    "\n",
    "import requests\n",
    "from urllib.parse import urlencode"
   ]
  },
  {
   "cell_type": "markdown",
   "id": "21ea6b3e",
   "metadata": {},
   "source": [
    "# Описание проекта, цели и задачи"
   ]
  },
  {
   "cell_type": "markdown",
   "id": "a0771ebd",
   "metadata": {},
   "source": [
    "**Описание:**\n",
    "\n",
    "Менеджер продукта банка обратил внимание на увеличение оттока клиентов.\n",
    "\n",
    "**Цель:**\n",
    "- провести анализ и выделить сегменты клиентов, которые более склонны к уходу;\n",
    "- сформулировать возможные причины ухода;\n",
    "- сформулировать рекомендации по сокращению оттока."
   ]
  },
  {
   "cell_type": "markdown",
   "id": "2122d10d",
   "metadata": {},
   "source": [
    "# Загрузка данных"
   ]
  },
  {
   "cell_type": "code",
   "execution_count": 3,
   "id": "3688f98b",
   "metadata": {},
   "outputs": [
    {
     "name": "stdout",
     "output_type": "stream",
     "text": [
      "loaded from local source\n"
     ]
    }
   ],
   "source": [
    "# локальный файл\n",
    "\n",
    "try:\n",
    "    data = pd.read_csv('bank_dataset.csv')\n",
    "    \n",
    "    print('loaded from local source')\n",
    "    \n",
    "# Яндекс диск\n",
    "\n",
    "except:\n",
    "    \n",
    "    base_url = 'https://cloud-api.yandex.net/v1/disk/public/resources/download?'\n",
    "    public_key = 'https://disk.yandex.ru/d/JVAJ9uxtV1uydQ'  \n",
    "\n",
    "    # Получаем загрузочную ссылку\n",
    "    \n",
    "    final_url = base_url + urlencode(dict(public_key=public_key))\n",
    "    response = requests.get(final_url)\n",
    "    download_url = response.json()['href']\n",
    "    \n",
    "    \n",
    "    # Загружаем файл и сохраняем его\n",
    "    \n",
    "    data = pd.read_csv(download_url, encoding='UTF-8')\n",
    "    \n",
    "    print('loaded from web source')"
   ]
  },
  {
   "cell_type": "markdown",
   "id": "a67ef47b",
   "metadata": {},
   "source": [
    "## Описание данных"
   ]
  },
  {
   "cell_type": "markdown",
   "id": "401eb2dc",
   "metadata": {},
   "source": [
    "Датасет содержит данные о клиентах банка «Метанпром». Банк располагается в Ярославле и областных городах: Ростов Великий и Рыбинск.\n",
    "\n",
    "**Колонки:**\n",
    "- userid — идентификатор пользователя;\n",
    "- score - баллы кредитного скоринга;\n",
    "- City - город;\n",
    "- Gender - пол;\n",
    "- Age - возраст;\n",
    "- Objects - количество объектов в собственности;\n",
    "- Balance - баланс на счёте;\n",
    "- Products - количество продуктов, которыми пользуется клиент;\n",
    "- CreditCard - есть ли кредитная карта;\n",
    "- Loyalty - активный клиент;\n",
    "- estimated_salary - заработная плата клиента;\n",
    "- Churn - ушёл или нет."
   ]
  },
  {
   "cell_type": "markdown",
   "id": "7e26d49e",
   "metadata": {},
   "source": [
    "# Оценка качества данных, предобработка данных"
   ]
  },
  {
   "cell_type": "code",
   "execution_count": 5,
   "id": "eeb0ab15",
   "metadata": {},
   "outputs": [
    {
     "data": {
      "text/html": [
       "<div>\n",
       "<style scoped>\n",
       "    .dataframe tbody tr th:only-of-type {\n",
       "        vertical-align: middle;\n",
       "    }\n",
       "\n",
       "    .dataframe tbody tr th {\n",
       "        vertical-align: top;\n",
       "    }\n",
       "\n",
       "    .dataframe thead th {\n",
       "        text-align: right;\n",
       "    }\n",
       "</style>\n",
       "<table border=\"1\" class=\"dataframe\">\n",
       "  <thead>\n",
       "    <tr style=\"text-align: right;\">\n",
       "      <th></th>\n",
       "      <th>userid</th>\n",
       "      <th>score</th>\n",
       "      <th>City</th>\n",
       "      <th>Gender</th>\n",
       "      <th>Age</th>\n",
       "      <th>Objects</th>\n",
       "      <th>Balance</th>\n",
       "      <th>Products</th>\n",
       "      <th>CreditCard</th>\n",
       "      <th>Loyalty</th>\n",
       "      <th>estimated_salary</th>\n",
       "      <th>Churn</th>\n",
       "    </tr>\n",
       "  </thead>\n",
       "  <tbody>\n",
       "    <tr>\n",
       "      <th>0</th>\n",
       "      <td>15677338</td>\n",
       "      <td>619</td>\n",
       "      <td>Ярославль</td>\n",
       "      <td>Ж</td>\n",
       "      <td>42</td>\n",
       "      <td>2</td>\n",
       "      <td>NaN</td>\n",
       "      <td>1</td>\n",
       "      <td>1</td>\n",
       "      <td>1</td>\n",
       "      <td>101348.88</td>\n",
       "      <td>1</td>\n",
       "    </tr>\n",
       "  </tbody>\n",
       "</table>\n",
       "</div>"
      ],
      "text/plain": [
       "     userid  score       City Gender  Age  Objects  Balance  Products  \\\n",
       "0  15677338    619  Ярославль      Ж   42        2      NaN         1   \n",
       "\n",
       "   CreditCard  Loyalty  estimated_salary  Churn  \n",
       "0           1        1         101348.88      1  "
      ]
     },
     "execution_count": 5,
     "metadata": {},
     "output_type": "execute_result"
    }
   ],
   "source": [
    "data.head(1)"
   ]
  },
  {
   "cell_type": "markdown",
   "id": "f4f71f02",
   "metadata": {},
   "source": [
    "## Название столбцов"
   ]
  },
  {
   "cell_type": "code",
   "execution_count": 6,
   "id": "26dec5e6",
   "metadata": {},
   "outputs": [],
   "source": [
    "# приведем названия столбцов к нижнему регистру\n",
    "\n",
    "data.columns = [col.lower() for col in data.columns]"
   ]
  },
  {
   "cell_type": "code",
   "execution_count": 7,
   "id": "faf96afa",
   "metadata": {},
   "outputs": [],
   "source": [
    "# разделим названия столбцов из нескольких слов '_'\n",
    "\n",
    "data = data.rename(columns={\n",
    "                            'userid':'user_id',\n",
    "                            'creditcard':'credit_card'\n",
    "                            })"
   ]
  },
  {
   "cell_type": "markdown",
   "id": "1b535950",
   "metadata": {},
   "source": [
    "## Пропущенные значения"
   ]
  },
  {
   "cell_type": "code",
   "execution_count": 8,
   "id": "abfe39da",
   "metadata": {},
   "outputs": [
    {
     "name": "stdout",
     "output_type": "stream",
     "text": [
      "<class 'pandas.core.frame.DataFrame'>\n",
      "RangeIndex: 10000 entries, 0 to 9999\n",
      "Data columns (total 12 columns):\n",
      " #   Column            Non-Null Count  Dtype  \n",
      "---  ------            --------------  -----  \n",
      " 0   user_id           10000 non-null  int64  \n",
      " 1   score             10000 non-null  int64  \n",
      " 2   city              10000 non-null  object \n",
      " 3   gender            10000 non-null  object \n",
      " 4   age               10000 non-null  int64  \n",
      " 5   objects           10000 non-null  int64  \n",
      " 6   balance           6383 non-null   float64\n",
      " 7   products          10000 non-null  int64  \n",
      " 8   credit_card       10000 non-null  int64  \n",
      " 9   loyalty           10000 non-null  int64  \n",
      " 10  estimated_salary  10000 non-null  float64\n",
      " 11  churn             10000 non-null  int64  \n",
      "dtypes: float64(2), int64(8), object(2)\n",
      "memory usage: 937.6+ KB\n"
     ]
    }
   ],
   "source": [
    "data.info()"
   ]
  },
  {
   "cell_type": "code",
   "execution_count": 9,
   "id": "5a102bd2",
   "metadata": {},
   "outputs": [
    {
     "data": {
      "text/html": [
       "<div>\n",
       "<style scoped>\n",
       "    .dataframe tbody tr th:only-of-type {\n",
       "        vertical-align: middle;\n",
       "    }\n",
       "\n",
       "    .dataframe tbody tr th {\n",
       "        vertical-align: top;\n",
       "    }\n",
       "\n",
       "    .dataframe thead th {\n",
       "        text-align: right;\n",
       "    }\n",
       "</style>\n",
       "<table border=\"1\" class=\"dataframe\">\n",
       "  <thead>\n",
       "    <tr style=\"text-align: right;\">\n",
       "      <th></th>\n",
       "      <th>user_id</th>\n",
       "      <th>score</th>\n",
       "      <th>age</th>\n",
       "      <th>objects</th>\n",
       "      <th>balance</th>\n",
       "      <th>products</th>\n",
       "      <th>credit_card</th>\n",
       "      <th>loyalty</th>\n",
       "      <th>estimated_salary</th>\n",
       "      <th>churn</th>\n",
       "    </tr>\n",
       "  </thead>\n",
       "  <tbody>\n",
       "    <tr>\n",
       "      <th>count</th>\n",
       "      <td>1.000000e+04</td>\n",
       "      <td>10000.000000</td>\n",
       "      <td>10000.000000</td>\n",
       "      <td>10000.000000</td>\n",
       "      <td>6383.000000</td>\n",
       "      <td>10000.000000</td>\n",
       "      <td>10000.00000</td>\n",
       "      <td>10000.000000</td>\n",
       "      <td>10000.000000</td>\n",
       "      <td>10000.000000</td>\n",
       "    </tr>\n",
       "    <tr>\n",
       "      <th>mean</th>\n",
       "      <td>1.573368e+07</td>\n",
       "      <td>650.528800</td>\n",
       "      <td>38.921800</td>\n",
       "      <td>5.012800</td>\n",
       "      <td>119827.493793</td>\n",
       "      <td>1.530200</td>\n",
       "      <td>0.70550</td>\n",
       "      <td>0.515100</td>\n",
       "      <td>100090.239881</td>\n",
       "      <td>0.203700</td>\n",
       "    </tr>\n",
       "    <tr>\n",
       "      <th>std</th>\n",
       "      <td>7.193619e+04</td>\n",
       "      <td>96.653299</td>\n",
       "      <td>10.487806</td>\n",
       "      <td>2.892174</td>\n",
       "      <td>30095.056462</td>\n",
       "      <td>0.581654</td>\n",
       "      <td>0.45584</td>\n",
       "      <td>0.499797</td>\n",
       "      <td>57510.492818</td>\n",
       "      <td>0.402769</td>\n",
       "    </tr>\n",
       "    <tr>\n",
       "      <th>min</th>\n",
       "      <td>1.560844e+07</td>\n",
       "      <td>350.000000</td>\n",
       "      <td>18.000000</td>\n",
       "      <td>0.000000</td>\n",
       "      <td>3768.690000</td>\n",
       "      <td>1.000000</td>\n",
       "      <td>0.00000</td>\n",
       "      <td>0.000000</td>\n",
       "      <td>11.580000</td>\n",
       "      <td>0.000000</td>\n",
       "    </tr>\n",
       "    <tr>\n",
       "      <th>25%</th>\n",
       "      <td>1.567126e+07</td>\n",
       "      <td>584.000000</td>\n",
       "      <td>32.000000</td>\n",
       "      <td>3.000000</td>\n",
       "      <td>100181.975000</td>\n",
       "      <td>1.000000</td>\n",
       "      <td>0.00000</td>\n",
       "      <td>0.000000</td>\n",
       "      <td>51002.110000</td>\n",
       "      <td>0.000000</td>\n",
       "    </tr>\n",
       "    <tr>\n",
       "      <th>50%</th>\n",
       "      <td>1.573347e+07</td>\n",
       "      <td>652.000000</td>\n",
       "      <td>37.000000</td>\n",
       "      <td>5.000000</td>\n",
       "      <td>119839.690000</td>\n",
       "      <td>1.000000</td>\n",
       "      <td>1.00000</td>\n",
       "      <td>1.000000</td>\n",
       "      <td>100193.915000</td>\n",
       "      <td>0.000000</td>\n",
       "    </tr>\n",
       "    <tr>\n",
       "      <th>75%</th>\n",
       "      <td>1.579597e+07</td>\n",
       "      <td>718.000000</td>\n",
       "      <td>44.000000</td>\n",
       "      <td>7.000000</td>\n",
       "      <td>139512.290000</td>\n",
       "      <td>2.000000</td>\n",
       "      <td>1.00000</td>\n",
       "      <td>1.000000</td>\n",
       "      <td>149388.247500</td>\n",
       "      <td>0.000000</td>\n",
       "    </tr>\n",
       "    <tr>\n",
       "      <th>max</th>\n",
       "      <td>1.585843e+07</td>\n",
       "      <td>850.000000</td>\n",
       "      <td>92.000000</td>\n",
       "      <td>10.000000</td>\n",
       "      <td>250898.090000</td>\n",
       "      <td>4.000000</td>\n",
       "      <td>1.00000</td>\n",
       "      <td>1.000000</td>\n",
       "      <td>199992.480000</td>\n",
       "      <td>1.000000</td>\n",
       "    </tr>\n",
       "  </tbody>\n",
       "</table>\n",
       "</div>"
      ],
      "text/plain": [
       "            user_id         score           age       objects        balance  \\\n",
       "count  1.000000e+04  10000.000000  10000.000000  10000.000000    6383.000000   \n",
       "mean   1.573368e+07    650.528800     38.921800      5.012800  119827.493793   \n",
       "std    7.193619e+04     96.653299     10.487806      2.892174   30095.056462   \n",
       "min    1.560844e+07    350.000000     18.000000      0.000000    3768.690000   \n",
       "25%    1.567126e+07    584.000000     32.000000      3.000000  100181.975000   \n",
       "50%    1.573347e+07    652.000000     37.000000      5.000000  119839.690000   \n",
       "75%    1.579597e+07    718.000000     44.000000      7.000000  139512.290000   \n",
       "max    1.585843e+07    850.000000     92.000000     10.000000  250898.090000   \n",
       "\n",
       "           products  credit_card       loyalty  estimated_salary         churn  \n",
       "count  10000.000000  10000.00000  10000.000000      10000.000000  10000.000000  \n",
       "mean       1.530200      0.70550      0.515100     100090.239881      0.203700  \n",
       "std        0.581654      0.45584      0.499797      57510.492818      0.402769  \n",
       "min        1.000000      0.00000      0.000000         11.580000      0.000000  \n",
       "25%        1.000000      0.00000      0.000000      51002.110000      0.000000  \n",
       "50%        1.000000      1.00000      1.000000     100193.915000      0.000000  \n",
       "75%        2.000000      1.00000      1.000000     149388.247500      0.000000  \n",
       "max        4.000000      1.00000      1.000000     199992.480000      1.000000  "
      ]
     },
     "execution_count": 9,
     "metadata": {},
     "output_type": "execute_result"
    }
   ],
   "source": [
    "data.describe()"
   ]
  },
  {
   "cell_type": "markdown",
   "id": "9c9eb8ee",
   "metadata": {},
   "source": [
    "___\n",
    "Пропуски в одном столбце - 'balance'. Пропущенных значений порядка 36%. Можно отметить, что минимальное значение более 0, можно сделать предположение, что нулевой боланас записывается как пустое значение. Заполним пропуски на 0. Опять же при необходимости сможем легко отфильтровать.\n",
    "___"
   ]
  },
  {
   "cell_type": "code",
   "execution_count": 10,
   "id": "3003f197",
   "metadata": {},
   "outputs": [],
   "source": [
    "data['balance'] = data['balance'].fillna(0)"
   ]
  },
  {
   "cell_type": "markdown",
   "id": "237c9375",
   "metadata": {},
   "source": [
    "## Тип данных"
   ]
  },
  {
   "cell_type": "markdown",
   "id": "9424b1fa",
   "metadata": {},
   "source": [
    "Тип данных оставляем без изменений"
   ]
  },
  {
   "cell_type": "markdown",
   "id": "fc2f4710",
   "metadata": {},
   "source": [
    "## Дубли"
   ]
  },
  {
   "cell_type": "code",
   "execution_count": 11,
   "id": "06b5da12",
   "metadata": {},
   "outputs": [
    {
     "data": {
      "text/plain": [
       "0"
      ]
     },
     "execution_count": 11,
     "metadata": {},
     "output_type": "execute_result"
    }
   ],
   "source": [
    "# проверим дубли идентификаторов пользователей\n",
    "\n",
    "data['user_id'].duplicated().sum()"
   ]
  },
  {
   "cell_type": "code",
   "execution_count": 12,
   "id": "22f22b02",
   "metadata": {},
   "outputs": [
    {
     "data": {
      "text/plain": [
       "array(['Ярославль', 'Рыбинск', 'Ростов Великий'], dtype=object)"
      ]
     },
     "execution_count": 12,
     "metadata": {},
     "output_type": "execute_result"
    }
   ],
   "source": [
    "# Проверим унификацию написания городов\n",
    "\n",
    "data['city'].unique()"
   ]
  },
  {
   "cell_type": "code",
   "execution_count": 13,
   "id": "5839e096",
   "metadata": {},
   "outputs": [
    {
     "data": {
      "text/plain": [
       "array(['Ж', 'М'], dtype=object)"
      ]
     },
     "execution_count": 13,
     "metadata": {},
     "output_type": "execute_result"
    }
   ],
   "source": [
    "# Проверим унификацию написания пола\n",
    "\n",
    "data['gender'].unique()"
   ]
  },
  {
   "cell_type": "markdown",
   "id": "396ff335",
   "metadata": {},
   "source": [
    "## Аномальные значения"
   ]
  },
  {
   "cell_type": "markdown",
   "id": "0e7112d2",
   "metadata": {},
   "source": [
    "В общей статистике по датасету можно отметить аномально низкое значение заработной платы - 11.5"
   ]
  },
  {
   "cell_type": "code",
   "execution_count": 14,
   "id": "c993f4e8",
   "metadata": {},
   "outputs": [
    {
     "data": {
      "image/png": "[encoded data removed]",
      "text/plain": [
       "<Figure size 432x288 with 1 Axes>"
      ]
     },
     "metadata": {
      "needs_background": "light"
     },
     "output_type": "display_data"
    }
   ],
   "source": [
    "# boxplot\n",
    "\n",
    "data['estimated_salary'].plot(kind='box', vert=False, figsize=(6, 4))\n",
    "\n",
    "plt.title('Оценочный уровень дохода. Boxplot')\n",
    "plt.xlabel('руб.');"
   ]
  },
  {
   "cell_type": "code",
   "execution_count": 15,
   "id": "642313fd",
   "metadata": {},
   "outputs": [
    {
     "data": {
      "image/png": "[encoded data removed]",
      "text/plain": [
       "<Figure size 432x288 with 1 Axes>"
      ]
     },
     "metadata": {
      "needs_background": "light"
     },
     "output_type": "display_data"
    }
   ],
   "source": [
    "# гистограмма\n",
    "\n",
    "data['estimated_salary'].hist(bins=50)\n",
    "\n",
    "plt.title('Оценочный уровень дохода. Гистограмма')\n",
    "plt.xlabel('руб.')\n",
    "plt.ylabel('количество клиентов');"
   ]
  },
  {
   "cell_type": "markdown",
   "id": "080bebee",
   "metadata": {},
   "source": [
    "___\n",
    "**Можем отметить:**\n",
    "- равномерное распределение оценочночного дохода среди клиентов;\n",
    "- отсутсвие выбросов;\n",
    "- т.к. у нас нет информации о методике оценки уровня дохода и точности оценки, сделаем предположение, крайне малые значения могут быть результатом выплаты процентов по депозиту, начисления процентов на остаток по карте, кешбэк и т.д.. Поэтому оставим значения без изменений.\n",
    "___"
   ]
  },
  {
   "cell_type": "markdown",
   "id": "82c63e2e",
   "metadata": {},
   "source": [
    "# Анализ данных"
   ]
  },
  {
   "cell_type": "markdown",
   "id": "71e666b7",
   "metadata": {},
   "source": [
    "## Общее количество ушедших клиентов"
   ]
  },
  {
   "cell_type": "code",
   "execution_count": 29,
   "id": "da28525f",
   "metadata": {},
   "outputs": [],
   "source": [
    "# число ушедших и оставшихся клиентов\n",
    "\n",
    "not_churn_churn = data['churn'].value_counts()"
   ]
  },
  {
   "cell_type": "code",
   "execution_count": 27,
   "id": "a1bf16ae",
   "metadata": {},
   "outputs": [
    {
     "name": "stdout",
     "output_type": "stream",
     "text": [
      "Общее число клиентов: 10000\n",
      "Число ушедших клиентов: 2037\n",
      "Процент ушедших клиентов: 20.4%\n"
     ]
    }
   ],
   "source": [
    "print(\n",
    "    f'Общее число клиентов: {data.shape[0]}\\n' \n",
    "    f'Число ушедших клиентов: {not_churn_churn[1]}\\n'\n",
    "    f'Процент ушедших клиентов: {((not_churn_churn[1]/data.shape[0])*100).round(1)}%'\n",
    "     )"
   ]
  },
  {
   "cell_type": "markdown",
   "id": "ebcdfed9",
   "metadata": {},
   "source": [
    "## Общее количество ушедших клиентов в разрезе городов присутсвия банка"
   ]
  },
  {
   "cell_type": "code",
   "execution_count": 35,
   "id": "84d707a4",
   "metadata": {},
   "outputs": [],
   "source": [
    "# функция для формирования кросстаблицы\n",
    "\n",
    "def cross_table(data, row, col):\n",
    "    \n",
    "    # сформируем кросстаблицу\n",
    "    \n",
    "    cross_table = pd.crosstab(data[row], data[col])\n",
    "    \n",
    "    # добавим столбец с общим числом клиентов\n",
    "    \n",
    "    cross_table['total'] = cross_table[1]+cross_table[0]\n",
    "    \n",
    "    # добавим столбец с процентом \n",
    "    \n",
    "    cross_table['percent_'+col] = ((cross_table[1]/cross_table['total'])*100).round()\n",
    "    \n",
    "    return cross_table"
   ]
  },
  {
   "cell_type": "code",
   "execution_count": 36,
   "id": "049fcbc7",
   "metadata": {},
   "outputs": [
    {
     "data": {
      "text/html": [
       "<div>\n",
       "<style scoped>\n",
       "    .dataframe tbody tr th:only-of-type {\n",
       "        vertical-align: middle;\n",
       "    }\n",
       "\n",
       "    .dataframe tbody tr th {\n",
       "        vertical-align: top;\n",
       "    }\n",
       "\n",
       "    .dataframe thead th {\n",
       "        text-align: right;\n",
       "    }\n",
       "</style>\n",
       "<table border=\"1\" class=\"dataframe\">\n",
       "  <thead>\n",
       "    <tr style=\"text-align: right;\">\n",
       "      <th>churn</th>\n",
       "      <th>0</th>\n",
       "      <th>1</th>\n",
       "      <th>total</th>\n",
       "      <th>percent_churn</th>\n",
       "    </tr>\n",
       "    <tr>\n",
       "      <th>city</th>\n",
       "      <th></th>\n",
       "      <th></th>\n",
       "      <th></th>\n",
       "      <th></th>\n",
       "    </tr>\n",
       "  </thead>\n",
       "  <tbody>\n",
       "    <tr>\n",
       "      <th>Ростов Великий</th>\n",
       "      <td>1695</td>\n",
       "      <td>814</td>\n",
       "      <td>2509</td>\n",
       "      <td>32.0</td>\n",
       "    </tr>\n",
       "    <tr>\n",
       "      <th>Рыбинск</th>\n",
       "      <td>2064</td>\n",
       "      <td>413</td>\n",
       "      <td>2477</td>\n",
       "      <td>17.0</td>\n",
       "    </tr>\n",
       "    <tr>\n",
       "      <th>Ярославль</th>\n",
       "      <td>4204</td>\n",
       "      <td>810</td>\n",
       "      <td>5014</td>\n",
       "      <td>16.0</td>\n",
       "    </tr>\n",
       "  </tbody>\n",
       "</table>\n",
       "</div>"
      ],
      "text/plain": [
       "churn              0    1  total  percent_churn\n",
       "city                                           \n",
       "Ростов Великий  1695  814   2509           32.0\n",
       "Рыбинск         2064  413   2477           17.0\n",
       "Ярославль       4204  810   5014           16.0"
      ]
     },
     "execution_count": 36,
     "metadata": {},
     "output_type": "execute_result"
    }
   ],
   "source": [
    "chur_by_city = cross_table(data, 'city', 'churn')\n",
    "chur_by_city"
   ]
  },
  {
   "cell_type": "markdown",
   "id": "a2ca8e54",
   "metadata": {},
   "source": [
    "___\n",
    "**Можем отметить:**\n",
    "- наибольшее число клиентов в Ярославле;\n",
    "- наименьшее число клиентов в Ростове Великом;\n",
    "- наибольшее число ушедших клиентов в Ростове Великом;\n",
    "- процент оттка в Ростове Великом в два раза больше чем в Рыбинске и Ярославле;\n",
    "___"
   ]
  },
  {
   "cell_type": "markdown",
   "id": "cd8d2878",
   "metadata": {},
   "source": [
    "## Активность клиентов"
   ]
  },
  {
   "cell_type": "code",
   "execution_count": 37,
   "id": "2606bfa6",
   "metadata": {},
   "outputs": [
    {
     "data": {
      "text/html": [
       "<div>\n",
       "<style scoped>\n",
       "    .dataframe tbody tr th:only-of-type {\n",
       "        vertical-align: middle;\n",
       "    }\n",
       "\n",
       "    .dataframe tbody tr th {\n",
       "        vertical-align: top;\n",
       "    }\n",
       "\n",
       "    .dataframe thead th {\n",
       "        text-align: right;\n",
       "    }\n",
       "</style>\n",
       "<table border=\"1\" class=\"dataframe\">\n",
       "  <thead>\n",
       "    <tr style=\"text-align: right;\">\n",
       "      <th>churn</th>\n",
       "      <th>0</th>\n",
       "      <th>1</th>\n",
       "      <th>total</th>\n",
       "      <th>percent_churn</th>\n",
       "    </tr>\n",
       "    <tr>\n",
       "      <th>loyalty</th>\n",
       "      <th></th>\n",
       "      <th></th>\n",
       "      <th></th>\n",
       "      <th></th>\n",
       "    </tr>\n",
       "  </thead>\n",
       "  <tbody>\n",
       "    <tr>\n",
       "      <th>0</th>\n",
       "      <td>3547</td>\n",
       "      <td>1302</td>\n",
       "      <td>4849</td>\n",
       "      <td>27.0</td>\n",
       "    </tr>\n",
       "    <tr>\n",
       "      <th>1</th>\n",
       "      <td>4416</td>\n",
       "      <td>735</td>\n",
       "      <td>5151</td>\n",
       "      <td>14.0</td>\n",
       "    </tr>\n",
       "  </tbody>\n",
       "</table>\n",
       "</div>"
      ],
      "text/plain": [
       "churn       0     1  total  percent_churn\n",
       "loyalty                                  \n",
       "0        3547  1302   4849           27.0\n",
       "1        4416   735   5151           14.0"
      ]
     },
     "execution_count": 37,
     "metadata": {},
     "output_type": "execute_result"
    }
   ],
   "source": [
    "# сформируем кросстаблицу\n",
    "\n",
    "chur_by_loyalty = cross_table(data, 'loyalty', 'churn')\n",
    "chur_by_loyalty"
   ]
  },
  {
   "cell_type": "markdown",
   "id": "b0417cbb",
   "metadata": {},
   "source": [
    "___\n",
    "**Можем отметить** процент ушедших клиентов среди неактивных почти в два раза выше\n",
    "___"
   ]
  },
  {
   "cell_type": "markdown",
   "id": "f50ef4aa",
   "metadata": {},
   "source": [
    "### По городам"
   ]
  },
  {
   "cell_type": "code",
   "execution_count": 38,
   "id": "1f4ec775",
   "metadata": {},
   "outputs": [
    {
     "name": "stdout",
     "output_type": "stream",
     "text": [
      "Ярославль\n",
      "---------\n",
      "churn       0    1  total  percent_churn\n",
      "loyalty                                 \n",
      "0        1911  512   2423           21.0\n",
      "1        2293  298   2591           12.0\n",
      "----------------------------------------\n",
      "Рыбинск\n",
      "-------\n",
      "churn       0    1  total  percent_churn\n",
      "loyalty                                 \n",
      "0         893  272   1165           23.0\n",
      "1        1171  141   1312           11.0\n",
      "----------------------------------------\n",
      "Ростов Великий\n",
      "--------------\n",
      "churn      0    1  total  percent_churn\n",
      "loyalty                                \n",
      "0        743  518   1261           41.0\n",
      "1        952  296   1248           24.0\n",
      "----------------------------------------\n"
     ]
    }
   ],
   "source": [
    "for i in data['city'].unique():\n",
    "    tmp_data = data.query('city == @i')\n",
    "    tmp_cross_table = cross_table(tmp_data, 'loyalty', 'churn')\n",
    "    print(f'{i}')\n",
    "    print('-'*len(i)) \n",
    "    print(f'{tmp_cross_table}')\n",
    "    print('-'*40)"
   ]
  },
  {
   "cell_type": "markdown",
   "id": "b2db0cf4",
   "metadata": {},
   "source": [
    "___\n",
    "**Можем отметить** количество ушедших клиентов в Ростове Великом выше по обеим категориям.\n",
    "___"
   ]
  },
  {
   "cell_type": "markdown",
   "id": "fbbf8ba7",
   "metadata": {},
   "source": [
    "## Баллы кредитного скоринга"
   ]
  },
  {
   "cell_type": "code",
   "execution_count": 39,
   "id": "fc15b5a3",
   "metadata": {},
   "outputs": [
    {
     "data": {
      "text/plain": [
       "(350, 850)"
      ]
     },
     "execution_count": 39,
     "metadata": {},
     "output_type": "execute_result"
    }
   ],
   "source": [
    "# диапазон значений кредитного скоринга\n",
    "\n",
    "data['score'].min(), data['score'].max()"
   ]
  },
  {
   "cell_type": "code",
   "execution_count": 40,
   "id": "1dfe82a6",
   "metadata": {},
   "outputs": [],
   "source": [
    "# сформируем группы кредитного скоринга\n",
    "\n",
    "score_gr = np.arange(350, 851, 50)\n",
    "\n",
    "# Скорректируем начальное значение\n",
    "\n",
    "score_gr[0] = 349"
   ]
  },
  {
   "cell_type": "code",
   "execution_count": 41,
   "id": "0981ad57",
   "metadata": {},
   "outputs": [],
   "source": [
    "# сгруппируем значения кредитного скоринга\n",
    "\n",
    "data['score_group'] = pd.cut(data['score'], score_gr)"
   ]
  },
  {
   "cell_type": "code",
   "execution_count": 42,
   "id": "710f0a08",
   "metadata": {},
   "outputs": [],
   "source": [
    "# напишем функцию для формирования сводной таблицы\n",
    "\n",
    "def churn_by_group(data, group):\n",
    "    \n",
    "    # сформируем сводную таблицу\n",
    "    \n",
    "    chur_by_group = cross_table(data, group, 'churn')\n",
    "    \n",
    "    # перенесем категории из индекса и заменим тип данных на текстовый\n",
    "    \n",
    "    chur_by_group = chur_by_group.reset_index()\n",
    "    chur_by_group[group] = chur_by_group[group].astype(str)\n",
    "    \n",
    "    return chur_by_group"
   ]
  },
  {
   "cell_type": "code",
   "execution_count": 43,
   "id": "412da211",
   "metadata": {},
   "outputs": [
    {
     "data": {
      "text/html": [
       "<div>\n",
       "<style scoped>\n",
       "    .dataframe tbody tr th:only-of-type {\n",
       "        vertical-align: middle;\n",
       "    }\n",
       "\n",
       "    .dataframe tbody tr th {\n",
       "        vertical-align: top;\n",
       "    }\n",
       "\n",
       "    .dataframe thead th {\n",
       "        text-align: right;\n",
       "    }\n",
       "</style>\n",
       "<table border=\"1\" class=\"dataframe\">\n",
       "  <thead>\n",
       "    <tr style=\"text-align: right;\">\n",
       "      <th>churn</th>\n",
       "      <th>score_group</th>\n",
       "      <th>0</th>\n",
       "      <th>1</th>\n",
       "      <th>total</th>\n",
       "      <th>percent_churn</th>\n",
       "    </tr>\n",
       "  </thead>\n",
       "  <tbody>\n",
       "    <tr>\n",
       "      <th>0</th>\n",
       "      <td>(349, 400]</td>\n",
       "      <td>0</td>\n",
       "      <td>19</td>\n",
       "      <td>19</td>\n",
       "      <td>100.0</td>\n",
       "    </tr>\n",
       "    <tr>\n",
       "      <th>1</th>\n",
       "      <td>(400, 450]</td>\n",
       "      <td>128</td>\n",
       "      <td>42</td>\n",
       "      <td>170</td>\n",
       "      <td>25.0</td>\n",
       "    </tr>\n",
       "    <tr>\n",
       "      <th>2</th>\n",
       "      <td>(450, 500]</td>\n",
       "      <td>363</td>\n",
       "      <td>91</td>\n",
       "      <td>454</td>\n",
       "      <td>20.0</td>\n",
       "    </tr>\n",
       "    <tr>\n",
       "      <th>3</th>\n",
       "      <td>(500, 550]</td>\n",
       "      <td>762</td>\n",
       "      <td>216</td>\n",
       "      <td>978</td>\n",
       "      <td>22.0</td>\n",
       "    </tr>\n",
       "    <tr>\n",
       "      <th>4</th>\n",
       "      <td>(550, 600]</td>\n",
       "      <td>1148</td>\n",
       "      <td>297</td>\n",
       "      <td>1445</td>\n",
       "      <td>21.0</td>\n",
       "    </tr>\n",
       "    <tr>\n",
       "      <th>5</th>\n",
       "      <td>(600, 650]</td>\n",
       "      <td>1479</td>\n",
       "      <td>392</td>\n",
       "      <td>1871</td>\n",
       "      <td>21.0</td>\n",
       "    </tr>\n",
       "    <tr>\n",
       "      <th>6</th>\n",
       "      <td>(650, 700]</td>\n",
       "      <td>1586</td>\n",
       "      <td>361</td>\n",
       "      <td>1947</td>\n",
       "      <td>19.0</td>\n",
       "    </tr>\n",
       "    <tr>\n",
       "      <th>7</th>\n",
       "      <td>(700, 750]</td>\n",
       "      <td>1212</td>\n",
       "      <td>306</td>\n",
       "      <td>1518</td>\n",
       "      <td>20.0</td>\n",
       "    </tr>\n",
       "    <tr>\n",
       "      <th>8</th>\n",
       "      <td>(750, 800]</td>\n",
       "      <td>767</td>\n",
       "      <td>186</td>\n",
       "      <td>953</td>\n",
       "      <td>20.0</td>\n",
       "    </tr>\n",
       "    <tr>\n",
       "      <th>9</th>\n",
       "      <td>(800, 850]</td>\n",
       "      <td>518</td>\n",
       "      <td>127</td>\n",
       "      <td>645</td>\n",
       "      <td>20.0</td>\n",
       "    </tr>\n",
       "  </tbody>\n",
       "</table>\n",
       "</div>"
      ],
      "text/plain": [
       "churn score_group     0    1  total  percent_churn\n",
       "0      (349, 400]     0   19     19          100.0\n",
       "1      (400, 450]   128   42    170           25.0\n",
       "2      (450, 500]   363   91    454           20.0\n",
       "3      (500, 550]   762  216    978           22.0\n",
       "4      (550, 600]  1148  297   1445           21.0\n",
       "5      (600, 650]  1479  392   1871           21.0\n",
       "6      (650, 700]  1586  361   1947           19.0\n",
       "7      (700, 750]  1212  306   1518           20.0\n",
       "8      (750, 800]   767  186    953           20.0\n",
       "9      (800, 850]   518  127    645           20.0"
      ]
     },
     "execution_count": 43,
     "metadata": {},
     "output_type": "execute_result"
    }
   ],
   "source": [
    "churn_by_score_group = churn_by_group(data, 'score_group')\n",
    "churn_by_score_group"
   ]
  },
  {
   "cell_type": "code",
   "execution_count": 44,
   "id": "518306da",
   "metadata": {},
   "outputs": [],
   "source": [
    "# Видим небольшое количество клиентов в группах 350-400, 400-450. Объединим группы"
   ]
  },
  {
   "cell_type": "code",
   "execution_count": 45,
   "id": "d45d3a10",
   "metadata": {},
   "outputs": [],
   "source": [
    "score_gr = np.arange(400, 851, 50)\n",
    "\n",
    "score_gr[0] = 349\n",
    "\n",
    "data['score_group'] = pd.cut(data['score'], score_gr)"
   ]
  },
  {
   "cell_type": "code",
   "execution_count": 46,
   "id": "8596ea31",
   "metadata": {},
   "outputs": [
    {
     "data": {
      "text/html": [
       "<div>\n",
       "<style scoped>\n",
       "    .dataframe tbody tr th:only-of-type {\n",
       "        vertical-align: middle;\n",
       "    }\n",
       "\n",
       "    .dataframe tbody tr th {\n",
       "        vertical-align: top;\n",
       "    }\n",
       "\n",
       "    .dataframe thead th {\n",
       "        text-align: right;\n",
       "    }\n",
       "</style>\n",
       "<table border=\"1\" class=\"dataframe\">\n",
       "  <thead>\n",
       "    <tr style=\"text-align: right;\">\n",
       "      <th>churn</th>\n",
       "      <th>score_group</th>\n",
       "      <th>0</th>\n",
       "      <th>1</th>\n",
       "      <th>total</th>\n",
       "      <th>percent_churn</th>\n",
       "    </tr>\n",
       "  </thead>\n",
       "  <tbody>\n",
       "    <tr>\n",
       "      <th>0</th>\n",
       "      <td>(349, 450]</td>\n",
       "      <td>128</td>\n",
       "      <td>61</td>\n",
       "      <td>189</td>\n",
       "      <td>32.0</td>\n",
       "    </tr>\n",
       "    <tr>\n",
       "      <th>1</th>\n",
       "      <td>(450, 500]</td>\n",
       "      <td>363</td>\n",
       "      <td>91</td>\n",
       "      <td>454</td>\n",
       "      <td>20.0</td>\n",
       "    </tr>\n",
       "    <tr>\n",
       "      <th>2</th>\n",
       "      <td>(500, 550]</td>\n",
       "      <td>762</td>\n",
       "      <td>216</td>\n",
       "      <td>978</td>\n",
       "      <td>22.0</td>\n",
       "    </tr>\n",
       "    <tr>\n",
       "      <th>3</th>\n",
       "      <td>(550, 600]</td>\n",
       "      <td>1148</td>\n",
       "      <td>297</td>\n",
       "      <td>1445</td>\n",
       "      <td>21.0</td>\n",
       "    </tr>\n",
       "    <tr>\n",
       "      <th>4</th>\n",
       "      <td>(600, 650]</td>\n",
       "      <td>1479</td>\n",
       "      <td>392</td>\n",
       "      <td>1871</td>\n",
       "      <td>21.0</td>\n",
       "    </tr>\n",
       "    <tr>\n",
       "      <th>5</th>\n",
       "      <td>(650, 700]</td>\n",
       "      <td>1586</td>\n",
       "      <td>361</td>\n",
       "      <td>1947</td>\n",
       "      <td>19.0</td>\n",
       "    </tr>\n",
       "    <tr>\n",
       "      <th>6</th>\n",
       "      <td>(700, 750]</td>\n",
       "      <td>1212</td>\n",
       "      <td>306</td>\n",
       "      <td>1518</td>\n",
       "      <td>20.0</td>\n",
       "    </tr>\n",
       "    <tr>\n",
       "      <th>7</th>\n",
       "      <td>(750, 800]</td>\n",
       "      <td>767</td>\n",
       "      <td>186</td>\n",
       "      <td>953</td>\n",
       "      <td>20.0</td>\n",
       "    </tr>\n",
       "    <tr>\n",
       "      <th>8</th>\n",
       "      <td>(800, 850]</td>\n",
       "      <td>518</td>\n",
       "      <td>127</td>\n",
       "      <td>645</td>\n",
       "      <td>20.0</td>\n",
       "    </tr>\n",
       "  </tbody>\n",
       "</table>\n",
       "</div>"
      ],
      "text/plain": [
       "churn score_group     0    1  total  percent_churn\n",
       "0      (349, 450]   128   61    189           32.0\n",
       "1      (450, 500]   363   91    454           20.0\n",
       "2      (500, 550]   762  216    978           22.0\n",
       "3      (550, 600]  1148  297   1445           21.0\n",
       "4      (600, 650]  1479  392   1871           21.0\n",
       "5      (650, 700]  1586  361   1947           19.0\n",
       "6      (700, 750]  1212  306   1518           20.0\n",
       "7      (750, 800]   767  186    953           20.0\n",
       "8      (800, 850]   518  127    645           20.0"
      ]
     },
     "execution_count": 46,
     "metadata": {},
     "output_type": "execute_result"
    }
   ],
   "source": [
    "churn_by_score_group = churn_by_group(data, 'score_group')\n",
    "churn_by_score_group"
   ]
  },
  {
   "cell_type": "code",
   "execution_count": 47,
   "id": "f7c9baec",
   "metadata": {
    "scrolled": false
   },
   "outputs": [],
   "source": [
    "# Напишем функцию для построения линейного графика количества ушедших и оставшихся клиентов\n",
    "\n",
    "def churn_not_churn_plot(cross_table, group,\n",
    "                        title = ' ',\n",
    "                        x_title = ' '):\n",
    "    \n",
    "    plt.figure(figsize=(15, 6))\n",
    "\n",
    "    plt.plot(cross_table[group], cross_table[0], label='остались', linewidth = '3')\n",
    "    \n",
    "    plt.plot(cross_table[group], cross_table[1], label='ушли', linewidth = '3')\n",
    "    \n",
    "    plt.title('Ушедшие/оставшиеся клиенты. Распределение по ' + title )\n",
    "    plt.xlabel(x_title)\n",
    "    plt.ylabel('количество клиентов')\n",
    "    \n",
    "    plt.grid()\n",
    "    plt.legend();"
   ]
  },
  {
   "cell_type": "code",
   "execution_count": 48,
   "id": "d99a69d8",
   "metadata": {},
   "outputs": [
    {
     "data": {
      "image/png": "[encoded data removed]",
      "text/plain": [
       "<Figure size 1080x432 with 1 Axes>"
      ]
     },
     "metadata": {
      "needs_background": "light"
     },
     "output_type": "display_data"
    }
   ],
   "source": [
    "# Построим график количество ушедших и оставшихся клиентов в зависимости от баллов кредитного рейтинга\n",
    "\n",
    "churn_not_churn_plot(churn_by_score_group, 'score_group',\n",
    "                    \"баллам кредитного рейтинга\",\n",
    "                    \"баллы кредитного рейтинга\")"
   ]
  },
  {
   "cell_type": "code",
   "execution_count": 49,
   "id": "89824612",
   "metadata": {},
   "outputs": [],
   "source": [
    "# Напишем функцию для построения столбиковой диаграммы процента ушедших клиентов\n",
    "\n",
    "def churn_percent_bar(cross_table, group, \n",
    "                     title = \" \",\n",
    "                     x_label = \" \"):\n",
    "    \n",
    "    plt.figure(figsize=(18, 6))\n",
    "\n",
    "    plt.bar(cross_table[group], cross_table['percent_churn'],\n",
    "             linewidth = '3', label='отток')\n",
    "\n",
    "    plt.title('Процент оттока. Распределение по ' + title)\n",
    "    plt.xlabel(x_label)\n",
    "    plt.ylabel('%')\n",
    "\n",
    "    # добавим линию среднего значения оттока\n",
    "    \n",
    "    plt.axhline(20.4, linestyle = '--', color = 'red', label='срдений отток')\n",
    "\n",
    "    plt.grid()\n",
    "    plt.legend();"
   ]
  },
  {
   "cell_type": "code",
   "execution_count": 50,
   "id": "f6ec4ac5",
   "metadata": {},
   "outputs": [
    {
     "data": {
      "image/png": "[encoded data removed]",
      "text/plain": [
       "<Figure size 1296x432 with 1 Axes>"
      ]
     },
     "metadata": {
      "needs_background": "light"
     },
     "output_type": "display_data"
    }
   ],
   "source": [
    "churn_percent_bar(churn_by_score_group, 'score_group',\n",
    "                    \"баллам кредитного рейтинга\",\n",
    "                    \"баллы кредитного рейтинга\")\n",
    "\n",
    "plt.ylim(0, 40);"
   ]
  },
  {
   "cell_type": "markdown",
   "id": "a2e19b83",
   "metadata": {},
   "source": [
    "___\n",
    "**Можно отметить:**\n",
    "- уровень оттока находится в диапазоне 19-32%;\n",
    "- 32% оттока имеют клиенты с рейтингом от 350 до 450. За исключением данной категории % оттока от 19 до 22%.\n",
    "___"
   ]
  },
  {
   "cell_type": "markdown",
   "id": "b6f7407d",
   "metadata": {},
   "source": [
    "### По городам"
   ]
  },
  {
   "cell_type": "code",
   "execution_count": 51,
   "id": "0f448104",
   "metadata": {},
   "outputs": [],
   "source": [
    "# напишем функцию для формирования сводных таблици по городам присутсвия банка\n",
    "\n",
    "def churn_by_group_city(data, group):\n",
    "    \n",
    "    # Ярославль\n",
    "    churn_by_group_yaroslavl = churn_by_group(data.query('city == \"Ярославль\"'), group)\n",
    "    \n",
    "    # Рыбинск\n",
    "    churn_by_groupribinsk = churn_by_group(data.query('city == \"Рыбинск\"'), group)\n",
    "    \n",
    "    # Ростов Великий\n",
    "    churn_by_group_rostov = churn_by_group(data.query('city == \"Ростов Великий\"'), group)\n",
    "    \n",
    "    return churn_by_group_yaroslavl, churn_by_groupribinsk, churn_by_group_rostov"
   ]
  },
  {
   "cell_type": "code",
   "execution_count": 52,
   "id": "bf2a9a8a",
   "metadata": {},
   "outputs": [],
   "source": [
    "# сформируем сводные таблицы по городам\n",
    "\n",
    "churn_by_score_group_yaroslavl, churn_by_score_group_ribinsk, churn_by_score_group_rostov = (\n",
    "    churn_by_group_city(data, 'score_group')\n",
    ") "
   ]
  },
  {
   "cell_type": "code",
   "execution_count": 53,
   "id": "c8701133",
   "metadata": {},
   "outputs": [],
   "source": [
    "# Напишем фунцию для объединения совдных таблиц\n",
    "\n",
    "def group_merge(churn_by_group_yaroslavl, churn_by_groupribinsk, churn_by_group_rostov, group, total=False):\n",
    "    \n",
    "    \"\"\"\n",
    "    последовательность городво: yaroslavl, ribinsk, rostov\n",
    "    \"\"\"\n",
    "    # Не добавляем столбец total\n",
    "    \n",
    "    if total==False:\n",
    "    \n",
    "        display(\n",
    "        pd.merge(\n",
    "            \n",
    "            # Объединяем Ярославль и Рыбинск\n",
    "            \n",
    "        pd.merge(churn_by_group_yaroslavl[[group,'percent_churn']],\n",
    "             churn_by_groupribinsk[[group,'percent_churn']],\n",
    "             on = group, how = 'outer', suffixes=('_yar','_rib')),\n",
    "            \n",
    "            # Объеядиняем с Ростовом Великим\n",
    "            \n",
    "             churn_by_group_rostov[[group,'percent_churn']],\n",
    "             on = group, how = 'outer'\n",
    "            ).rename(columns={'percent_churn':'percent_churn_rost'})\n",
    "        )\n",
    "        \n",
    "        # Добавляем столбец total\n",
    "        \n",
    "    else:\n",
    "        display(\n",
    "        pd.merge(\n",
    "            \n",
    "            # Объединяем Ярославль и Рыбинск\n",
    "            \n",
    "        pd.merge(churn_by_group_yaroslavl[[group,'percent_churn', 'total']],\n",
    "             churn_by_groupribinsk[[group,'percent_churn', 'total']],\n",
    "             on = group, how = 'outer', suffixes=('_yar','_rib')),\n",
    "            \n",
    "            # Объеядиняем с Ростовом Великим\n",
    "            \n",
    "             churn_by_group_rostov[[group,'percent_churn', 'total']],\n",
    "             on = group, how = 'outer'\n",
    "            ).rename(columns={'percent_churn':'percent_churn_rost',\n",
    "                             'total': 'total_rost'})\n",
    "        )"
   ]
  },
  {
   "cell_type": "code",
   "execution_count": 54,
   "id": "c7a02a9c",
   "metadata": {
    "scrolled": true
   },
   "outputs": [
    {
     "data": {
      "text/html": [
       "<div>\n",
       "<style scoped>\n",
       "    .dataframe tbody tr th:only-of-type {\n",
       "        vertical-align: middle;\n",
       "    }\n",
       "\n",
       "    .dataframe tbody tr th {\n",
       "        vertical-align: top;\n",
       "    }\n",
       "\n",
       "    .dataframe thead th {\n",
       "        text-align: right;\n",
       "    }\n",
       "</style>\n",
       "<table border=\"1\" class=\"dataframe\">\n",
       "  <thead>\n",
       "    <tr style=\"text-align: right;\">\n",
       "      <th>churn</th>\n",
       "      <th>score_group</th>\n",
       "      <th>percent_churn_yar</th>\n",
       "      <th>percent_churn_rib</th>\n",
       "      <th>percent_churn_rost</th>\n",
       "    </tr>\n",
       "  </thead>\n",
       "  <tbody>\n",
       "    <tr>\n",
       "      <th>0</th>\n",
       "      <td>(349, 450]</td>\n",
       "      <td>23.0</td>\n",
       "      <td>36.0</td>\n",
       "      <td>50.0</td>\n",
       "    </tr>\n",
       "    <tr>\n",
       "      <th>1</th>\n",
       "      <td>(450, 500]</td>\n",
       "      <td>18.0</td>\n",
       "      <td>11.0</td>\n",
       "      <td>30.0</td>\n",
       "    </tr>\n",
       "    <tr>\n",
       "      <th>2</th>\n",
       "      <td>(500, 550]</td>\n",
       "      <td>18.0</td>\n",
       "      <td>17.0</td>\n",
       "      <td>36.0</td>\n",
       "    </tr>\n",
       "    <tr>\n",
       "      <th>3</th>\n",
       "      <td>(550, 600]</td>\n",
       "      <td>16.0</td>\n",
       "      <td>17.0</td>\n",
       "      <td>34.0</td>\n",
       "    </tr>\n",
       "    <tr>\n",
       "      <th>4</th>\n",
       "      <td>(600, 650]</td>\n",
       "      <td>17.0</td>\n",
       "      <td>17.0</td>\n",
       "      <td>32.0</td>\n",
       "    </tr>\n",
       "    <tr>\n",
       "      <th>5</th>\n",
       "      <td>(650, 700]</td>\n",
       "      <td>16.0</td>\n",
       "      <td>15.0</td>\n",
       "      <td>29.0</td>\n",
       "    </tr>\n",
       "    <tr>\n",
       "      <th>6</th>\n",
       "      <td>(700, 750]</td>\n",
       "      <td>15.0</td>\n",
       "      <td>18.0</td>\n",
       "      <td>33.0</td>\n",
       "    </tr>\n",
       "    <tr>\n",
       "      <th>7</th>\n",
       "      <td>(750, 800]</td>\n",
       "      <td>14.0</td>\n",
       "      <td>14.0</td>\n",
       "      <td>34.0</td>\n",
       "    </tr>\n",
       "    <tr>\n",
       "      <th>8</th>\n",
       "      <td>(800, 850]</td>\n",
       "      <td>15.0</td>\n",
       "      <td>17.0</td>\n",
       "      <td>30.0</td>\n",
       "    </tr>\n",
       "  </tbody>\n",
       "</table>\n",
       "</div>"
      ],
      "text/plain": [
       "churn score_group  percent_churn_yar  percent_churn_rib  percent_churn_rost\n",
       "0      (349, 450]               23.0               36.0                50.0\n",
       "1      (450, 500]               18.0               11.0                30.0\n",
       "2      (500, 550]               18.0               17.0                36.0\n",
       "3      (550, 600]               16.0               17.0                34.0\n",
       "4      (600, 650]               17.0               17.0                32.0\n",
       "5      (650, 700]               16.0               15.0                29.0\n",
       "6      (700, 750]               15.0               18.0                33.0\n",
       "7      (750, 800]               14.0               14.0                34.0\n",
       "8      (800, 850]               15.0               17.0                30.0"
      ]
     },
     "metadata": {},
     "output_type": "display_data"
    }
   ],
   "source": [
    "group_merge(churn_by_score_group_yaroslavl,\n",
    "            churn_by_score_group_ribinsk,\n",
    "            churn_by_score_group_rostov,\n",
    "            'score_group')"
   ]
  },
  {
   "cell_type": "code",
   "execution_count": 55,
   "id": "fc20ba22",
   "metadata": {},
   "outputs": [],
   "source": [
    "# напишем функцию для построения графика % оттока по городам\n",
    "\n",
    "def churn_percent_by_city(churn_by_group_yaroslavl, \n",
    "                         churn_by_groupribinsk,\n",
    "                         churn_by_group_rostov,\n",
    "                         group,\n",
    "                         title,\n",
    "                         x_label):\n",
    "    \n",
    "    plt.figure(figsize=(15, 6))\n",
    "\n",
    "    plt.plot(churn_by_group_yaroslavl[group], churn_by_group_yaroslavl['percent_churn']\n",
    "             ,label='Ярославль', linewidth = '3')\n",
    "\n",
    "    plt.plot(churn_by_groupribinsk[group], churn_by_groupribinsk['percent_churn']\n",
    "             ,label='Рыбинск', linewidth = '3')\n",
    "\n",
    "    plt.plot(churn_by_group_rostov[group], churn_by_group_rostov['percent_churn']\n",
    "             ,label='Ростов Великий', linewidth = '3', color = 'red')\n",
    "\n",
    "    plt.title('Процент оттока. Распределение по ' + title)\n",
    "    plt.xlabel(x_label)\n",
    "    plt.ylabel('%')\n",
    "\n",
    "    plt.grid()\n",
    "    plt.legend();"
   ]
  },
  {
   "cell_type": "code",
   "execution_count": 56,
   "id": "2a89ceec",
   "metadata": {},
   "outputs": [
    {
     "data": {
      "image/png": "[encoded data removed]",
      "text/plain": [
       "<Figure size 1080x432 with 1 Axes>"
      ]
     },
     "metadata": {
      "needs_background": "light"
     },
     "output_type": "display_data"
    }
   ],
   "source": [
    "# Построим линейный график % оттока по городам\n",
    "\n",
    "churn_percent_by_city(churn_by_score_group_yaroslavl,\n",
    "            churn_by_score_group_ribinsk,\n",
    "            churn_by_score_group_rostov,\n",
    "            'score_group',\n",
    "                         'баллам кредитного рейтинга',\n",
    "                         'баллы кредитного рейтинга')"
   ]
  },
  {
   "cell_type": "markdown",
   "id": "028d9c28",
   "metadata": {},
   "source": [
    "___\n",
    "**Можно отметить** в Ростове Великом превышение показателя оттока клиентов по всем группам кредитного рейтинга.\n",
    "___"
   ]
  },
  {
   "cell_type": "markdown",
   "id": "200813e9",
   "metadata": {},
   "source": [
    "## Количество продуктов"
   ]
  },
  {
   "cell_type": "code",
   "execution_count": 57,
   "id": "29e392c0",
   "metadata": {},
   "outputs": [
    {
     "data": {
      "text/plain": [
       "(1, 4)"
      ]
     },
     "execution_count": 57,
     "metadata": {},
     "output_type": "execute_result"
    }
   ],
   "source": [
    "# диапазон значений количества продуктов\n",
    "\n",
    "data['products'].min(), data['products'].max()"
   ]
  },
  {
   "cell_type": "code",
   "execution_count": 58,
   "id": "2a98d6b3",
   "metadata": {},
   "outputs": [
    {
     "data": {
      "text/html": [
       "<div>\n",
       "<style scoped>\n",
       "    .dataframe tbody tr th:only-of-type {\n",
       "        vertical-align: middle;\n",
       "    }\n",
       "\n",
       "    .dataframe tbody tr th {\n",
       "        vertical-align: top;\n",
       "    }\n",
       "\n",
       "    .dataframe thead th {\n",
       "        text-align: right;\n",
       "    }\n",
       "</style>\n",
       "<table border=\"1\" class=\"dataframe\">\n",
       "  <thead>\n",
       "    <tr style=\"text-align: right;\">\n",
       "      <th>churn</th>\n",
       "      <th>0</th>\n",
       "      <th>1</th>\n",
       "      <th>total</th>\n",
       "      <th>percent_churn</th>\n",
       "    </tr>\n",
       "    <tr>\n",
       "      <th>products</th>\n",
       "      <th></th>\n",
       "      <th></th>\n",
       "      <th></th>\n",
       "      <th></th>\n",
       "    </tr>\n",
       "  </thead>\n",
       "  <tbody>\n",
       "    <tr>\n",
       "      <th>1</th>\n",
       "      <td>3675</td>\n",
       "      <td>1409</td>\n",
       "      <td>5084</td>\n",
       "      <td>28.0</td>\n",
       "    </tr>\n",
       "    <tr>\n",
       "      <th>2</th>\n",
       "      <td>4242</td>\n",
       "      <td>348</td>\n",
       "      <td>4590</td>\n",
       "      <td>8.0</td>\n",
       "    </tr>\n",
       "    <tr>\n",
       "      <th>3</th>\n",
       "      <td>46</td>\n",
       "      <td>220</td>\n",
       "      <td>266</td>\n",
       "      <td>83.0</td>\n",
       "    </tr>\n",
       "    <tr>\n",
       "      <th>4</th>\n",
       "      <td>0</td>\n",
       "      <td>60</td>\n",
       "      <td>60</td>\n",
       "      <td>100.0</td>\n",
       "    </tr>\n",
       "  </tbody>\n",
       "</table>\n",
       "</div>"
      ],
      "text/plain": [
       "churn        0     1  total  percent_churn\n",
       "products                                  \n",
       "1         3675  1409   5084           28.0\n",
       "2         4242   348   4590            8.0\n",
       "3           46   220    266           83.0\n",
       "4            0    60     60          100.0"
      ]
     },
     "execution_count": 58,
     "metadata": {},
     "output_type": "execute_result"
    }
   ],
   "source": [
    "churn_by_products = cross_table(data, 'products', 'churn')\n",
    "churn_by_products"
   ]
  },
  {
   "cell_type": "markdown",
   "id": "5654d55e",
   "metadata": {},
   "source": [
    "**Можно отметить:**\n",
    "- отток клиентов имеющих два продукта ниже чем имеющих один, но отток клиентов имеющих три и четыре продука выше чем имеющих один и два;\n",
    "- разброс значений относительно среднего % оттока от -12.4% до 79.6%(объединили 3 и 4 продукт)\n",
    "- количество клиентов имеющих три и четыре продукта составляет 3% от общего числа клиентов.\n",
    "\n",
    "**Можно предположить:**\n",
    "- один - минимальное количество продуктов, клиенты еще могли не получить положительный или отрицательный опыт использования продуктов банка;\n",
    "- второй продукт оформляют клиенты получившие положительный опыт использования первого продукта и более лояльные к банку;\n",
    "- третий и четвертый - рузультат \"успешной\" продажи. \n",
    "\n",
    "Для более обоснованных предположений следует уточнить сценарии получения 2, 3 и 4 продуктов."
   ]
  },
  {
   "cell_type": "markdown",
   "id": "e8a70ce7",
   "metadata": {},
   "source": [
    "### По городам"
   ]
  },
  {
   "cell_type": "code",
   "execution_count": 59,
   "id": "a24e54cc",
   "metadata": {},
   "outputs": [],
   "source": [
    "# сформируем сводные таблицы по городам\n",
    "\n",
    "churn_by_products_yaroslavl, churn_by_products_ribinsk, churn_by_products_rostov = (\n",
    "    churn_by_group_city(data, 'products')\n",
    ")"
   ]
  },
  {
   "cell_type": "code",
   "execution_count": 60,
   "id": "4a46a3e5",
   "metadata": {
    "scrolled": true
   },
   "outputs": [
    {
     "data": {
      "text/html": [
       "<div>\n",
       "<style scoped>\n",
       "    .dataframe tbody tr th:only-of-type {\n",
       "        vertical-align: middle;\n",
       "    }\n",
       "\n",
       "    .dataframe tbody tr th {\n",
       "        vertical-align: top;\n",
       "    }\n",
       "\n",
       "    .dataframe thead th {\n",
       "        text-align: right;\n",
       "    }\n",
       "</style>\n",
       "<table border=\"1\" class=\"dataframe\">\n",
       "  <thead>\n",
       "    <tr style=\"text-align: right;\">\n",
       "      <th>churn</th>\n",
       "      <th>products</th>\n",
       "      <th>percent_churn_yar</th>\n",
       "      <th>percent_churn_rib</th>\n",
       "      <th>percent_churn_rost</th>\n",
       "    </tr>\n",
       "  </thead>\n",
       "  <tbody>\n",
       "    <tr>\n",
       "      <th>0</th>\n",
       "      <td>1</td>\n",
       "      <td>22.0</td>\n",
       "      <td>22.0</td>\n",
       "      <td>43.0</td>\n",
       "    </tr>\n",
       "    <tr>\n",
       "      <th>1</th>\n",
       "      <td>2</td>\n",
       "      <td>6.0</td>\n",
       "      <td>7.0</td>\n",
       "      <td>12.0</td>\n",
       "    </tr>\n",
       "    <tr>\n",
       "      <th>2</th>\n",
       "      <td>3</td>\n",
       "      <td>79.0</td>\n",
       "      <td>79.0</td>\n",
       "      <td>90.0</td>\n",
       "    </tr>\n",
       "    <tr>\n",
       "      <th>3</th>\n",
       "      <td>4</td>\n",
       "      <td>100.0</td>\n",
       "      <td>100.0</td>\n",
       "      <td>100.0</td>\n",
       "    </tr>\n",
       "  </tbody>\n",
       "</table>\n",
       "</div>"
      ],
      "text/plain": [
       "churn products  percent_churn_yar  percent_churn_rib  percent_churn_rost\n",
       "0            1               22.0               22.0                43.0\n",
       "1            2                6.0                7.0                12.0\n",
       "2            3               79.0               79.0                90.0\n",
       "3            4              100.0              100.0               100.0"
      ]
     },
     "metadata": {},
     "output_type": "display_data"
    }
   ],
   "source": [
    "# Объединим % оттока по городам\n",
    "\n",
    "group_merge(churn_by_products_yaroslavl,\n",
    "            churn_by_products_ribinsk,\n",
    "            churn_by_products_rostov,\n",
    "            'products')"
   ]
  },
  {
   "cell_type": "code",
   "execution_count": 61,
   "id": "960f7d4a",
   "metadata": {},
   "outputs": [
    {
     "data": {
      "image/png": "[encoded data removed]",
      "text/plain": [
       "<Figure size 1080x432 with 1 Axes>"
      ]
     },
     "metadata": {
      "needs_background": "light"
     },
     "output_type": "display_data"
    }
   ],
   "source": [
    "# Построим график % оттока по городам\n",
    "\n",
    "churn_percent_by_city(churn_by_products_yaroslavl,\n",
    "            churn_by_products_ribinsk,\n",
    "            churn_by_products_rostov,\n",
    "            'products',\n",
    "                         'количеству продуктов',\n",
    "                         'количество продуктов')"
   ]
  },
  {
   "cell_type": "markdown",
   "id": "afd37607",
   "metadata": {},
   "source": [
    "___\n",
    "**Можно отметить** различия оттока клиентов имеющих 3 и 4 продукта менее выражены мужду Ростовом Великим и Ярославлем, Рыбинском\n",
    "___"
   ]
  },
  {
   "cell_type": "markdown",
   "id": "38625e74",
   "metadata": {},
   "source": [
    "## Количество объектов"
   ]
  },
  {
   "cell_type": "code",
   "execution_count": 62,
   "id": "55e7b863",
   "metadata": {},
   "outputs": [
    {
     "data": {
      "text/plain": [
       "(0, 10)"
      ]
     },
     "execution_count": 62,
     "metadata": {},
     "output_type": "execute_result"
    }
   ],
   "source": [
    "# диапазон значений количества объектов\n",
    "\n",
    "data['objects'].min(), data['objects'].max()"
   ]
  },
  {
   "cell_type": "code",
   "execution_count": 63,
   "id": "318f9cfc",
   "metadata": {},
   "outputs": [
    {
     "data": {
      "text/html": [
       "<div>\n",
       "<style scoped>\n",
       "    .dataframe tbody tr th:only-of-type {\n",
       "        vertical-align: middle;\n",
       "    }\n",
       "\n",
       "    .dataframe tbody tr th {\n",
       "        vertical-align: top;\n",
       "    }\n",
       "\n",
       "    .dataframe thead th {\n",
       "        text-align: right;\n",
       "    }\n",
       "</style>\n",
       "<table border=\"1\" class=\"dataframe\">\n",
       "  <thead>\n",
       "    <tr style=\"text-align: right;\">\n",
       "      <th>churn</th>\n",
       "      <th>objects</th>\n",
       "      <th>0</th>\n",
       "      <th>1</th>\n",
       "      <th>total</th>\n",
       "      <th>percent_churn</th>\n",
       "    </tr>\n",
       "  </thead>\n",
       "  <tbody>\n",
       "    <tr>\n",
       "      <th>0</th>\n",
       "      <td>0</td>\n",
       "      <td>318</td>\n",
       "      <td>95</td>\n",
       "      <td>413</td>\n",
       "      <td>23.0</td>\n",
       "    </tr>\n",
       "    <tr>\n",
       "      <th>1</th>\n",
       "      <td>1</td>\n",
       "      <td>803</td>\n",
       "      <td>232</td>\n",
       "      <td>1035</td>\n",
       "      <td>22.0</td>\n",
       "    </tr>\n",
       "    <tr>\n",
       "      <th>2</th>\n",
       "      <td>2</td>\n",
       "      <td>847</td>\n",
       "      <td>201</td>\n",
       "      <td>1048</td>\n",
       "      <td>19.0</td>\n",
       "    </tr>\n",
       "    <tr>\n",
       "      <th>3</th>\n",
       "      <td>3</td>\n",
       "      <td>796</td>\n",
       "      <td>213</td>\n",
       "      <td>1009</td>\n",
       "      <td>21.0</td>\n",
       "    </tr>\n",
       "    <tr>\n",
       "      <th>4</th>\n",
       "      <td>4</td>\n",
       "      <td>786</td>\n",
       "      <td>203</td>\n",
       "      <td>989</td>\n",
       "      <td>21.0</td>\n",
       "    </tr>\n",
       "    <tr>\n",
       "      <th>5</th>\n",
       "      <td>5</td>\n",
       "      <td>803</td>\n",
       "      <td>209</td>\n",
       "      <td>1012</td>\n",
       "      <td>21.0</td>\n",
       "    </tr>\n",
       "    <tr>\n",
       "      <th>6</th>\n",
       "      <td>6</td>\n",
       "      <td>771</td>\n",
       "      <td>196</td>\n",
       "      <td>967</td>\n",
       "      <td>20.0</td>\n",
       "    </tr>\n",
       "    <tr>\n",
       "      <th>7</th>\n",
       "      <td>7</td>\n",
       "      <td>851</td>\n",
       "      <td>177</td>\n",
       "      <td>1028</td>\n",
       "      <td>17.0</td>\n",
       "    </tr>\n",
       "    <tr>\n",
       "      <th>8</th>\n",
       "      <td>8</td>\n",
       "      <td>828</td>\n",
       "      <td>197</td>\n",
       "      <td>1025</td>\n",
       "      <td>19.0</td>\n",
       "    </tr>\n",
       "    <tr>\n",
       "      <th>9</th>\n",
       "      <td>9</td>\n",
       "      <td>771</td>\n",
       "      <td>213</td>\n",
       "      <td>984</td>\n",
       "      <td>22.0</td>\n",
       "    </tr>\n",
       "    <tr>\n",
       "      <th>10</th>\n",
       "      <td>10</td>\n",
       "      <td>389</td>\n",
       "      <td>101</td>\n",
       "      <td>490</td>\n",
       "      <td>21.0</td>\n",
       "    </tr>\n",
       "  </tbody>\n",
       "</table>\n",
       "</div>"
      ],
      "text/plain": [
       "churn  objects    0    1  total  percent_churn\n",
       "0            0  318   95    413           23.0\n",
       "1            1  803  232   1035           22.0\n",
       "2            2  847  201   1048           19.0\n",
       "3            3  796  213   1009           21.0\n",
       "4            4  786  203    989           21.0\n",
       "5            5  803  209   1012           21.0\n",
       "6            6  771  196    967           20.0\n",
       "7            7  851  177   1028           17.0\n",
       "8            8  828  197   1025           19.0\n",
       "9            9  771  213    984           22.0\n",
       "10          10  389  101    490           21.0"
      ]
     },
     "execution_count": 63,
     "metadata": {},
     "output_type": "execute_result"
    }
   ],
   "source": [
    "churn_by_objects = cross_table(data, 'objects', 'churn')\n",
    "churn_by_objects = churn_by_objects.reset_index()\n",
    "churn_by_objects"
   ]
  },
  {
   "cell_type": "code",
   "execution_count": 64,
   "id": "dfac08bd",
   "metadata": {},
   "outputs": [
    {
     "data": {
      "image/png": "[encoded data removed]",
      "text/plain": [
       "<Figure size 1080x432 with 1 Axes>"
      ]
     },
     "metadata": {
      "needs_background": "light"
     },
     "output_type": "display_data"
    }
   ],
   "source": [
    "# Построим график количество ушедших и оставшихся клиентов в зависимости от количества объектов\n",
    "\n",
    "churn_not_churn_plot(churn_by_objects, 'objects',\n",
    "                    \"количеству объектов\",\n",
    "                    \"количество объектов\")"
   ]
  },
  {
   "cell_type": "code",
   "execution_count": 65,
   "id": "e50ac6a3",
   "metadata": {},
   "outputs": [
    {
     "data": {
      "text/plain": [
       "(0.0, 40.0)"
      ]
     },
     "execution_count": 65,
     "metadata": {},
     "output_type": "execute_result"
    },
    {
     "data": {
      "image/png": "[encoded data removed]",
      "text/plain": [
       "<Figure size 1296x432 with 1 Axes>"
      ]
     },
     "metadata": {
      "needs_background": "light"
     },
     "output_type": "display_data"
    }
   ],
   "source": [
    "churn_percent_bar(churn_by_objects, 'objects',\n",
    "                    \"количеству объектов\",\n",
    "                    \"количество объектов\")\n",
    "\n",
    "plt.ylim(0, 40)"
   ]
  },
  {
   "cell_type": "markdown",
   "id": "a621f46f",
   "metadata": {},
   "source": [
    "**Можно отметить:**\n",
    "- диапазон значений оттока от 17 до 23 %;\n",
    "- отсутсвие ярко выраженной корреляции;\n",
    "- можно сделать вывод об отсутсвии связи между количеством объектов и уровнем оттока клиентов."
   ]
  },
  {
   "cell_type": "markdown",
   "id": "64011b7a",
   "metadata": {},
   "source": [
    "### По городам"
   ]
  },
  {
   "cell_type": "code",
   "execution_count": 66,
   "id": "20231935",
   "metadata": {},
   "outputs": [],
   "source": [
    "# сформируем сводные таблицы по городам\n",
    "\n",
    "churn_by_objects_yaroslavl, churn_by_objects_ribinsk, churn_by_objects_rostov = (\n",
    "    churn_by_group_city(data, 'objects')\n",
    ") "
   ]
  },
  {
   "cell_type": "code",
   "execution_count": 67,
   "id": "4c322365",
   "metadata": {},
   "outputs": [
    {
     "data": {
      "text/html": [
       "<div>\n",
       "<style scoped>\n",
       "    .dataframe tbody tr th:only-of-type {\n",
       "        vertical-align: middle;\n",
       "    }\n",
       "\n",
       "    .dataframe tbody tr th {\n",
       "        vertical-align: top;\n",
       "    }\n",
       "\n",
       "    .dataframe thead th {\n",
       "        text-align: right;\n",
       "    }\n",
       "</style>\n",
       "<table border=\"1\" class=\"dataframe\">\n",
       "  <thead>\n",
       "    <tr style=\"text-align: right;\">\n",
       "      <th>churn</th>\n",
       "      <th>objects</th>\n",
       "      <th>percent_churn_yar</th>\n",
       "      <th>total_yar</th>\n",
       "      <th>percent_churn_rib</th>\n",
       "      <th>total_rib</th>\n",
       "      <th>percent_churn_rost</th>\n",
       "      <th>total_rost</th>\n",
       "    </tr>\n",
       "  </thead>\n",
       "  <tbody>\n",
       "    <tr>\n",
       "      <th>0</th>\n",
       "      <td>0</td>\n",
       "      <td>17.0</td>\n",
       "      <td>205</td>\n",
       "      <td>23.0</td>\n",
       "      <td>103</td>\n",
       "      <td>34.0</td>\n",
       "      <td>105</td>\n",
       "    </tr>\n",
       "    <tr>\n",
       "      <th>1</th>\n",
       "      <td>1</td>\n",
       "      <td>16.0</td>\n",
       "      <td>529</td>\n",
       "      <td>18.0</td>\n",
       "      <td>242</td>\n",
       "      <td>40.0</td>\n",
       "      <td>264</td>\n",
       "    </tr>\n",
       "    <tr>\n",
       "      <th>2</th>\n",
       "      <td>2</td>\n",
       "      <td>17.0</td>\n",
       "      <td>525</td>\n",
       "      <td>19.0</td>\n",
       "      <td>248</td>\n",
       "      <td>23.0</td>\n",
       "      <td>275</td>\n",
       "    </tr>\n",
       "    <tr>\n",
       "      <th>3</th>\n",
       "      <td>3</td>\n",
       "      <td>17.0</td>\n",
       "      <td>491</td>\n",
       "      <td>18.0</td>\n",
       "      <td>257</td>\n",
       "      <td>32.0</td>\n",
       "      <td>261</td>\n",
       "    </tr>\n",
       "    <tr>\n",
       "      <th>4</th>\n",
       "      <td>4</td>\n",
       "      <td>17.0</td>\n",
       "      <td>512</td>\n",
       "      <td>17.0</td>\n",
       "      <td>245</td>\n",
       "      <td>33.0</td>\n",
       "      <td>232</td>\n",
       "    </tr>\n",
       "    <tr>\n",
       "      <th>5</th>\n",
       "      <td>5</td>\n",
       "      <td>16.0</td>\n",
       "      <td>485</td>\n",
       "      <td>16.0</td>\n",
       "      <td>268</td>\n",
       "      <td>35.0</td>\n",
       "      <td>259</td>\n",
       "    </tr>\n",
       "    <tr>\n",
       "      <th>6</th>\n",
       "      <td>6</td>\n",
       "      <td>15.0</td>\n",
       "      <td>503</td>\n",
       "      <td>18.0</td>\n",
       "      <td>237</td>\n",
       "      <td>33.0</td>\n",
       "      <td>227</td>\n",
       "    </tr>\n",
       "    <tr>\n",
       "      <th>7</th>\n",
       "      <td>7</td>\n",
       "      <td>14.0</td>\n",
       "      <td>552</td>\n",
       "      <td>16.0</td>\n",
       "      <td>251</td>\n",
       "      <td>27.0</td>\n",
       "      <td>225</td>\n",
       "    </tr>\n",
       "    <tr>\n",
       "      <th>8</th>\n",
       "      <td>8</td>\n",
       "      <td>15.0</td>\n",
       "      <td>465</td>\n",
       "      <td>14.0</td>\n",
       "      <td>296</td>\n",
       "      <td>33.0</td>\n",
       "      <td>264</td>\n",
       "    </tr>\n",
       "    <tr>\n",
       "      <th>9</th>\n",
       "      <td>9</td>\n",
       "      <td>17.0</td>\n",
       "      <td>504</td>\n",
       "      <td>15.0</td>\n",
       "      <td>211</td>\n",
       "      <td>35.0</td>\n",
       "      <td>269</td>\n",
       "    </tr>\n",
       "    <tr>\n",
       "      <th>10</th>\n",
       "      <td>10</td>\n",
       "      <td>20.0</td>\n",
       "      <td>243</td>\n",
       "      <td>9.0</td>\n",
       "      <td>119</td>\n",
       "      <td>33.0</td>\n",
       "      <td>128</td>\n",
       "    </tr>\n",
       "  </tbody>\n",
       "</table>\n",
       "</div>"
      ],
      "text/plain": [
       "churn objects  percent_churn_yar  total_yar  percent_churn_rib  total_rib  \\\n",
       "0           0               17.0        205               23.0        103   \n",
       "1           1               16.0        529               18.0        242   \n",
       "2           2               17.0        525               19.0        248   \n",
       "3           3               17.0        491               18.0        257   \n",
       "4           4               17.0        512               17.0        245   \n",
       "5           5               16.0        485               16.0        268   \n",
       "6           6               15.0        503               18.0        237   \n",
       "7           7               14.0        552               16.0        251   \n",
       "8           8               15.0        465               14.0        296   \n",
       "9           9               17.0        504               15.0        211   \n",
       "10         10               20.0        243                9.0        119   \n",
       "\n",
       "churn  percent_churn_rost  total_rost  \n",
       "0                    34.0         105  \n",
       "1                    40.0         264  \n",
       "2                    23.0         275  \n",
       "3                    32.0         261  \n",
       "4                    33.0         232  \n",
       "5                    35.0         259  \n",
       "6                    33.0         227  \n",
       "7                    27.0         225  \n",
       "8                    33.0         264  \n",
       "9                    35.0         269  \n",
       "10                   33.0         128  "
      ]
     },
     "metadata": {},
     "output_type": "display_data"
    }
   ],
   "source": [
    "group_merge(churn_by_objects_yaroslavl, churn_by_objects_ribinsk, churn_by_objects_rostov,\n",
    "            'objects', total=True)"
   ]
  },
  {
   "cell_type": "code",
   "execution_count": 68,
   "id": "d05e44fb",
   "metadata": {
    "scrolled": false
   },
   "outputs": [
    {
     "data": {
      "image/png": "[encoded data removed]",
      "text/plain": [
       "<Figure size 1080x432 with 1 Axes>"
      ]
     },
     "metadata": {
      "needs_background": "light"
     },
     "output_type": "display_data"
    }
   ],
   "source": [
    "# Построим линейный график % оттока по городам\n",
    "\n",
    "churn_percent_by_city(churn_by_objects_yaroslavl, churn_by_objects_ribinsk, churn_by_objects_rostov,\n",
    "            'objects',\n",
    "                         \"количеству объектов\",\n",
    "                    \"количество объектов\")"
   ]
  },
  {
   "cell_type": "markdown",
   "id": "7a4505ef",
   "metadata": {},
   "source": [
    "**Можно отметить:**\n",
    "- Превышение оттока в Ростове Великом по всем категориям;"
   ]
  },
  {
   "cell_type": "markdown",
   "id": "25b8fc6c",
   "metadata": {},
   "source": [
    "## Наличие кредитной карты"
   ]
  },
  {
   "cell_type": "code",
   "execution_count": 69,
   "id": "cba29cf5",
   "metadata": {},
   "outputs": [
    {
     "data": {
      "text/html": [
       "<div>\n",
       "<style scoped>\n",
       "    .dataframe tbody tr th:only-of-type {\n",
       "        vertical-align: middle;\n",
       "    }\n",
       "\n",
       "    .dataframe tbody tr th {\n",
       "        vertical-align: top;\n",
       "    }\n",
       "\n",
       "    .dataframe thead th {\n",
       "        text-align: right;\n",
       "    }\n",
       "</style>\n",
       "<table border=\"1\" class=\"dataframe\">\n",
       "  <thead>\n",
       "    <tr style=\"text-align: right;\">\n",
       "      <th>churn</th>\n",
       "      <th>0</th>\n",
       "      <th>1</th>\n",
       "      <th>total</th>\n",
       "      <th>percent_churn</th>\n",
       "    </tr>\n",
       "    <tr>\n",
       "      <th>credit_card</th>\n",
       "      <th></th>\n",
       "      <th></th>\n",
       "      <th></th>\n",
       "      <th></th>\n",
       "    </tr>\n",
       "  </thead>\n",
       "  <tbody>\n",
       "    <tr>\n",
       "      <th>0</th>\n",
       "      <td>2332</td>\n",
       "      <td>613</td>\n",
       "      <td>2945</td>\n",
       "      <td>21.0</td>\n",
       "    </tr>\n",
       "    <tr>\n",
       "      <th>1</th>\n",
       "      <td>5631</td>\n",
       "      <td>1424</td>\n",
       "      <td>7055</td>\n",
       "      <td>20.0</td>\n",
       "    </tr>\n",
       "  </tbody>\n",
       "</table>\n",
       "</div>"
      ],
      "text/plain": [
       "churn           0     1  total  percent_churn\n",
       "credit_card                                  \n",
       "0            2332   613   2945           21.0\n",
       "1            5631  1424   7055           20.0"
      ]
     },
     "execution_count": 69,
     "metadata": {},
     "output_type": "execute_result"
    }
   ],
   "source": [
    "# сформируем кросстаблицу\n",
    "\n",
    "churn_by_credit_card = cross_table(data, 'credit_card', 'churn')\n",
    "churn_by_credit_card"
   ]
  },
  {
   "cell_type": "markdown",
   "id": "5bb970f7",
   "metadata": {},
   "source": [
    "___\n",
    "**Можно отметить** схожие значения оттока клиентов обладающих кредитной картой и не обладающих\n",
    "___"
   ]
  },
  {
   "cell_type": "markdown",
   "id": "047a173e",
   "metadata": {},
   "source": [
    "### По городам"
   ]
  },
  {
   "cell_type": "code",
   "execution_count": 70,
   "id": "e5b712f2",
   "metadata": {},
   "outputs": [
    {
     "name": "stdout",
     "output_type": "stream",
     "text": [
      "Ярославль\n",
      "---------\n",
      "churn           0    1  total  percent_churn\n",
      "credit_card                                 \n",
      "0            1230  241   1471           16.0\n",
      "1            2974  569   3543           16.0\n",
      "----------------------------------------\n",
      "Рыбинск\n",
      "-------\n",
      "churn           0    1  total  percent_churn\n",
      "credit_card                                 \n",
      "0             621  135    756           18.0\n",
      "1            1443  278   1721           16.0\n",
      "----------------------------------------\n",
      "Ростов Великий\n",
      "--------------\n",
      "churn           0    1  total  percent_churn\n",
      "credit_card                                 \n",
      "0             481  237    718           33.0\n",
      "1            1214  577   1791           32.0\n",
      "----------------------------------------\n"
     ]
    }
   ],
   "source": [
    "for i in data['city'].unique():\n",
    "    tmp_data = data.query('city == @i')\n",
    "    tmp_cross_table = cross_table(tmp_data, 'credit_card', 'churn')\n",
    "    print(f'{i}')\n",
    "    print('-'*len(i)) \n",
    "    print(f'{tmp_cross_table}')\n",
    "    print('-'*40)"
   ]
  },
  {
   "cell_type": "markdown",
   "id": "900ea188",
   "metadata": {},
   "source": [
    "___\n",
    "**Можно отметить** во всех городах наблюдается схожее соотношение оттока клиентов обладающих кредитной картой и не обладающих\n",
    "___"
   ]
  },
  {
   "cell_type": "markdown",
   "id": "a172b9ef",
   "metadata": {},
   "source": [
    "## Баланс"
   ]
  },
  {
   "cell_type": "code",
   "execution_count": 71,
   "id": "935a3b6d",
   "metadata": {},
   "outputs": [
    {
     "data": {
      "text/plain": [
       "(3768.69, 250898.09)"
      ]
     },
     "execution_count": 71,
     "metadata": {},
     "output_type": "execute_result"
    }
   ],
   "source": [
    "# минимальный и максимальный баланс\n",
    "\n",
    "balance_min, balance_max = data.query('balance !=0')['balance'].min(), data['balance'].max()\n",
    "balance_min, balance_max"
   ]
  },
  {
   "cell_type": "code",
   "execution_count": 72,
   "id": "5fd13dda",
   "metadata": {},
   "outputs": [],
   "source": [
    "# установим значения для групп\n",
    "\n",
    "balance_group = [-0.1, 0, 25000, 50000, 75000, 100000, 125000, 150000, 175000, 200000, 10000000]"
   ]
  },
  {
   "cell_type": "code",
   "execution_count": 73,
   "id": "e4dd10a1",
   "metadata": {},
   "outputs": [],
   "source": [
    "# добавим группы\n",
    "\n",
    "data['balance_group'] = pd.cut(data['balance'], balance_group)"
   ]
  },
  {
   "cell_type": "code",
   "execution_count": 74,
   "id": "39940abd",
   "metadata": {},
   "outputs": [
    {
     "data": {
      "text/html": [
       "<div>\n",
       "<style scoped>\n",
       "    .dataframe tbody tr th:only-of-type {\n",
       "        vertical-align: middle;\n",
       "    }\n",
       "\n",
       "    .dataframe tbody tr th {\n",
       "        vertical-align: top;\n",
       "    }\n",
       "\n",
       "    .dataframe thead th {\n",
       "        text-align: right;\n",
       "    }\n",
       "</style>\n",
       "<table border=\"1\" class=\"dataframe\">\n",
       "  <thead>\n",
       "    <tr style=\"text-align: right;\">\n",
       "      <th>churn</th>\n",
       "      <th>balance_group</th>\n",
       "      <th>0</th>\n",
       "      <th>1</th>\n",
       "      <th>total</th>\n",
       "      <th>percent_churn</th>\n",
       "    </tr>\n",
       "  </thead>\n",
       "  <tbody>\n",
       "    <tr>\n",
       "      <th>0</th>\n",
       "      <td>(-0.1, 0.0]</td>\n",
       "      <td>3117</td>\n",
       "      <td>500</td>\n",
       "      <td>3617</td>\n",
       "      <td>14.0</td>\n",
       "    </tr>\n",
       "    <tr>\n",
       "      <th>1</th>\n",
       "      <td>(0.0, 25000.0]</td>\n",
       "      <td>2</td>\n",
       "      <td>4</td>\n",
       "      <td>6</td>\n",
       "      <td>67.0</td>\n",
       "    </tr>\n",
       "    <tr>\n",
       "      <th>2</th>\n",
       "      <td>(25000.0, 50000.0]</td>\n",
       "      <td>47</td>\n",
       "      <td>22</td>\n",
       "      <td>69</td>\n",
       "      <td>32.0</td>\n",
       "    </tr>\n",
       "    <tr>\n",
       "      <th>3</th>\n",
       "      <td>(50000.0, 75000.0]</td>\n",
       "      <td>274</td>\n",
       "      <td>75</td>\n",
       "      <td>349</td>\n",
       "      <td>21.0</td>\n",
       "    </tr>\n",
       "    <tr>\n",
       "      <th>4</th>\n",
       "      <td>(75000.0, 100000.0]</td>\n",
       "      <td>935</td>\n",
       "      <td>225</td>\n",
       "      <td>1160</td>\n",
       "      <td>19.0</td>\n",
       "    </tr>\n",
       "    <tr>\n",
       "      <th>5</th>\n",
       "      <td>(100000.0, 125000.0]</td>\n",
       "      <td>1510</td>\n",
       "      <td>558</td>\n",
       "      <td>2068</td>\n",
       "      <td>27.0</td>\n",
       "    </tr>\n",
       "    <tr>\n",
       "      <th>6</th>\n",
       "      <td>(125000.0, 150000.0]</td>\n",
       "      <td>1333</td>\n",
       "      <td>429</td>\n",
       "      <td>1762</td>\n",
       "      <td>24.0</td>\n",
       "    </tr>\n",
       "    <tr>\n",
       "      <th>7</th>\n",
       "      <td>(150000.0, 175000.0]</td>\n",
       "      <td>582</td>\n",
       "      <td>156</td>\n",
       "      <td>738</td>\n",
       "      <td>21.0</td>\n",
       "    </tr>\n",
       "    <tr>\n",
       "      <th>8</th>\n",
       "      <td>(175000.0, 200000.0]</td>\n",
       "      <td>148</td>\n",
       "      <td>49</td>\n",
       "      <td>197</td>\n",
       "      <td>25.0</td>\n",
       "    </tr>\n",
       "    <tr>\n",
       "      <th>9</th>\n",
       "      <td>(200000.0, 10000000.0]</td>\n",
       "      <td>15</td>\n",
       "      <td>19</td>\n",
       "      <td>34</td>\n",
       "      <td>56.0</td>\n",
       "    </tr>\n",
       "  </tbody>\n",
       "</table>\n",
       "</div>"
      ],
      "text/plain": [
       "churn           balance_group     0    1  total  percent_churn\n",
       "0                 (-0.1, 0.0]  3117  500   3617           14.0\n",
       "1              (0.0, 25000.0]     2    4      6           67.0\n",
       "2          (25000.0, 50000.0]    47   22     69           32.0\n",
       "3          (50000.0, 75000.0]   274   75    349           21.0\n",
       "4         (75000.0, 100000.0]   935  225   1160           19.0\n",
       "5        (100000.0, 125000.0]  1510  558   2068           27.0\n",
       "6        (125000.0, 150000.0]  1333  429   1762           24.0\n",
       "7        (150000.0, 175000.0]   582  156    738           21.0\n",
       "8        (175000.0, 200000.0]   148   49    197           25.0\n",
       "9      (200000.0, 10000000.0]    15   19     34           56.0"
      ]
     },
     "execution_count": 74,
     "metadata": {},
     "output_type": "execute_result"
    }
   ],
   "source": [
    "churn_by_balance_group = churn_by_group(data, 'balance_group')\n",
    "churn_by_balance_group"
   ]
  },
  {
   "cell_type": "code",
   "execution_count": 75,
   "id": "e2d22864",
   "metadata": {},
   "outputs": [
    {
     "data": {
      "text/html": [
       "<div>\n",
       "<style scoped>\n",
       "    .dataframe tbody tr th:only-of-type {\n",
       "        vertical-align: middle;\n",
       "    }\n",
       "\n",
       "    .dataframe tbody tr th {\n",
       "        vertical-align: top;\n",
       "    }\n",
       "\n",
       "    .dataframe thead th {\n",
       "        text-align: right;\n",
       "    }\n",
       "</style>\n",
       "<table border=\"1\" class=\"dataframe\">\n",
       "  <thead>\n",
       "    <tr style=\"text-align: right;\">\n",
       "      <th>churn</th>\n",
       "      <th>balance_group</th>\n",
       "      <th>0</th>\n",
       "      <th>1</th>\n",
       "      <th>total</th>\n",
       "      <th>percent_churn</th>\n",
       "    </tr>\n",
       "  </thead>\n",
       "  <tbody>\n",
       "    <tr>\n",
       "      <th>0</th>\n",
       "      <td>(-0.1, 0.0]</td>\n",
       "      <td>3117</td>\n",
       "      <td>500</td>\n",
       "      <td>3617</td>\n",
       "      <td>14.0</td>\n",
       "    </tr>\n",
       "    <tr>\n",
       "      <th>1</th>\n",
       "      <td>(0.0, 50000.0]</td>\n",
       "      <td>49</td>\n",
       "      <td>26</td>\n",
       "      <td>75</td>\n",
       "      <td>35.0</td>\n",
       "    </tr>\n",
       "    <tr>\n",
       "      <th>2</th>\n",
       "      <td>(50000.0, 75000.0]</td>\n",
       "      <td>274</td>\n",
       "      <td>75</td>\n",
       "      <td>349</td>\n",
       "      <td>21.0</td>\n",
       "    </tr>\n",
       "    <tr>\n",
       "      <th>3</th>\n",
       "      <td>(75000.0, 100000.0]</td>\n",
       "      <td>935</td>\n",
       "      <td>225</td>\n",
       "      <td>1160</td>\n",
       "      <td>19.0</td>\n",
       "    </tr>\n",
       "    <tr>\n",
       "      <th>4</th>\n",
       "      <td>(100000.0, 125000.0]</td>\n",
       "      <td>1510</td>\n",
       "      <td>558</td>\n",
       "      <td>2068</td>\n",
       "      <td>27.0</td>\n",
       "    </tr>\n",
       "    <tr>\n",
       "      <th>5</th>\n",
       "      <td>(125000.0, 150000.0]</td>\n",
       "      <td>1333</td>\n",
       "      <td>429</td>\n",
       "      <td>1762</td>\n",
       "      <td>24.0</td>\n",
       "    </tr>\n",
       "    <tr>\n",
       "      <th>6</th>\n",
       "      <td>(150000.0, 175000.0]</td>\n",
       "      <td>582</td>\n",
       "      <td>156</td>\n",
       "      <td>738</td>\n",
       "      <td>21.0</td>\n",
       "    </tr>\n",
       "    <tr>\n",
       "      <th>7</th>\n",
       "      <td>(175000.0, 10000000.0]</td>\n",
       "      <td>163</td>\n",
       "      <td>68</td>\n",
       "      <td>231</td>\n",
       "      <td>29.0</td>\n",
       "    </tr>\n",
       "  </tbody>\n",
       "</table>\n",
       "</div>"
      ],
      "text/plain": [
       "churn           balance_group     0    1  total  percent_churn\n",
       "0                 (-0.1, 0.0]  3117  500   3617           14.0\n",
       "1              (0.0, 50000.0]    49   26     75           35.0\n",
       "2          (50000.0, 75000.0]   274   75    349           21.0\n",
       "3         (75000.0, 100000.0]   935  225   1160           19.0\n",
       "4        (100000.0, 125000.0]  1510  558   2068           27.0\n",
       "5        (125000.0, 150000.0]  1333  429   1762           24.0\n",
       "6        (150000.0, 175000.0]   582  156    738           21.0\n",
       "7      (175000.0, 10000000.0]   163   68    231           29.0"
      ]
     },
     "execution_count": 75,
     "metadata": {},
     "output_type": "execute_result"
    }
   ],
   "source": [
    "# объединим группы 0 - 25 000 и 25 000 - 50 000, 175 000 - 200 000 и >200 000 \n",
    "# ввиду небольшого количества клиентов в группах\n",
    "\n",
    "balance_group = [-0.1, 0, 50000, 75000, 100000, 125000, 150000, 175000, 10000000]\n",
    "\n",
    "data['balance_group'] = pd.cut(data['balance'], balance_group)\n",
    "\n",
    "churn_by_balance_group = churn_by_group(data, 'balance_group')\n",
    "churn_by_balance_group"
   ]
  },
  {
   "cell_type": "code",
   "execution_count": 76,
   "id": "75209a15",
   "metadata": {},
   "outputs": [
    {
     "data": {
      "image/png": "[encoded data removed]",
      "text/plain": [
       "<Figure size 1080x432 with 1 Axes>"
      ]
     },
     "metadata": {
      "needs_background": "light"
     },
     "output_type": "display_data"
    }
   ],
   "source": [
    "churn_not_churn_plot(churn_by_balance_group, 'balance_group',\n",
    "                    \"уровню баланса\",\n",
    "                    \"баланс, руб.\")\n",
    "\n",
    "# скорректируем подписи для оси X\n",
    "\n",
    "x_label = []\n",
    "\n",
    "for i, ii in enumerate(balance_group):\n",
    "    if i == 0:\n",
    "        x_label.append(f'0 / NaN')\n",
    "        \n",
    "    elif ii == balance_group[-2]:\n",
    "        x_label.append(f'от {balance_group[i]}')\n",
    "        \n",
    "    elif ii == balance_group[-1]:\n",
    "        break\n",
    "        \n",
    "    else:\n",
    "        x_label.append(f'от {balance_group[i]}\\n до {balance_group[i+1]}')\n",
    "\n",
    "plt.xticks(churn_by_balance_group['balance_group'], x_label);"
   ]
  },
  {
   "cell_type": "code",
   "execution_count": 77,
   "id": "d270e932",
   "metadata": {},
   "outputs": [
    {
     "data": {
      "text/html": [
       "<div>\n",
       "<style scoped>\n",
       "    .dataframe tbody tr th:only-of-type {\n",
       "        vertical-align: middle;\n",
       "    }\n",
       "\n",
       "    .dataframe tbody tr th {\n",
       "        vertical-align: top;\n",
       "    }\n",
       "\n",
       "    .dataframe thead th {\n",
       "        text-align: right;\n",
       "    }\n",
       "</style>\n",
       "<table border=\"1\" class=\"dataframe\">\n",
       "  <thead>\n",
       "    <tr style=\"text-align: right;\">\n",
       "      <th>churn</th>\n",
       "      <th>balance_group</th>\n",
       "      <th>0</th>\n",
       "      <th>1</th>\n",
       "      <th>total</th>\n",
       "      <th>percent_churn</th>\n",
       "      <th>total_percent_client</th>\n",
       "    </tr>\n",
       "  </thead>\n",
       "  <tbody>\n",
       "    <tr>\n",
       "      <th>0</th>\n",
       "      <td>(-0.1, 0.0]</td>\n",
       "      <td>3117</td>\n",
       "      <td>500</td>\n",
       "      <td>3617</td>\n",
       "      <td>14.0</td>\n",
       "      <td>36.17</td>\n",
       "    </tr>\n",
       "    <tr>\n",
       "      <th>1</th>\n",
       "      <td>(0.0, 50000.0]</td>\n",
       "      <td>49</td>\n",
       "      <td>26</td>\n",
       "      <td>75</td>\n",
       "      <td>35.0</td>\n",
       "      <td>0.75</td>\n",
       "    </tr>\n",
       "    <tr>\n",
       "      <th>2</th>\n",
       "      <td>(50000.0, 75000.0]</td>\n",
       "      <td>274</td>\n",
       "      <td>75</td>\n",
       "      <td>349</td>\n",
       "      <td>21.0</td>\n",
       "      <td>3.49</td>\n",
       "    </tr>\n",
       "    <tr>\n",
       "      <th>3</th>\n",
       "      <td>(75000.0, 100000.0]</td>\n",
       "      <td>935</td>\n",
       "      <td>225</td>\n",
       "      <td>1160</td>\n",
       "      <td>19.0</td>\n",
       "      <td>11.60</td>\n",
       "    </tr>\n",
       "    <tr>\n",
       "      <th>4</th>\n",
       "      <td>(100000.0, 125000.0]</td>\n",
       "      <td>1510</td>\n",
       "      <td>558</td>\n",
       "      <td>2068</td>\n",
       "      <td>27.0</td>\n",
       "      <td>20.68</td>\n",
       "    </tr>\n",
       "    <tr>\n",
       "      <th>5</th>\n",
       "      <td>(125000.0, 150000.0]</td>\n",
       "      <td>1333</td>\n",
       "      <td>429</td>\n",
       "      <td>1762</td>\n",
       "      <td>24.0</td>\n",
       "      <td>17.62</td>\n",
       "    </tr>\n",
       "    <tr>\n",
       "      <th>6</th>\n",
       "      <td>(150000.0, 175000.0]</td>\n",
       "      <td>582</td>\n",
       "      <td>156</td>\n",
       "      <td>738</td>\n",
       "      <td>21.0</td>\n",
       "      <td>7.38</td>\n",
       "    </tr>\n",
       "    <tr>\n",
       "      <th>7</th>\n",
       "      <td>(175000.0, 10000000.0]</td>\n",
       "      <td>163</td>\n",
       "      <td>68</td>\n",
       "      <td>231</td>\n",
       "      <td>29.0</td>\n",
       "      <td>2.31</td>\n",
       "    </tr>\n",
       "  </tbody>\n",
       "</table>\n",
       "</div>"
      ],
      "text/plain": [
       "churn           balance_group     0    1  total  percent_churn  \\\n",
       "0                 (-0.1, 0.0]  3117  500   3617           14.0   \n",
       "1              (0.0, 50000.0]    49   26     75           35.0   \n",
       "2          (50000.0, 75000.0]   274   75    349           21.0   \n",
       "3         (75000.0, 100000.0]   935  225   1160           19.0   \n",
       "4        (100000.0, 125000.0]  1510  558   2068           27.0   \n",
       "5        (125000.0, 150000.0]  1333  429   1762           24.0   \n",
       "6        (150000.0, 175000.0]   582  156    738           21.0   \n",
       "7      (175000.0, 10000000.0]   163   68    231           29.0   \n",
       "\n",
       "churn  total_percent_client  \n",
       "0                     36.17  \n",
       "1                      0.75  \n",
       "2                      3.49  \n",
       "3                     11.60  \n",
       "4                     20.68  \n",
       "5                     17.62  \n",
       "6                      7.38  \n",
       "7                      2.31  "
      ]
     },
     "execution_count": 77,
     "metadata": {},
     "output_type": "execute_result"
    }
   ],
   "source": [
    "# добавим столбец с процентом клиентов в каждой группе от общего числа\n",
    "\n",
    "churn_by_balance_group['total_percent_client'] = churn_by_balance_group.eval('(total/@data.shape[0])*100')\n",
    "churn_by_balance_group"
   ]
  },
  {
   "cell_type": "code",
   "execution_count": 78,
   "id": "e215a9e4",
   "metadata": {},
   "outputs": [
    {
     "data": {
      "image/png": "[encoded data removed]",
      "text/plain": [
       "<Figure size 1296x432 with 1 Axes>"
      ]
     },
     "metadata": {
      "needs_background": "light"
     },
     "output_type": "display_data"
    }
   ],
   "source": [
    "churn_percent_bar(churn_by_balance_group, 'balance_group',\n",
    "                     \"уровню баланса\",\n",
    "                    \"баланс, руб.\")\n",
    "\n",
    "# добавим процент клиентов от общего числа в каждой группе \n",
    "\n",
    "plt.plot(churn_by_balance_group['balance_group'], churn_by_balance_group['total_percent_client'],\n",
    "         linewidth = '3', label='% клиентов от общего числа клиентов', color = 'orange', alpha=0.4)\n",
    "\n",
    "# скорректируем подписи для оси X\n",
    "\n",
    "plt.xticks(churn_by_balance_group['balance_group'], x_label)\n",
    "\n",
    "plt.legend();"
   ]
  },
  {
   "cell_type": "markdown",
   "id": "34d869f3",
   "metadata": {},
   "source": [
    "**Можно отметить:**\n",
    "- отсутсвие ярко выраженной корреляции между балансом и % оттока клиентов;\n",
    "- следует обратить внимание, что клиенты с 0-м балансом имеют ниже показатель оттока (14%). Следует помнить, что баланс - 0, результат восстановаления пропущенных значений. Следует выяснить причины пропусков.\n",
    "- Отток клиентов с крайними значениями баланса имеет повышенные значения оттока, 35 и 29. Следует ометить небольшое количество клиентов в данных группах: 0.75% и 2.3%. Можно выдвинуть гипотезу, что продукты банка и стандарты работы с клиентами не подходят для работы с клиентами как с небольшим так большим балансом.\n",
    "- Следует отметить для самой многочисленной группы 100 000 - 125 000 % оттока составляет 27%.\n",
    "- Следует выяснить методологию определения баланса, в частности по ушедшим клиентам определяется на момент ухода или иным способом."
   ]
  },
  {
   "cell_type": "markdown",
   "id": "b0d3fd13",
   "metadata": {},
   "source": [
    "### По городам"
   ]
  },
  {
   "cell_type": "code",
   "execution_count": 79,
   "id": "3c67f10f",
   "metadata": {},
   "outputs": [],
   "source": [
    "# сформируем сводные таблицы по городам\n",
    "\n",
    "churn_by_balance_group_yaroslavl, churn_by_balance_group_ribinsk, churn_by_balance_group_rostov = (\n",
    "    churn_by_group_city(data, 'balance_group')\n",
    ") "
   ]
  },
  {
   "cell_type": "code",
   "execution_count": 80,
   "id": "b3d0e7ff",
   "metadata": {},
   "outputs": [
    {
     "data": {
      "text/html": [
       "<div>\n",
       "<style scoped>\n",
       "    .dataframe tbody tr th:only-of-type {\n",
       "        vertical-align: middle;\n",
       "    }\n",
       "\n",
       "    .dataframe tbody tr th {\n",
       "        vertical-align: top;\n",
       "    }\n",
       "\n",
       "    .dataframe thead th {\n",
       "        text-align: right;\n",
       "    }\n",
       "</style>\n",
       "<table border=\"1\" class=\"dataframe\">\n",
       "  <thead>\n",
       "    <tr style=\"text-align: right;\">\n",
       "      <th>churn</th>\n",
       "      <th>balance_group</th>\n",
       "      <th>percent_churn_yar</th>\n",
       "      <th>total_yar</th>\n",
       "      <th>percent_churn_rib</th>\n",
       "      <th>total_rib</th>\n",
       "      <th>percent_churn_rost</th>\n",
       "      <th>total_rost</th>\n",
       "    </tr>\n",
       "  </thead>\n",
       "  <tbody>\n",
       "    <tr>\n",
       "      <th>0</th>\n",
       "      <td>(-0.1, 0.0]</td>\n",
       "      <td>14.0</td>\n",
       "      <td>2418</td>\n",
       "      <td>14.0</td>\n",
       "      <td>1199</td>\n",
       "      <td>NaN</td>\n",
       "      <td>NaN</td>\n",
       "    </tr>\n",
       "    <tr>\n",
       "      <th>1</th>\n",
       "      <td>(0.0, 50000.0]</td>\n",
       "      <td>49.0</td>\n",
       "      <td>41</td>\n",
       "      <td>40.0</td>\n",
       "      <td>15</td>\n",
       "      <td>0.0</td>\n",
       "      <td>19.0</td>\n",
       "    </tr>\n",
       "    <tr>\n",
       "      <th>2</th>\n",
       "      <td>(50000.0, 75000.0]</td>\n",
       "      <td>23.0</td>\n",
       "      <td>167</td>\n",
       "      <td>39.0</td>\n",
       "      <td>75</td>\n",
       "      <td>7.0</td>\n",
       "      <td>107.0</td>\n",
       "    </tr>\n",
       "    <tr>\n",
       "      <th>3</th>\n",
       "      <td>(75000.0, 100000.0]</td>\n",
       "      <td>15.0</td>\n",
       "      <td>480</td>\n",
       "      <td>20.0</td>\n",
       "      <td>263</td>\n",
       "      <td>24.0</td>\n",
       "      <td>417.0</td>\n",
       "    </tr>\n",
       "    <tr>\n",
       "      <th>4</th>\n",
       "      <td>(100000.0, 125000.0]</td>\n",
       "      <td>15.0</td>\n",
       "      <td>766</td>\n",
       "      <td>14.0</td>\n",
       "      <td>382</td>\n",
       "      <td>42.0</td>\n",
       "      <td>920.0</td>\n",
       "    </tr>\n",
       "    <tr>\n",
       "      <th>5</th>\n",
       "      <td>(125000.0, 150000.0]</td>\n",
       "      <td>17.0</td>\n",
       "      <td>710</td>\n",
       "      <td>16.0</td>\n",
       "      <td>320</td>\n",
       "      <td>35.0</td>\n",
       "      <td>732.0</td>\n",
       "    </tr>\n",
       "    <tr>\n",
       "      <th>6</th>\n",
       "      <td>(150000.0, 175000.0]</td>\n",
       "      <td>20.0</td>\n",
       "      <td>317</td>\n",
       "      <td>20.0</td>\n",
       "      <td>164</td>\n",
       "      <td>23.0</td>\n",
       "      <td>257.0</td>\n",
       "    </tr>\n",
       "    <tr>\n",
       "      <th>7</th>\n",
       "      <td>(175000.0, 10000000.0]</td>\n",
       "      <td>36.0</td>\n",
       "      <td>115</td>\n",
       "      <td>44.0</td>\n",
       "      <td>59</td>\n",
       "      <td>2.0</td>\n",
       "      <td>57.0</td>\n",
       "    </tr>\n",
       "  </tbody>\n",
       "</table>\n",
       "</div>"
      ],
      "text/plain": [
       "churn           balance_group  percent_churn_yar  total_yar  \\\n",
       "0                 (-0.1, 0.0]               14.0       2418   \n",
       "1              (0.0, 50000.0]               49.0         41   \n",
       "2          (50000.0, 75000.0]               23.0        167   \n",
       "3         (75000.0, 100000.0]               15.0        480   \n",
       "4        (100000.0, 125000.0]               15.0        766   \n",
       "5        (125000.0, 150000.0]               17.0        710   \n",
       "6        (150000.0, 175000.0]               20.0        317   \n",
       "7      (175000.0, 10000000.0]               36.0        115   \n",
       "\n",
       "churn  percent_churn_rib  total_rib  percent_churn_rost  total_rost  \n",
       "0                   14.0       1199                 NaN         NaN  \n",
       "1                   40.0         15                 0.0        19.0  \n",
       "2                   39.0         75                 7.0       107.0  \n",
       "3                   20.0        263                24.0       417.0  \n",
       "4                   14.0        382                42.0       920.0  \n",
       "5                   16.0        320                35.0       732.0  \n",
       "6                   20.0        164                23.0       257.0  \n",
       "7                   44.0         59                 2.0        57.0  "
      ]
     },
     "metadata": {},
     "output_type": "display_data"
    }
   ],
   "source": [
    "# объединим % оттока по городам\n",
    "\n",
    "group_merge(churn_by_balance_group_yaroslavl,\n",
    "            churn_by_balance_group_ribinsk,\n",
    "            churn_by_balance_group_rostov,\n",
    "            'balance_group', \n",
    "           total=True)"
   ]
  },
  {
   "cell_type": "code",
   "execution_count": 81,
   "id": "33ecf42c",
   "metadata": {},
   "outputs": [
    {
     "data": {
      "image/png": "[encoded data removed]",
      "text/plain": [
       "<Figure size 1080x432 with 1 Axes>"
      ]
     },
     "metadata": {
      "needs_background": "light"
     },
     "output_type": "display_data"
    }
   ],
   "source": [
    "churn_percent_by_city(churn_by_balance_group_yaroslavl,\n",
    "            churn_by_balance_group_ribinsk,\n",
    "            churn_by_balance_group_rostov,\n",
    "            'balance_group',\n",
    "                         'уровню баланса',\n",
    "                         'баланс, руб.')\n",
    "\n",
    "# скорректируем подписи для оси X\n",
    "\n",
    "plt.xticks(churn_by_balance_group['balance_group'], x_label);"
   ]
  },
  {
   "cell_type": "markdown",
   "id": "468fe882",
   "metadata": {},
   "source": [
    "**Можно отметить:**\n",
    "- характер распределения в Ростове Великом (минимальный отток на крайних значениях баланса, увеличивается к среднему значению) прямо противоположен характеру распределения в Ярославле и Рыбинске (показатели оттока выше на краях значений баланса, уменьшаются к центральному значению)\n",
    "- Можно выдвинуть гипотезу: в Ростове Великом попытались сократить показатели оттка для клиентов с крайними значениями баланса, добились в этом успеха, на при этом ухудшили показатель оттока для осталных клиентов.\n",
    "- Пиковое значение оттока в Ростове Великом - 42% приходится на самую многочисленную группу 100 000 - 125 000р., этим и обясняется повышенные значения оттока на общем графике.\n",
    "- Следует обратить внимание в Ростове Великом отсутсвуют клиенты с отсутсвующими значениями баланса."
   ]
  },
  {
   "cell_type": "markdown",
   "id": "94871de3",
   "metadata": {},
   "source": [
    "## Оценка дохода"
   ]
  },
  {
   "cell_type": "code",
   "execution_count": 82,
   "id": "c60c8e35",
   "metadata": {},
   "outputs": [
    {
     "data": {
      "text/plain": [
       "(11.58, 199992.48)"
      ]
     },
     "execution_count": 82,
     "metadata": {},
     "output_type": "execute_result"
    }
   ],
   "source": [
    "# минимальная, максимальная оценочная з/п\n",
    "\n",
    "salary_min, salary_max = data['estimated_salary'].min(), data['estimated_salary'].max()\n",
    "salary_min, salary_max"
   ]
  },
  {
   "cell_type": "code",
   "execution_count": 83,
   "id": "c4dd4435",
   "metadata": {},
   "outputs": [],
   "source": [
    "#  сформируем значения групп\n",
    "\n",
    "salary_group = np.arange(0, 200001, 25000)"
   ]
  },
  {
   "cell_type": "code",
   "execution_count": 84,
   "id": "c2ecfca2",
   "metadata": {},
   "outputs": [],
   "source": [
    "# сформируем группы\n",
    "\n",
    "data['salary_group'] = pd.cut(data['estimated_salary'], salary_group)"
   ]
  },
  {
   "cell_type": "code",
   "execution_count": 85,
   "id": "8f3072c6",
   "metadata": {},
   "outputs": [
    {
     "data": {
      "text/html": [
       "<div>\n",
       "<style scoped>\n",
       "    .dataframe tbody tr th:only-of-type {\n",
       "        vertical-align: middle;\n",
       "    }\n",
       "\n",
       "    .dataframe tbody tr th {\n",
       "        vertical-align: top;\n",
       "    }\n",
       "\n",
       "    .dataframe thead th {\n",
       "        text-align: right;\n",
       "    }\n",
       "</style>\n",
       "<table border=\"1\" class=\"dataframe\">\n",
       "  <thead>\n",
       "    <tr style=\"text-align: right;\">\n",
       "      <th>churn</th>\n",
       "      <th>salary_group</th>\n",
       "      <th>0</th>\n",
       "      <th>1</th>\n",
       "      <th>total</th>\n",
       "      <th>percent_churn</th>\n",
       "    </tr>\n",
       "  </thead>\n",
       "  <tbody>\n",
       "    <tr>\n",
       "      <th>0</th>\n",
       "      <td>(0, 25000]</td>\n",
       "      <td>975</td>\n",
       "      <td>242</td>\n",
       "      <td>1217</td>\n",
       "      <td>20.0</td>\n",
       "    </tr>\n",
       "    <tr>\n",
       "      <th>1</th>\n",
       "      <td>(25000, 50000]</td>\n",
       "      <td>989</td>\n",
       "      <td>247</td>\n",
       "      <td>1236</td>\n",
       "      <td>20.0</td>\n",
       "    </tr>\n",
       "    <tr>\n",
       "      <th>2</th>\n",
       "      <td>(50000, 75000]</td>\n",
       "      <td>1003</td>\n",
       "      <td>266</td>\n",
       "      <td>1269</td>\n",
       "      <td>21.0</td>\n",
       "    </tr>\n",
       "    <tr>\n",
       "      <th>3</th>\n",
       "      <td>(75000, 100000]</td>\n",
       "      <td>1030</td>\n",
       "      <td>238</td>\n",
       "      <td>1268</td>\n",
       "      <td>19.0</td>\n",
       "    </tr>\n",
       "    <tr>\n",
       "      <th>4</th>\n",
       "      <td>(100000, 125000]</td>\n",
       "      <td>1020</td>\n",
       "      <td>256</td>\n",
       "      <td>1276</td>\n",
       "      <td>20.0</td>\n",
       "    </tr>\n",
       "    <tr>\n",
       "      <th>5</th>\n",
       "      <td>(125000, 150000]</td>\n",
       "      <td>1018</td>\n",
       "      <td>261</td>\n",
       "      <td>1279</td>\n",
       "      <td>20.0</td>\n",
       "    </tr>\n",
       "    <tr>\n",
       "      <th>6</th>\n",
       "      <td>(150000, 175000]</td>\n",
       "      <td>941</td>\n",
       "      <td>254</td>\n",
       "      <td>1195</td>\n",
       "      <td>21.0</td>\n",
       "    </tr>\n",
       "    <tr>\n",
       "      <th>7</th>\n",
       "      <td>(175000, 200000]</td>\n",
       "      <td>987</td>\n",
       "      <td>273</td>\n",
       "      <td>1260</td>\n",
       "      <td>22.0</td>\n",
       "    </tr>\n",
       "  </tbody>\n",
       "</table>\n",
       "</div>"
      ],
      "text/plain": [
       "churn      salary_group     0    1  total  percent_churn\n",
       "0            (0, 25000]   975  242   1217           20.0\n",
       "1        (25000, 50000]   989  247   1236           20.0\n",
       "2        (50000, 75000]  1003  266   1269           21.0\n",
       "3       (75000, 100000]  1030  238   1268           19.0\n",
       "4      (100000, 125000]  1020  256   1276           20.0\n",
       "5      (125000, 150000]  1018  261   1279           20.0\n",
       "6      (150000, 175000]   941  254   1195           21.0\n",
       "7      (175000, 200000]   987  273   1260           22.0"
      ]
     },
     "execution_count": 85,
     "metadata": {},
     "output_type": "execute_result"
    }
   ],
   "source": [
    "churn_by_salary_group = churn_by_group(data, 'salary_group')\n",
    "churn_by_salary_group"
   ]
  },
  {
   "cell_type": "code",
   "execution_count": 86,
   "id": "18f26dc7",
   "metadata": {},
   "outputs": [
    {
     "data": {
      "image/png": "[encoded data removed]",
      "text/plain": [
       "<Figure size 1080x432 with 1 Axes>"
      ]
     },
     "metadata": {
      "needs_background": "light"
     },
     "output_type": "display_data"
    }
   ],
   "source": [
    "# построим график количество ушедших и оставшихся клиентов\n",
    "\n",
    "churn_not_churn_plot(churn_by_salary_group, 'salary_group',\n",
    "                    'уровню з/п',\n",
    "                    'з/п, руб.')\n",
    "\n",
    "x_label = []\n",
    "\n",
    "for i, ii in enumerate(salary_group):\n",
    "    \n",
    "    if ii == salary_group[-1]:\n",
    "        break\n",
    "        \n",
    "    else:\n",
    "        x_label.append(f'от {salary_group[i]}\\n до {salary_group[i+1]}')\n",
    "\n",
    "plt.xticks(churn_by_salary_group['salary_group'], x_label);"
   ]
  },
  {
   "cell_type": "code",
   "execution_count": 87,
   "id": "d34e4e85",
   "metadata": {},
   "outputs": [
    {
     "data": {
      "image/png": "[encoded data removed]",
      "text/plain": [
       "<Figure size 1296x432 with 1 Axes>"
      ]
     },
     "metadata": {
      "needs_background": "light"
     },
     "output_type": "display_data"
    }
   ],
   "source": [
    "# построим график % оттока\n",
    "\n",
    "churn_percent_bar(churn_by_salary_group, 'salary_group',\n",
    "                    'уровню з/п',\n",
    "                    'з/п, руб.')\n",
    "\n",
    "plt.ylim(0, 40)\n",
    "\n",
    "plt.xticks(churn_by_salary_group['salary_group'], x_label);"
   ]
  },
  {
   "cell_type": "markdown",
   "id": "81bcb1f7",
   "metadata": {},
   "source": [
    "**Можно отметить:**\n",
    "- диапазон значений оттока от 19 до 22 % без какой-либо ярко выраженной динамики. Что говорит об отсутсвия связи между оценочным уровнем з/п и оттокам клиентов."
   ]
  },
  {
   "cell_type": "markdown",
   "id": "91f092c1",
   "metadata": {},
   "source": [
    "### По городам"
   ]
  },
  {
   "cell_type": "code",
   "execution_count": 88,
   "id": "90aa05f3",
   "metadata": {},
   "outputs": [],
   "source": [
    "# сформируем сводные таблицы по городам\n",
    "\n",
    "churn_by_salary_group_yaroslavl, churn_by_salary_group_ribinsk, churn_by_salary_group_rostov = (\n",
    "churn_by_group_city(data, 'salary_group')\n",
    ")"
   ]
  },
  {
   "cell_type": "code",
   "execution_count": 89,
   "id": "08763b75",
   "metadata": {},
   "outputs": [
    {
     "data": {
      "text/html": [
       "<div>\n",
       "<style scoped>\n",
       "    .dataframe tbody tr th:only-of-type {\n",
       "        vertical-align: middle;\n",
       "    }\n",
       "\n",
       "    .dataframe tbody tr th {\n",
       "        vertical-align: top;\n",
       "    }\n",
       "\n",
       "    .dataframe thead th {\n",
       "        text-align: right;\n",
       "    }\n",
       "</style>\n",
       "<table border=\"1\" class=\"dataframe\">\n",
       "  <thead>\n",
       "    <tr style=\"text-align: right;\">\n",
       "      <th>churn</th>\n",
       "      <th>salary_group</th>\n",
       "      <th>percent_churn_yar</th>\n",
       "      <th>percent_churn_rib</th>\n",
       "      <th>percent_churn_rost</th>\n",
       "    </tr>\n",
       "  </thead>\n",
       "  <tbody>\n",
       "    <tr>\n",
       "      <th>0</th>\n",
       "      <td>(0, 25000]</td>\n",
       "      <td>15.0</td>\n",
       "      <td>15.0</td>\n",
       "      <td>36.0</td>\n",
       "    </tr>\n",
       "    <tr>\n",
       "      <th>1</th>\n",
       "      <td>(25000, 50000]</td>\n",
       "      <td>14.0</td>\n",
       "      <td>15.0</td>\n",
       "      <td>36.0</td>\n",
       "    </tr>\n",
       "    <tr>\n",
       "      <th>2</th>\n",
       "      <td>(50000, 75000]</td>\n",
       "      <td>17.0</td>\n",
       "      <td>16.0</td>\n",
       "      <td>33.0</td>\n",
       "    </tr>\n",
       "    <tr>\n",
       "      <th>3</th>\n",
       "      <td>(75000, 100000]</td>\n",
       "      <td>15.0</td>\n",
       "      <td>16.0</td>\n",
       "      <td>30.0</td>\n",
       "    </tr>\n",
       "    <tr>\n",
       "      <th>4</th>\n",
       "      <td>(100000, 125000]</td>\n",
       "      <td>16.0</td>\n",
       "      <td>16.0</td>\n",
       "      <td>33.0</td>\n",
       "    </tr>\n",
       "    <tr>\n",
       "      <th>5</th>\n",
       "      <td>(125000, 150000]</td>\n",
       "      <td>17.0</td>\n",
       "      <td>18.0</td>\n",
       "      <td>30.0</td>\n",
       "    </tr>\n",
       "    <tr>\n",
       "      <th>6</th>\n",
       "      <td>(150000, 175000]</td>\n",
       "      <td>17.0</td>\n",
       "      <td>23.0</td>\n",
       "      <td>28.0</td>\n",
       "    </tr>\n",
       "    <tr>\n",
       "      <th>7</th>\n",
       "      <td>(175000, 200000]</td>\n",
       "      <td>19.0</td>\n",
       "      <td>15.0</td>\n",
       "      <td>33.0</td>\n",
       "    </tr>\n",
       "  </tbody>\n",
       "</table>\n",
       "</div>"
      ],
      "text/plain": [
       "churn      salary_group  percent_churn_yar  percent_churn_rib  \\\n",
       "0            (0, 25000]               15.0               15.0   \n",
       "1        (25000, 50000]               14.0               15.0   \n",
       "2        (50000, 75000]               17.0               16.0   \n",
       "3       (75000, 100000]               15.0               16.0   \n",
       "4      (100000, 125000]               16.0               16.0   \n",
       "5      (125000, 150000]               17.0               18.0   \n",
       "6      (150000, 175000]               17.0               23.0   \n",
       "7      (175000, 200000]               19.0               15.0   \n",
       "\n",
       "churn  percent_churn_rost  \n",
       "0                    36.0  \n",
       "1                    36.0  \n",
       "2                    33.0  \n",
       "3                    30.0  \n",
       "4                    33.0  \n",
       "5                    30.0  \n",
       "6                    28.0  \n",
       "7                    33.0  "
      ]
     },
     "metadata": {},
     "output_type": "display_data"
    }
   ],
   "source": [
    "# объединим % оттока по городам\n",
    "\n",
    "group_merge(churn_by_salary_group_yaroslavl,\n",
    "            churn_by_salary_group_ribinsk,\n",
    "            churn_by_salary_group_rostov,\n",
    "            'salary_group')"
   ]
  },
  {
   "cell_type": "code",
   "execution_count": 90,
   "id": "e6519d7d",
   "metadata": {},
   "outputs": [
    {
     "data": {
      "image/png": "[encoded data removed]",
      "text/plain": [
       "<Figure size 1080x432 with 1 Axes>"
      ]
     },
     "metadata": {
      "needs_background": "light"
     },
     "output_type": "display_data"
    }
   ],
   "source": [
    "churn_percent_by_city(churn_by_salary_group_yaroslavl,\n",
    "            churn_by_salary_group_ribinsk,\n",
    "            churn_by_salary_group_rostov,\n",
    "            'salary_group',\n",
    "                         'уровню з/п',\n",
    "                         'з/п, руб.')"
   ]
  },
  {
   "cell_type": "markdown",
   "id": "726c31e5",
   "metadata": {},
   "source": [
    "___\n",
    "**Можно отметить** в Ростове Великом превышение показателя оттока клиентов по всем группам з/п.\n",
    "___"
   ]
  },
  {
   "cell_type": "markdown",
   "id": "af96ee37",
   "metadata": {},
   "source": [
    "## Возраст"
   ]
  },
  {
   "cell_type": "code",
   "execution_count": 91,
   "id": "cf66802c",
   "metadata": {},
   "outputs": [
    {
     "data": {
      "text/plain": [
       "(18, 92)"
      ]
     },
     "execution_count": 91,
     "metadata": {},
     "output_type": "execute_result"
    }
   ],
   "source": [
    "# диапазон значений возраста\n",
    "\n",
    "data['age'].min(), data['age'].max()"
   ]
  },
  {
   "cell_type": "code",
   "execution_count": 92,
   "id": "ca475410",
   "metadata": {},
   "outputs": [],
   "source": [
    "# сформируем значения для возрастных групп\n",
    "\n",
    "age_group = [17, 25, 35, 45, 55, 65, 100]"
   ]
  },
  {
   "cell_type": "code",
   "execution_count": 93,
   "id": "b9faca34",
   "metadata": {},
   "outputs": [],
   "source": [
    "# сформируем группы\n",
    "\n",
    "data['age_group'] = pd.cut(data['age'], age_group)"
   ]
  },
  {
   "cell_type": "code",
   "execution_count": 94,
   "id": "06a9ae69",
   "metadata": {},
   "outputs": [
    {
     "data": {
      "text/html": [
       "<div>\n",
       "<style scoped>\n",
       "    .dataframe tbody tr th:only-of-type {\n",
       "        vertical-align: middle;\n",
       "    }\n",
       "\n",
       "    .dataframe tbody tr th {\n",
       "        vertical-align: top;\n",
       "    }\n",
       "\n",
       "    .dataframe thead th {\n",
       "        text-align: right;\n",
       "    }\n",
       "</style>\n",
       "<table border=\"1\" class=\"dataframe\">\n",
       "  <thead>\n",
       "    <tr style=\"text-align: right;\">\n",
       "      <th>churn</th>\n",
       "      <th>age_group</th>\n",
       "      <th>0</th>\n",
       "      <th>1</th>\n",
       "      <th>total</th>\n",
       "      <th>percent_churn</th>\n",
       "    </tr>\n",
       "  </thead>\n",
       "  <tbody>\n",
       "    <tr>\n",
       "      <th>0</th>\n",
       "      <td>(17, 25]</td>\n",
       "      <td>565</td>\n",
       "      <td>46</td>\n",
       "      <td>611</td>\n",
       "      <td>8.0</td>\n",
       "    </tr>\n",
       "    <tr>\n",
       "      <th>1</th>\n",
       "      <td>(25, 35]</td>\n",
       "      <td>3241</td>\n",
       "      <td>301</td>\n",
       "      <td>3542</td>\n",
       "      <td>8.0</td>\n",
       "    </tr>\n",
       "    <tr>\n",
       "      <th>2</th>\n",
       "      <td>(35, 45]</td>\n",
       "      <td>3003</td>\n",
       "      <td>733</td>\n",
       "      <td>3736</td>\n",
       "      <td>20.0</td>\n",
       "    </tr>\n",
       "    <tr>\n",
       "      <th>3</th>\n",
       "      <td>(45, 55]</td>\n",
       "      <td>648</td>\n",
       "      <td>663</td>\n",
       "      <td>1311</td>\n",
       "      <td>51.0</td>\n",
       "    </tr>\n",
       "    <tr>\n",
       "      <th>4</th>\n",
       "      <td>(55, 65]</td>\n",
       "      <td>277</td>\n",
       "      <td>259</td>\n",
       "      <td>536</td>\n",
       "      <td>48.0</td>\n",
       "    </tr>\n",
       "    <tr>\n",
       "      <th>5</th>\n",
       "      <td>(65, 100]</td>\n",
       "      <td>229</td>\n",
       "      <td>35</td>\n",
       "      <td>264</td>\n",
       "      <td>13.0</td>\n",
       "    </tr>\n",
       "  </tbody>\n",
       "</table>\n",
       "</div>"
      ],
      "text/plain": [
       "churn  age_group     0    1  total  percent_churn\n",
       "0       (17, 25]   565   46    611            8.0\n",
       "1       (25, 35]  3241  301   3542            8.0\n",
       "2       (35, 45]  3003  733   3736           20.0\n",
       "3       (45, 55]   648  663   1311           51.0\n",
       "4       (55, 65]   277  259    536           48.0\n",
       "5      (65, 100]   229   35    264           13.0"
      ]
     },
     "execution_count": 94,
     "metadata": {},
     "output_type": "execute_result"
    }
   ],
   "source": [
    "churn_by_age = churn_by_group(data, 'age_group')\n",
    "churn_by_age"
   ]
  },
  {
   "cell_type": "code",
   "execution_count": 95,
   "id": "3c23bbc6",
   "metadata": {},
   "outputs": [
    {
     "data": {
      "image/png": "[encoded data removed]",
      "text/plain": [
       "<Figure size 1080x432 with 1 Axes>"
      ]
     },
     "metadata": {
      "needs_background": "light"
     },
     "output_type": "display_data"
    }
   ],
   "source": [
    "# построим график количество ушедших и оставшихся клиентов\n",
    "\n",
    "churn_not_churn_plot(churn_by_age, 'age_group',\n",
    "                    'возрасту',\n",
    "                    'возраст, лет')"
   ]
  },
  {
   "cell_type": "code",
   "execution_count": 96,
   "id": "4932f4f8",
   "metadata": {},
   "outputs": [
    {
     "data": {
      "image/png": "[encoded data removed]",
      "text/plain": [
       "<Figure size 1296x432 with 1 Axes>"
      ]
     },
     "metadata": {
      "needs_background": "light"
     },
     "output_type": "display_data"
    }
   ],
   "source": [
    "# построим график % оттока\n",
    "\n",
    "churn_percent_bar(churn_by_age, 'age_group',\n",
    "                    'возрасту',\n",
    "                    'возраст, лет')\n",
    "\n",
    "# добавим процент клиентов от общего числа в каждой группе\n",
    "\n",
    "churn_by_age['total_percent'] = churn_by_age.eval('(total/@data.shape[0])*100')\n",
    "\n",
    "plt.plot(churn_by_age['age_group'], churn_by_age['total_percent'],\n",
    "         linewidth = '3', label='% клиентов от общего числа клиентов', color = 'orange', alpha=0.4)\n",
    "\n",
    "plt.legend()\n",
    "\n",
    "plt.ylim(0, 70);"
   ]
  },
  {
   "cell_type": "markdown",
   "id": "4e57cb9c",
   "metadata": {},
   "source": [
    "**Можно отметить:**\n",
    "- диапазон значений оттока от 8 до 51 %\n",
    "- отток ниже среднего - 8% для возрастных групп от 17 до 25 и от 25 до 35 лет, 13 для возрастной группы от 65 лет\n",
    "- отток выше среднего 51 и 48 для возрастных групп от 45 до 55 и от 55 до 65 лет.\n",
    "- можно сделать предположения, подобные значения оттока связаны с параметрами(условиями) продуктов;\n",
    "- для формирования рекомендаций необходимо более обоснованное предположение о причинах оттока, в частности данные по параметрам продуктов, стратегия банка, конкурентный анализ."
   ]
  },
  {
   "cell_type": "markdown",
   "id": "8bf7d8e0",
   "metadata": {},
   "source": [
    "### По городам"
   ]
  },
  {
   "cell_type": "code",
   "execution_count": 97,
   "id": "905fafdf",
   "metadata": {},
   "outputs": [],
   "source": [
    "# сформируем сводные таблицы по городам\n",
    "\n",
    "churn_by_age_yaroslavl, churn_by_age_ribinsk, chun_by_age_rostov = churn_by_group_city(data, 'age_group')"
   ]
  },
  {
   "cell_type": "code",
   "execution_count": 98,
   "id": "27e31d76",
   "metadata": {},
   "outputs": [
    {
     "data": {
      "text/html": [
       "<div>\n",
       "<style scoped>\n",
       "    .dataframe tbody tr th:only-of-type {\n",
       "        vertical-align: middle;\n",
       "    }\n",
       "\n",
       "    .dataframe tbody tr th {\n",
       "        vertical-align: top;\n",
       "    }\n",
       "\n",
       "    .dataframe thead th {\n",
       "        text-align: right;\n",
       "    }\n",
       "</style>\n",
       "<table border=\"1\" class=\"dataframe\">\n",
       "  <thead>\n",
       "    <tr style=\"text-align: right;\">\n",
       "      <th>churn</th>\n",
       "      <th>age_group</th>\n",
       "      <th>percent_churn_yar</th>\n",
       "      <th>percent_churn_rib</th>\n",
       "      <th>percent_churn_rost</th>\n",
       "    </tr>\n",
       "  </thead>\n",
       "  <tbody>\n",
       "    <tr>\n",
       "      <th>0</th>\n",
       "      <td>(17, 25]</td>\n",
       "      <td>5.0</td>\n",
       "      <td>9.0</td>\n",
       "      <td>11.0</td>\n",
       "    </tr>\n",
       "    <tr>\n",
       "      <th>1</th>\n",
       "      <td>(25, 35]</td>\n",
       "      <td>6.0</td>\n",
       "      <td>9.0</td>\n",
       "      <td>15.0</td>\n",
       "    </tr>\n",
       "    <tr>\n",
       "      <th>2</th>\n",
       "      <td>(35, 45]</td>\n",
       "      <td>16.0</td>\n",
       "      <td>15.0</td>\n",
       "      <td>31.0</td>\n",
       "    </tr>\n",
       "    <tr>\n",
       "      <th>3</th>\n",
       "      <td>(45, 55]</td>\n",
       "      <td>44.0</td>\n",
       "      <td>41.0</td>\n",
       "      <td>67.0</td>\n",
       "    </tr>\n",
       "    <tr>\n",
       "      <th>4</th>\n",
       "      <td>(55, 65]</td>\n",
       "      <td>45.0</td>\n",
       "      <td>37.0</td>\n",
       "      <td>65.0</td>\n",
       "    </tr>\n",
       "    <tr>\n",
       "      <th>5</th>\n",
       "      <td>(65, 100]</td>\n",
       "      <td>9.0</td>\n",
       "      <td>10.0</td>\n",
       "      <td>25.0</td>\n",
       "    </tr>\n",
       "  </tbody>\n",
       "</table>\n",
       "</div>"
      ],
      "text/plain": [
       "churn  age_group  percent_churn_yar  percent_churn_rib  percent_churn_rost\n",
       "0       (17, 25]                5.0                9.0                11.0\n",
       "1       (25, 35]                6.0                9.0                15.0\n",
       "2       (35, 45]               16.0               15.0                31.0\n",
       "3       (45, 55]               44.0               41.0                67.0\n",
       "4       (55, 65]               45.0               37.0                65.0\n",
       "5      (65, 100]                9.0               10.0                25.0"
      ]
     },
     "metadata": {},
     "output_type": "display_data"
    }
   ],
   "source": [
    "# объединим % оттока по городам\n",
    "\n",
    "group_merge(churn_by_age_yaroslavl,\n",
    "            churn_by_age_ribinsk,\n",
    "            chun_by_age_rostov,\n",
    "            'age_group')"
   ]
  },
  {
   "cell_type": "code",
   "execution_count": 99,
   "id": "b40bd0a4",
   "metadata": {},
   "outputs": [
    {
     "data": {
      "image/png": "[encoded data removed]",
      "text/plain": [
       "<Figure size 1080x432 with 1 Axes>"
      ]
     },
     "metadata": {
      "needs_background": "light"
     },
     "output_type": "display_data"
    }
   ],
   "source": [
    "churn_percent_by_city(churn_by_age_yaroslavl,\n",
    "            churn_by_age_ribinsk,\n",
    "            chun_by_age_rostov,\n",
    "            'age_group',\n",
    "                         'возрастным группам',\n",
    "                         'возраст, лет.')"
   ]
  },
  {
   "cell_type": "markdown",
   "id": "bfa298c2",
   "metadata": {},
   "source": [
    "___\n",
    "**Можно отметить** в Ростове Великом превышение показателя оттока клиентов по всем возрастным группам.\n",
    "___"
   ]
  },
  {
   "cell_type": "markdown",
   "id": "73a7103a",
   "metadata": {},
   "source": [
    "## Пол"
   ]
  },
  {
   "cell_type": "code",
   "execution_count": 100,
   "id": "72afe23c",
   "metadata": {
    "scrolled": false
   },
   "outputs": [
    {
     "data": {
      "text/html": [
       "<div>\n",
       "<style scoped>\n",
       "    .dataframe tbody tr th:only-of-type {\n",
       "        vertical-align: middle;\n",
       "    }\n",
       "\n",
       "    .dataframe tbody tr th {\n",
       "        vertical-align: top;\n",
       "    }\n",
       "\n",
       "    .dataframe thead th {\n",
       "        text-align: right;\n",
       "    }\n",
       "</style>\n",
       "<table border=\"1\" class=\"dataframe\">\n",
       "  <thead>\n",
       "    <tr style=\"text-align: right;\">\n",
       "      <th>churn</th>\n",
       "      <th>0</th>\n",
       "      <th>1</th>\n",
       "      <th>total</th>\n",
       "      <th>percent_churn</th>\n",
       "    </tr>\n",
       "    <tr>\n",
       "      <th>gender</th>\n",
       "      <th></th>\n",
       "      <th></th>\n",
       "      <th></th>\n",
       "      <th></th>\n",
       "    </tr>\n",
       "  </thead>\n",
       "  <tbody>\n",
       "    <tr>\n",
       "      <th>Ж</th>\n",
       "      <td>3404</td>\n",
       "      <td>1139</td>\n",
       "      <td>4543</td>\n",
       "      <td>25.0</td>\n",
       "    </tr>\n",
       "    <tr>\n",
       "      <th>М</th>\n",
       "      <td>4559</td>\n",
       "      <td>898</td>\n",
       "      <td>5457</td>\n",
       "      <td>16.0</td>\n",
       "    </tr>\n",
       "  </tbody>\n",
       "</table>\n",
       "</div>"
      ],
      "text/plain": [
       "churn      0     1  total  percent_churn\n",
       "gender                                  \n",
       "Ж       3404  1139   4543           25.0\n",
       "М       4559   898   5457           16.0"
      ]
     },
     "execution_count": 100,
     "metadata": {},
     "output_type": "execute_result"
    }
   ],
   "source": [
    "# сформируем кросстаблицу\n",
    "\n",
    "chur_by_gender = cross_table(data, 'gender', 'churn')\n",
    "chur_by_gender"
   ]
  },
  {
   "cell_type": "code",
   "execution_count": 101,
   "id": "18be3dbb",
   "metadata": {},
   "outputs": [
    {
     "data": {
      "text/plain": [
       "gender\n",
       "Ж    650.831389\n",
       "М    650.276892\n",
       "Name: score, dtype: float64"
      ]
     },
     "execution_count": 101,
     "metadata": {},
     "output_type": "execute_result"
    }
   ],
   "source": [
    "data.groupby('gender')['score'].mean()"
   ]
  },
  {
   "cell_type": "markdown",
   "id": "ab998387",
   "metadata": {},
   "source": [
    "### По городам"
   ]
  },
  {
   "cell_type": "code",
   "execution_count": 103,
   "id": "2ad5f431",
   "metadata": {},
   "outputs": [
    {
     "name": "stdout",
     "output_type": "stream",
     "text": [
      "Ярославль\n",
      "---------\n",
      "churn      0    1  total  percent_churn\n",
      "gender                                 \n",
      "Ж       1801  460   2261           20.0\n",
      "М       2403  350   2753           13.0\n",
      "----------------------------------------\n",
      "Рыбинск\n",
      "-------\n",
      "churn      0    1  total  percent_churn\n",
      "gender                                 \n",
      "Ж        858  231   1089           21.0\n",
      "М       1206  182   1388           13.0\n",
      "----------------------------------------\n",
      "Ростов Великий\n",
      "--------------\n",
      "churn     0    1  total  percent_churn\n",
      "gender                                \n",
      "Ж       745  448   1193           38.0\n",
      "М       950  366   1316           28.0\n",
      "----------------------------------------\n"
     ]
    }
   ],
   "source": [
    "for i in data['city'].unique():\n",
    "    tmp_data = data.query('city == @i')\n",
    "    tmp_cross_table = cross_table(tmp_data, 'gender', 'churn')\n",
    "    print(f'{i}')\n",
    "    print('-'*len(i)) \n",
    "    print(f'{tmp_cross_table}')\n",
    "    print('-'*40)"
   ]
  },
  {
   "cell_type": "markdown",
   "id": "73a3ebe8",
   "metadata": {},
   "source": [
    "**Можно отметить** в Ростове Великом превышение показателя оттока клиентов как среди мужчин, так и женщин."
   ]
  },
  {
   "cell_type": "markdown",
   "id": "b5a4cf57",
   "metadata": {},
   "source": [
    "# Проверка статистических гипотез"
   ]
  },
  {
   "cell_type": "markdown",
   "id": "1aa2e434",
   "metadata": {},
   "source": [
    " ## Различие дохода между теми клиентами, которые ушли и теми, которые остались"
   ]
  },
  {
   "cell_type": "markdown",
   "id": "40e8d2e5",
   "metadata": {},
   "source": [
    "Воспользуемся ранее сформированными группами по оценочному уровню з/п. Будем исходить из того, что если в какой-либо группе больше уходило или оставалось клиентов, то это приведет к изменению пропорции. Сравним пропорцию в каждой группе с пропорцией по всей выборке."
   ]
  },
  {
   "cell_type": "markdown",
   "id": "db6517ea",
   "metadata": {},
   "source": [
    "Для проверки статистической значимости будем использовать Z-тест\n",
    "\n",
    "$Z \\approx \\frac{(P_1 - P_2) - (\\pi_1 - \\pi_2)}{\\sqrt{ P*(1-P)*( \\frac{1}{n_1} + \\frac{1}{n_2}) }} $ \n",
    "\n",
    "$n_1$ и  $n_2$ - размеры двух сравниваемых выборок; <br/>\n",
    "$P_1$ и $P_2$ - пропорции, наблюдаемые в выборках; <br/>\n",
    "$P$ - пропорция в выборке, скомбинированной из двух наблюдаемых; <br/>\n",
    "$\\pi_1 - \\pi_2$ - настоящие пропорции в сравниваемых генеральных совокупностях."
   ]
  },
  {
   "cell_type": "code",
   "execution_count": 104,
   "id": "b0ea7f41",
   "metadata": {},
   "outputs": [],
   "source": [
    "# Напишем функцию\n",
    "\n",
    "def proportion_test(s1, s2, t1, t2, alpha=.05):\n",
    "    \n",
    "    # гурппа successes\n",
    "    successes = np.array([s1, s2])\n",
    "    \n",
    "    # гурппа trials/observations\n",
    "    trials = np.array([t1, t2])\n",
    "    \n",
    "    # пропорция 'успехов' в группе\n",
    "    p1 = successes[0]/trials[0]\n",
    "\n",
    "    p2 = successes[1]/trials[1]\n",
    "    \n",
    "    # пропорция успехов в комбинированном датасете:\n",
    "    p_combined = (successes[0] + successes[1])/ (trials[0] + trials[1])\n",
    "    \n",
    "    # разница пропорций в датасетах\n",
    "    difference = p1 - p2\n",
    "    \n",
    "    # считаем статистику в ст.отклонениях стандартного нормального распределения\n",
    "    z_value = difference / mth.sqrt(p_combined * (1 - p_combined) * (1/trials[0] + 1/trials[1]))\n",
    "    \n",
    "    distr = st.norm(0, 1) \n",
    "\n",
    "    p_value = (1 - distr.cdf(abs(z_value))) * 2\n",
    "\n",
    "    print('p-значение: ', p_value)\n",
    "    \n",
    "    #установим уровень статистической значимости:\n",
    "\n",
    "    alpha = alpha \n",
    "\n",
    "    if p_value < alpha:\n",
    "        print('Отвергаем нулевую гипотезу. Различия есть.')\n",
    "    \n",
    "    else:\n",
    "        print('Не отвергаем нулевую гипотезу, т.е. разницы нет')"
   ]
  },
  {
   "cell_type": "markdown",
   "id": "ba1b6638",
   "metadata": {},
   "source": [
    "Сформулируем гипотезы:\n",
    "\n",
    "- $H_0$: нет различий в пропорции между оттоком клиентов в группе клиентов с определенным доходом и пропорции оттока клиентов по всей совокупности;\n",
    "- $H_1$: различия есть;\n",
    "- $\\alpha$ = 0.05\n",
    "\n",
    "Используем поправку Бонферрони на множественные сравнения.\n",
    "\n",
    "bonferroni_alpha = $\\alpha$ / 8"
   ]
  },
  {
   "cell_type": "code",
   "execution_count": 105,
   "id": "e36a94c7",
   "metadata": {},
   "outputs": [
    {
     "name": "stdout",
     "output_type": "stream",
     "text": [
      "входные параметры контрольная группа: 2037, 10000\n",
      "пропорция контрольная группа: 20.37\n",
      "--------------------------------------------------\n",
      "оценочный уровень дохода: (0, 25000]\n",
      "входные параметры: тестовая группа: 242, 1217\n",
      "пропорция: 19.88\n",
      "\n",
      "p-значение:  0.6913164599464143\n",
      "Не отвергаем нулевую гипотезу, т.е. разницы нет\n",
      "--------------------------------------------------\n",
      "оценочный уровень дохода: (25000, 50000]\n",
      "входные параметры: тестовая группа: 247, 1236\n",
      "пропорция: 19.98\n",
      "\n",
      "p-значение:  0.7502787650020732\n",
      "Не отвергаем нулевую гипотезу, т.е. разницы нет\n",
      "--------------------------------------------------\n",
      "оценочный уровень дохода: (50000, 75000]\n",
      "входные параметры: тестовая группа: 266, 1269\n",
      "пропорция: 20.96\n",
      "\n",
      "p-значение:  0.622612195482581\n",
      "Не отвергаем нулевую гипотезу, т.е. разницы нет\n",
      "--------------------------------------------------\n",
      "оценочный уровень дохода: (75000, 100000]\n",
      "входные параметры: тестовая группа: 238, 1268\n",
      "пропорция: 18.77\n",
      "\n",
      "p-значение:  0.1811164489354704\n",
      "Не отвергаем нулевую гипотезу, т.е. разницы нет\n",
      "--------------------------------------------------\n",
      "оценочный уровень дохода: (100000, 125000]\n",
      "входные параметры: тестовая группа: 256, 1276\n",
      "пропорция: 20.06\n",
      "\n",
      "p-значение:  0.7973042066854972\n",
      "Не отвергаем нулевую гипотезу, т.е. разницы нет\n",
      "--------------------------------------------------\n",
      "оценочный уровень дохода: (125000, 150000]\n",
      "входные параметры: тестовая группа: 261, 1279\n",
      "пропорция: 20.41\n",
      "\n",
      "p-значение:  0.975610525255501\n",
      "Не отвергаем нулевую гипотезу, т.е. разницы нет\n",
      "--------------------------------------------------\n",
      "оценочный уровень дохода: (150000, 175000]\n",
      "входные параметры: тестовая группа: 254, 1195\n",
      "пропорция: 21.26\n",
      "\n",
      "p-значение:  0.4734475302386385\n",
      "Не отвергаем нулевую гипотезу, т.е. разницы нет\n",
      "--------------------------------------------------\n",
      "оценочный уровень дохода: (175000, 200000]\n",
      "входные параметры: тестовая группа: 273, 1260\n",
      "пропорция: 21.67\n",
      "\n",
      "p-значение:  0.2827550433195538\n",
      "Не отвергаем нулевую гипотезу, т.е. разницы нет\n",
      "--------------------------------------------------\n"
     ]
    }
   ],
   "source": [
    "bonferroni_alpha = .05/8\n",
    "\n",
    "print(f'входные параметры контрольная группа: {not_churn_churn[1]}, {data.shape[0]}')\n",
    "print(f'пропорция контрольная группа: {\"{0:.2f}\".format((not_churn_churn[1]/data.shape[0])*100)}')\n",
    "print('-'*50)\n",
    "\n",
    "for index, row in churn_by_salary_group.iterrows():\n",
    "    print(f'оценочный уровень дохода: {row[\"salary_group\"]}')\n",
    "    print(f'входные параметры: тестовая группа: {row[1]}, {row[\"total\"]}')\n",
    "    print(f'пропорция: {\"{0:.2f}\".format((row[1]/row[\"total\"])*100)}\\n')\n",
    "    proportion_test(row[1], not_churn_churn[1],\n",
    "                    row['total'], data.shape[0],\n",
    "                    alpha=bonferroni_alpha)\n",
    "    print('-'*50)"
   ]
  },
  {
   "cell_type": "markdown",
   "id": "7fdb093e",
   "metadata": {},
   "source": [
    "**Вывод:** различия в уровне з/п между теми клиентами, которые ушли и теми, которые остались - нет."
   ]
  },
  {
   "cell_type": "markdown",
   "id": "ad8e58e8",
   "metadata": {},
   "source": [
    "## Различие оттока между отделениями в разных городах"
   ]
  },
  {
   "cell_type": "markdown",
   "id": "2852252d",
   "metadata": {},
   "source": [
    "Проверим является ли % оттока клиентов между отделениями статистически значимым. Для проверки статистической значимости будем использовать Z-тест. Используем поправку Бонферрони на множественные сравнения.\n",
    "\n",
    "bonferroni_alpha = $\\alpha$ / 3"
   ]
  },
  {
   "cell_type": "code",
   "execution_count": 106,
   "id": "b4f053b0",
   "metadata": {},
   "outputs": [],
   "source": [
    "bonferroni_alpha = .05/3"
   ]
  },
  {
   "cell_type": "markdown",
   "id": "bb41529d",
   "metadata": {},
   "source": [
    "Сформулируем гипотезы:\n",
    "\n",
    "- $H_0$: нет различий в оттоке клиентов между отделениями в Ярославле и Рыбинске;\n",
    "- $H_1$: различия есть;"
   ]
  },
  {
   "cell_type": "code",
   "execution_count": 107,
   "id": "da13638c",
   "metadata": {},
   "outputs": [
    {
     "name": "stdout",
     "output_type": "stream",
     "text": [
      "p-значение:  0.5677610235238439\n",
      "Не отвергаем нулевую гипотезу, т.е. разницы нет\n"
     ]
    }
   ],
   "source": [
    "proportion_test(413, 810, 2477, 5014, alpha=bonferroni_alpha)"
   ]
  },
  {
   "cell_type": "markdown",
   "id": "446e32f7",
   "metadata": {},
   "source": [
    "Сформулируем гипотезы:\n",
    "\n",
    "- $H_0$: нет различий в оттоке клиентов между отделениями в Ярославле и Ростове Великом;\n",
    "- $H_1$: различия есть;"
   ]
  },
  {
   "cell_type": "code",
   "execution_count": 108,
   "id": "52a1c475",
   "metadata": {},
   "outputs": [
    {
     "name": "stdout",
     "output_type": "stream",
     "text": [
      "p-значение:  0.0\n",
      "Отвергаем нулевую гипотезу. Различия есть.\n"
     ]
    }
   ],
   "source": [
    "proportion_test(814, 810, 2509, 5014, alpha=bonferroni_alpha)"
   ]
  },
  {
   "cell_type": "markdown",
   "id": "e19f7618",
   "metadata": {},
   "source": [
    "Сформулируем гипотезы:\n",
    "\n",
    "- $H_0$: нет различий в оттоке клиентов между отделениями в Рыбинске и Ростове Великом;\n",
    "- $H_1$: различия есть;"
   ]
  },
  {
   "cell_type": "code",
   "execution_count": 109,
   "id": "3f428853",
   "metadata": {},
   "outputs": [
    {
     "name": "stdout",
     "output_type": "stream",
     "text": [
      "p-значение:  0.0\n",
      "Отвергаем нулевую гипотезу. Различия есть.\n"
     ]
    }
   ],
   "source": [
    "proportion_test(814, 413, 2509, 2477, alpha=bonferroni_alpha)"
   ]
  },
  {
   "cell_type": "markdown",
   "id": "28a983f3",
   "metadata": {},
   "source": [
    "**Вывод:** можем говорить об отсутсвии статистически значимых различий оттока клиентов между отделениями в Ярославле и Рыбинске и наличии статистически значимых различий в отделении в Ростове Великом и Ярославле, Рыбинске."
   ]
  },
  {
   "cell_type": "markdown",
   "id": "685cf7d7",
   "metadata": {},
   "source": [
    "# Портрет клиента склонного к уходу"
   ]
  },
  {
   "cell_type": "markdown",
   "id": "ce3d11d5",
   "metadata": {},
   "source": [
    "Сформируем портрет клиента склонного к уходу.\n",
    "\n",
    "1. Уходит каждый пятый клиент (отток: 20.4%);\n",
    "2. В Ростове Великом уходит каждый третий клиент (отток: 32.0%);\n",
    "3. Неактивные клиенты уходят в два раза чаще чем активные (отток: 27%);\n",
    "4. Клиенты с низким кредитным рейтингм (350-450) уходят чаще (отток: 32%);\n",
    "5. Клиенты оформившие 3 и 4 продукта уходя практически все (отток 83% и 100%). Также многие клиенты с одим продуктом не смогли оценить преимущества банка (отток: 28%);\n",
    "6. Количество объектов в собственности клиентов не влияет на вероятность оттока.\n",
    "7. Оформление кредитной карты никака не влияет на вероятность ухода;\n",
    "8. Чаще уходят клиенты с балансом до 50 000р. и от 175 000р. (отток: 35% и 29%);\n",
    "9. Оценочный уровень дохода не влияет на вероятность ухода;\n",
    "10. Клиенты от 45 до 65 лет уходят чаще (отток: 51% и 48%);\n",
    "11. Женщины более склонны к отказу от услуг банка (25% оттока)."
   ]
  },
  {
   "cell_type": "markdown",
   "id": "218312c2",
   "metadata": {},
   "source": [
    "# Общий вывод"
   ]
  },
  {
   "cell_type": "markdown",
   "id": "ec9b7ba2",
   "metadata": {},
   "source": [
    "В рамках проекта был проведен анализ данных для выделения сегментов клиентов склонных к отказу от услуг банка.\n",
    "\n",
    "**Выяснили:**\n",
    " \n",
    "1  **Общий отток**. Уходит каждый пятый клиент (отток 20.4%); <br/>\n",
    "<br/>\n",
    "2 **Влияние региона присутствия**. В Ростове Великом уходит каждый третий клиьент (отток: 32.0%). <br/>\n",
    "**Возможные причины:**\n",
    "- можно отметить различие в распределении оттока (в отделениях в Ростове Великом и Ярославле, Рыбинске) клиентов по уровню баланса . Можно предположить, что в отделении в Ростове Великом попытались сократить отток клиентов с определенным уровнем баланса. Добились успеха, но при этом ухудшили показатели по другим группам;\n",
    "- в отделениях различные продукты.\n",
    "\n",
    "**Рекомендации:**\n",
    "- провести соппоставление продуктов, условий по продуктам между отделениями;\n",
    "- провести аудит соблюдения корпоративных стандартов.\n",
    "<br/>\n",
    "\n",
    "3 **Активность клиентов**. Неактивные клиенты уходят в два раза чаще чем активные (отток: 27%).<br/>\n",
    "**Возможные причины:**<br/>\n",
    "Разделим причины перехода в неактивный режим и различий в оттоке между активными и неактивными клиентами.<br/>\n",
    "Причины перехода в неактивный режим:\n",
    "- Методология определения. Следует уточнить параметры неактивности: отсутсвие каких-либо операций за период, опять же - какой? Клиент с долгосрочным депозитом (3 года) будет неактивным? и т.д.\n",
    "- возможная смена з/п проекта работадателем, смена банка для начисления социальных пособий и т.д. Т.е. Клиент перешел в другой банк, но договор обсуживания не разорвал. <br/>\n",
    "Причины повышенного оттока неактивных клиентов:\n",
    "- неактивные клиенты все реже вспоминают про банк или не находят подходящих продуктов, со временем совсем отказываются;\n",
    "- Методология учета. Что происходит с неактивными клиентами, которые не уходят, так и остаются неактивными или удается перевести в статус активных. т.е. клиенты из неактивных не попадают в статистику оттока, а переходят в активные?\n",
    "\n",
    "**Рекомендации:**\n",
    "- напоминать клиентам о банке и его продуктах;\n",
    "- предлагать специальные условия по продуктам.\n",
    "\n",
    "4 **Кредитный рейтинг**. Клиенты с низким кредитным рейтингм (350-450) уходят чаще (отток: 32%).<br/>\n",
    "**Возможные причины:**\n",
    "- менее ответсвенны;\n",
    "- менее обдуманно подходили к выбору банка и продуктов;\n",
    "- возможно более импульсивны.\n",
    "\n",
    "**Рекомендации:**\n",
    "- клиенты с низким рейтингом самая малочисленная группа - 61 клиент или 0.61% от общей численности клиентов. Возможно ввиду малой выборки это случайность, но нужно смотреть насколько ответсвенно ведет себя данная категория клиентов и насколько выгодно банку с ними сотрудничать.\n",
    "\n",
    "5 **Количество продуктов**. Клиенты оформившие 3 и 4 продукта уходя практически все (отток 83% и 100%). Также многие клиенты с одим продуктом не смогли оценить преимущества банка (отток: 28%);<br/>\n",
    "**Возможные причины:**\n",
    "- чем больше продуктов, тем выше стоимость обслуживания продуктов (в случае кредитных продуктов);\n",
    "- чем больше продуктов тем больше вероятность получить негативный опыт использования хотя бы одного;\n",
    "- клиенты использующие один продукт могут как получить негативный опыт использования так и положительный, тогда могут оформить второй продукт, т.е. более лояльные клиенты перешли в категорию с двумя продуктами, а в категории с одним продуктом осталось больше неопределившихся.\n",
    "\n",
    "**Рекомендации:**\n",
    "- провести анализ сценариев оформления 2, 3, 4 продуктов;\n",
    "- повысить удовлетворенность клиентов от использования первого продукта банка.\n",
    "\n",
    "6 **Количество объектов в собственности** не влияет на вероятность оттока.\n",
    "\n",
    "\n",
    "7 **Оформление кредитной карты**. Оформление кредитной карты никака не влияет на вероятность ухода.\n",
    "\n",
    "8 **Баланс**. Чаще уходят клиенты с балансом до 50 000р. и от 175 000р. (отток: 35% и 29%).<br/>\n",
    "**Возможные причины:**\n",
    "- продукты банка не ориентированы на работу с таким уровнем баланса.\n",
    "\n",
    "**Рекомендации:**\n",
    "- это самые малочисленные группы. Необходим дополнительный анализ насколько данные группы являются целевыми и перспективными.\n",
    "\n",
    "9 **Оценочный уровень дохода**. Оценочный уровень дохода не влияет на вероятность ухода.\n",
    "\n",
    "10 **Возраст**. Клиенты от 45 до 65 лет уходят чаще (отток: 51% и 48%).<br/>\n",
    "**Возможные причины:**<br/>\n",
    "Можно рассмотреть:<br/>\n",
    "внутренние причины:<br/>\n",
    "- клиенты данной возрастной категории получают менее положительный опыт взаимодействия с банком (обслуживание в отделении, интернет, мобильный банк);\n",
    "- различие в тарифах на обслсуживание (повышенные, пониженные комиссии, процентные ставки и т.д)<br/>\n",
    "\n",
    "внешние причины:\n",
    "- смена зарплатных проетов крупных работадателей региона;\n",
    "- агрессивная стратегия конкурентов направленная на конкретные группы.\n",
    "\n",
    "**Рекомендации:**\n",
    "- данные возрастные группы не самые большие. Суммарно численность данной группы занимает 3-е место по размеру (18% от ощего количества) и в два раза меньше чем группа занимающая второе место (37% от общего количества) по размеру.\n",
    "- для рекомендаций необходимо знать стратегию банка и понимать насколько данные группы являются целевыми. Также выявить основные причины(подтвердить/ опровергнуть выдвинутые предположения о причинах оттока клиентов).\n",
    "\n",
    "11 **Пол.** Женщины более склонны к отказу от услуг банка (25% оттока).<br/>\n",
    "**Возможные причины:**<br/>\n",
    "Можно рассмотреть:<br/>\n",
    "внутренние причины:<br/>\n",
    "- женщины более требовательны к уровню сервиса;\n",
    "- различие в тарифах;<br/>\n",
    "\n",
    "внешние причины:\n",
    "- конкурент нацеленный на женскую аудиторию.\n",
    "\n",
    "**Рекомендации:**\n",
    "- женщины составляли 45% клиентов банка. Т.е. в данном случае нельзя сказать, что не являются целевыми клиентами. Однако, до конца не понимая причин, сложно предоставить конктретные рекомендации. Нужен дополнительный анализ как причин оттока, так и возможностей устранения причин, например, если причина внешняя, в более привлекательных тарифах конкурентов, можем ли устраивать \"войну\" тарафов.\n",
    "\n",
    "Для ответа на вопрос: отток в каком сегменте повлиял на обращение менеджера продукта, необходимо провести анализ <предыдущий период>/<текущий период>. Без подобного анализа невозможно ответить изменился показатель оттока в каком-то одном или нескольких сегментах."
   ]
  }
 ],
 "metadata": {
  "ExecuteTimeLog": [
   {
    "duration": 1363,
    "start_time": "2023-01-18T11:12:14.474Z"
   },
   {
    "duration": 690,
    "start_time": "2023-01-18T11:12:15.840Z"
   },
   {
    "duration": 0,
    "start_time": "2023-01-18T11:12:16.534Z"
   },
   {
    "duration": 0,
    "start_time": "2023-01-18T11:12:16.537Z"
   },
   {
    "duration": 0,
    "start_time": "2023-01-18T11:12:16.539Z"
   },
   {
    "duration": 0,
    "start_time": "2023-01-18T11:12:16.539Z"
   },
   {
    "duration": 0,
    "start_time": "2023-01-18T11:12:16.540Z"
   },
   {
    "duration": 0,
    "start_time": "2023-01-18T11:12:16.542Z"
   },
   {
    "duration": 0,
    "start_time": "2023-01-18T11:12:16.542Z"
   },
   {
    "duration": 0,
    "start_time": "2023-01-18T11:12:16.543Z"
   },
   {
    "duration": 0,
    "start_time": "2023-01-18T11:12:16.544Z"
   },
   {
    "duration": 0,
    "start_time": "2023-01-18T11:12:16.546Z"
   },
   {
    "duration": 0,
    "start_time": "2023-01-18T11:12:16.547Z"
   },
   {
    "duration": 0,
    "start_time": "2023-01-18T11:12:16.548Z"
   },
   {
    "duration": 0,
    "start_time": "2023-01-18T11:12:16.549Z"
   },
   {
    "duration": 0,
    "start_time": "2023-01-18T11:12:16.550Z"
   },
   {
    "duration": 0,
    "start_time": "2023-01-18T11:12:16.551Z"
   },
   {
    "duration": 0,
    "start_time": "2023-01-18T11:12:16.553Z"
   },
   {
    "duration": 0,
    "start_time": "2023-01-18T11:12:16.553Z"
   },
   {
    "duration": 0,
    "start_time": "2023-01-18T11:12:16.554Z"
   },
   {
    "duration": 0,
    "start_time": "2023-01-18T11:12:16.555Z"
   },
   {
    "duration": 0,
    "start_time": "2023-01-18T11:12:16.556Z"
   },
   {
    "duration": 0,
    "start_time": "2023-01-18T11:12:16.556Z"
   },
   {
    "duration": 0,
    "start_time": "2023-01-18T11:12:16.557Z"
   },
   {
    "duration": 0,
    "start_time": "2023-01-18T11:12:16.558Z"
   },
   {
    "duration": 0,
    "start_time": "2023-01-18T11:12:16.559Z"
   },
   {
    "duration": 0,
    "start_time": "2023-01-18T11:12:16.559Z"
   },
   {
    "duration": 0,
    "start_time": "2023-01-18T11:12:16.560Z"
   },
   {
    "duration": 0,
    "start_time": "2023-01-18T11:12:16.561Z"
   },
   {
    "duration": 1,
    "start_time": "2023-01-18T11:12:16.561Z"
   },
   {
    "duration": 0,
    "start_time": "2023-01-18T11:12:16.563Z"
   },
   {
    "duration": 0,
    "start_time": "2023-01-18T11:12:16.564Z"
   },
   {
    "duration": 0,
    "start_time": "2023-01-18T11:12:16.568Z"
   },
   {
    "duration": 0,
    "start_time": "2023-01-18T11:12:16.569Z"
   },
   {
    "duration": 0,
    "start_time": "2023-01-18T11:12:16.570Z"
   },
   {
    "duration": 0,
    "start_time": "2023-01-18T11:12:16.572Z"
   },
   {
    "duration": 0,
    "start_time": "2023-01-18T11:12:16.573Z"
   },
   {
    "duration": 0,
    "start_time": "2023-01-18T11:12:16.574Z"
   },
   {
    "duration": 0,
    "start_time": "2023-01-18T11:12:16.575Z"
   },
   {
    "duration": 0,
    "start_time": "2023-01-18T11:12:16.576Z"
   },
   {
    "duration": 0,
    "start_time": "2023-01-18T11:12:16.577Z"
   },
   {
    "duration": 0,
    "start_time": "2023-01-18T11:12:16.578Z"
   },
   {
    "duration": 0,
    "start_time": "2023-01-18T11:12:16.580Z"
   },
   {
    "duration": 0,
    "start_time": "2023-01-18T11:12:16.638Z"
   },
   {
    "duration": 0,
    "start_time": "2023-01-18T11:12:16.639Z"
   },
   {
    "duration": 0,
    "start_time": "2023-01-18T11:12:16.641Z"
   },
   {
    "duration": 0,
    "start_time": "2023-01-18T11:12:16.643Z"
   },
   {
    "duration": 0,
    "start_time": "2023-01-18T11:12:16.644Z"
   },
   {
    "duration": 0,
    "start_time": "2023-01-18T11:12:16.646Z"
   },
   {
    "duration": 0,
    "start_time": "2023-01-18T11:12:16.647Z"
   },
   {
    "duration": 0,
    "start_time": "2023-01-18T11:12:16.649Z"
   },
   {
    "duration": 0,
    "start_time": "2023-01-18T11:12:16.651Z"
   },
   {
    "duration": 0,
    "start_time": "2023-01-18T11:12:16.652Z"
   },
   {
    "duration": 0,
    "start_time": "2023-01-18T11:12:16.654Z"
   },
   {
    "duration": 0,
    "start_time": "2023-01-18T11:12:16.655Z"
   },
   {
    "duration": 0,
    "start_time": "2023-01-18T11:12:16.656Z"
   },
   {
    "duration": 0,
    "start_time": "2023-01-18T11:12:16.657Z"
   },
   {
    "duration": 0,
    "start_time": "2023-01-18T11:12:16.658Z"
   },
   {
    "duration": 0,
    "start_time": "2023-01-18T11:12:16.660Z"
   },
   {
    "duration": 0,
    "start_time": "2023-01-18T11:12:16.661Z"
   },
   {
    "duration": 0,
    "start_time": "2023-01-18T11:12:16.663Z"
   },
   {
    "duration": 0,
    "start_time": "2023-01-18T11:12:16.664Z"
   },
   {
    "duration": 0,
    "start_time": "2023-01-18T11:12:16.665Z"
   },
   {
    "duration": 0,
    "start_time": "2023-01-18T11:12:16.666Z"
   },
   {
    "duration": 0,
    "start_time": "2023-01-18T11:12:16.667Z"
   },
   {
    "duration": 0,
    "start_time": "2023-01-18T11:12:16.669Z"
   },
   {
    "duration": 0,
    "start_time": "2023-01-18T11:12:16.670Z"
   },
   {
    "duration": 0,
    "start_time": "2023-01-18T11:12:16.671Z"
   },
   {
    "duration": 0,
    "start_time": "2023-01-18T11:12:16.672Z"
   },
   {
    "duration": 0,
    "start_time": "2023-01-18T11:12:16.738Z"
   },
   {
    "duration": 0,
    "start_time": "2023-01-18T11:12:16.739Z"
   },
   {
    "duration": 0,
    "start_time": "2023-01-18T11:12:16.741Z"
   },
   {
    "duration": 0,
    "start_time": "2023-01-18T11:12:16.742Z"
   },
   {
    "duration": 0,
    "start_time": "2023-01-18T11:12:16.744Z"
   },
   {
    "duration": 0,
    "start_time": "2023-01-18T11:12:16.745Z"
   },
   {
    "duration": 0,
    "start_time": "2023-01-18T11:12:16.747Z"
   },
   {
    "duration": 0,
    "start_time": "2023-01-18T11:12:16.750Z"
   },
   {
    "duration": 0,
    "start_time": "2023-01-18T11:12:16.751Z"
   },
   {
    "duration": 0,
    "start_time": "2023-01-18T11:12:16.752Z"
   },
   {
    "duration": 0,
    "start_time": "2023-01-18T11:12:16.753Z"
   },
   {
    "duration": 0,
    "start_time": "2023-01-18T11:12:16.755Z"
   },
   {
    "duration": 0,
    "start_time": "2023-01-18T11:12:16.756Z"
   },
   {
    "duration": 0,
    "start_time": "2023-01-18T11:12:16.757Z"
   },
   {
    "duration": 0,
    "start_time": "2023-01-18T11:12:16.758Z"
   },
   {
    "duration": 0,
    "start_time": "2023-01-18T11:12:16.760Z"
   },
   {
    "duration": 0,
    "start_time": "2023-01-18T11:12:16.761Z"
   },
   {
    "duration": 0,
    "start_time": "2023-01-18T11:12:16.762Z"
   },
   {
    "duration": 0,
    "start_time": "2023-01-18T11:12:16.763Z"
   },
   {
    "duration": 0,
    "start_time": "2023-01-18T11:12:16.764Z"
   },
   {
    "duration": 76,
    "start_time": "2023-01-18T11:16:11.571Z"
   },
   {
    "duration": 3,
    "start_time": "2023-01-18T11:16:33.287Z"
   },
   {
    "duration": 306,
    "start_time": "2023-01-18T11:16:37.274Z"
   },
   {
    "duration": 328,
    "start_time": "2023-01-18T11:17:36.046Z"
   },
   {
    "duration": 702,
    "start_time": "2023-01-18T11:17:39.615Z"
   },
   {
    "duration": 119,
    "start_time": "2023-01-18T11:19:45.769Z"
   },
   {
    "duration": 1240,
    "start_time": "2023-01-18T11:19:52.871Z"
   },
   {
    "duration": 88,
    "start_time": "2023-01-18T11:19:54.114Z"
   },
   {
    "duration": 22,
    "start_time": "2023-01-18T11:19:54.205Z"
   },
   {
    "duration": 3,
    "start_time": "2023-01-18T11:19:54.231Z"
   },
   {
    "duration": 21,
    "start_time": "2023-01-18T11:19:54.237Z"
   },
   {
    "duration": 16,
    "start_time": "2023-01-18T11:19:54.259Z"
   },
   {
    "duration": 43,
    "start_time": "2023-01-18T11:19:54.277Z"
   },
   {
    "duration": 4,
    "start_time": "2023-01-18T11:19:54.322Z"
   },
   {
    "duration": 31,
    "start_time": "2023-01-18T11:19:54.328Z"
   },
   {
    "duration": 15,
    "start_time": "2023-01-18T11:19:54.363Z"
   },
   {
    "duration": 12,
    "start_time": "2023-01-18T11:19:54.379Z"
   },
   {
    "duration": 164,
    "start_time": "2023-01-18T11:19:54.393Z"
   },
   {
    "duration": 221,
    "start_time": "2023-01-18T11:19:54.560Z"
   },
   {
    "duration": 4,
    "start_time": "2023-01-18T11:19:54.782Z"
   },
   {
    "duration": 13,
    "start_time": "2023-01-18T11:19:54.788Z"
   },
   {
    "duration": 16,
    "start_time": "2023-01-18T11:19:54.803Z"
   },
   {
    "duration": 37,
    "start_time": "2023-01-18T11:19:54.821Z"
   },
   {
    "duration": 22,
    "start_time": "2023-01-18T11:19:54.860Z"
   },
   {
    "duration": 92,
    "start_time": "2023-01-18T11:19:54.884Z"
   },
   {
    "duration": 6,
    "start_time": "2023-01-18T11:19:54.978Z"
   },
   {
    "duration": 9,
    "start_time": "2023-01-18T11:19:54.986Z"
   },
   {
    "duration": 14,
    "start_time": "2023-01-18T11:19:54.997Z"
   },
   {
    "duration": 4,
    "start_time": "2023-01-18T11:19:55.012Z"
   },
   {
    "duration": 40,
    "start_time": "2023-01-18T11:19:55.037Z"
   },
   {
    "duration": 3,
    "start_time": "2023-01-18T11:19:55.079Z"
   },
   {
    "duration": 29,
    "start_time": "2023-01-18T11:19:55.083Z"
   },
   {
    "duration": 23,
    "start_time": "2023-01-18T11:19:55.114Z"
   },
   {
    "duration": 5,
    "start_time": "2023-01-18T11:19:55.141Z"
   },
   {
    "duration": 229,
    "start_time": "2023-01-18T11:19:55.148Z"
   },
   {
    "duration": 4,
    "start_time": "2023-01-18T11:19:55.379Z"
   },
   {
    "duration": 338,
    "start_time": "2023-01-18T11:19:55.385Z"
   },
   {
    "duration": 4,
    "start_time": "2023-01-18T11:19:55.725Z"
   },
   {
    "duration": 97,
    "start_time": "2023-01-18T11:19:55.737Z"
   },
   {
    "duration": 11,
    "start_time": "2023-01-18T11:19:55.837Z"
   },
   {
    "duration": 61,
    "start_time": "2023-01-18T11:19:55.850Z"
   },
   {
    "duration": 22,
    "start_time": "2023-01-18T11:19:55.913Z"
   },
   {
    "duration": 245,
    "start_time": "2023-01-18T11:19:55.938Z"
   },
   {
    "duration": 5,
    "start_time": "2023-01-18T11:19:56.184Z"
   },
   {
    "duration": 39,
    "start_time": "2023-01-18T11:19:56.191Z"
   },
   {
    "duration": 79,
    "start_time": "2023-01-18T11:19:56.233Z"
   },
   {
    "duration": 19,
    "start_time": "2023-01-18T11:19:56.313Z"
   },
   {
    "duration": 192,
    "start_time": "2023-01-18T11:19:56.334Z"
   },
   {
    "duration": 10,
    "start_time": "2023-01-18T11:19:56.528Z"
   },
   {
    "duration": 24,
    "start_time": "2023-01-18T11:19:56.540Z"
   },
   {
    "duration": 209,
    "start_time": "2023-01-18T11:19:56.565Z"
   },
   {
    "duration": 346,
    "start_time": "2023-01-18T11:19:56.776Z"
   },
   {
    "duration": 56,
    "start_time": "2023-01-18T11:19:57.123Z"
   },
   {
    "duration": 24,
    "start_time": "2023-01-18T11:19:57.181Z"
   },
   {
    "duration": 317,
    "start_time": "2023-01-18T11:19:57.207Z"
   },
   {
    "duration": 29,
    "start_time": "2023-01-18T11:19:57.526Z"
   },
   {
    "duration": 52,
    "start_time": "2023-01-18T11:19:57.557Z"
   },
   {
    "duration": 8,
    "start_time": "2023-01-18T11:19:57.611Z"
   },
   {
    "duration": 9,
    "start_time": "2023-01-18T11:19:57.638Z"
   },
   {
    "duration": 19,
    "start_time": "2023-01-18T11:19:57.649Z"
   },
   {
    "duration": 35,
    "start_time": "2023-01-18T11:19:57.670Z"
   },
   {
    "duration": 26,
    "start_time": "2023-01-18T11:19:57.707Z"
   },
   {
    "duration": 216,
    "start_time": "2023-01-18T11:19:57.735Z"
   },
   {
    "duration": 140,
    "start_time": "2023-01-18T11:19:57.953Z"
   },
   {
    "duration": 348,
    "start_time": "2023-01-18T11:19:58.095Z"
   },
   {
    "duration": 60,
    "start_time": "2023-01-18T11:19:58.445Z"
   },
   {
    "duration": 38,
    "start_time": "2023-01-18T11:19:58.507Z"
   },
   {
    "duration": 220,
    "start_time": "2023-01-18T11:19:58.547Z"
   },
   {
    "duration": 5,
    "start_time": "2023-01-18T11:19:58.769Z"
   },
   {
    "duration": 16,
    "start_time": "2023-01-18T11:19:58.775Z"
   },
   {
    "duration": 33,
    "start_time": "2023-01-18T11:19:58.792Z"
   },
   {
    "duration": 63,
    "start_time": "2023-01-18T11:19:58.828Z"
   },
   {
    "duration": 275,
    "start_time": "2023-01-18T11:19:58.895Z"
   },
   {
    "duration": 324,
    "start_time": "2023-01-18T11:19:59.171Z"
   },
   {
    "duration": 64,
    "start_time": "2023-01-18T11:19:59.497Z"
   },
   {
    "duration": 19,
    "start_time": "2023-01-18T11:19:59.563Z"
   },
   {
    "duration": 218,
    "start_time": "2023-01-18T11:19:59.583Z"
   },
   {
    "duration": 4,
    "start_time": "2023-01-18T11:19:59.803Z"
   },
   {
    "duration": 41,
    "start_time": "2023-01-18T11:19:59.809Z"
   },
   {
    "duration": 37,
    "start_time": "2023-01-18T11:19:59.852Z"
   },
   {
    "duration": 53,
    "start_time": "2023-01-18T11:19:59.890Z"
   },
   {
    "duration": 199,
    "start_time": "2023-01-18T11:19:59.945Z"
   },
   {
    "duration": 347,
    "start_time": "2023-01-18T11:20:00.146Z"
   },
   {
    "duration": 64,
    "start_time": "2023-01-18T11:20:00.495Z"
   },
   {
    "duration": 19,
    "start_time": "2023-01-18T11:20:00.561Z"
   },
   {
    "duration": 257,
    "start_time": "2023-01-18T11:20:00.582Z"
   },
   {
    "duration": 23,
    "start_time": "2023-01-18T11:20:00.840Z"
   },
   {
    "duration": 15,
    "start_time": "2023-01-18T11:20:00.868Z"
   },
   {
    "duration": 73,
    "start_time": "2023-01-18T11:20:00.885Z"
   },
   {
    "duration": 6,
    "start_time": "2023-01-18T11:20:00.960Z"
   },
   {
    "duration": 59,
    "start_time": "2023-01-18T11:20:00.968Z"
   },
   {
    "duration": 18,
    "start_time": "2023-01-18T11:20:01.029Z"
   },
   {
    "duration": 41,
    "start_time": "2023-01-18T11:20:01.049Z"
   },
   {
    "duration": 35,
    "start_time": "2023-01-18T11:20:01.092Z"
   },
   {
    "duration": 19,
    "start_time": "2023-01-18T11:20:01.129Z"
   },
   {
    "duration": 11,
    "start_time": "2023-01-18T11:23:09.488Z"
   },
   {
    "duration": 601,
    "start_time": "2023-01-18T11:23:13.558Z"
   },
   {
    "duration": 5,
    "start_time": "2023-01-18T11:23:19.242Z"
   },
   {
    "duration": 580,
    "start_time": "2023-01-18T11:23:26.451Z"
   },
   {
    "duration": 14,
    "start_time": "2023-01-18T11:23:29.875Z"
   },
   {
    "duration": 11,
    "start_time": "2023-01-18T11:23:37.051Z"
   },
   {
    "duration": 9,
    "start_time": "2023-01-18T11:23:42.990Z"
   },
   {
    "duration": 5,
    "start_time": "2023-01-18T11:23:52.808Z"
   },
   {
    "duration": 3,
    "start_time": "2023-01-18T11:24:00.279Z"
   },
   {
    "duration": 4,
    "start_time": "2023-01-18T11:24:16.528Z"
   },
   {
    "duration": 71,
    "start_time": "2023-01-18T11:24:38.839Z"
   },
   {
    "duration": 4,
    "start_time": "2023-01-18T11:24:41.107Z"
   },
   {
    "duration": 12,
    "start_time": "2023-01-18T11:24:43.954Z"
   },
   {
    "duration": 3,
    "start_time": "2023-01-18T11:24:45.803Z"
   },
   {
    "duration": 7,
    "start_time": "2023-01-18T11:24:47.838Z"
   },
   {
    "duration": 13,
    "start_time": "2023-01-18T11:24:51.942Z"
   },
   {
    "duration": 45,
    "start_time": "2023-01-18T11:24:53.252Z"
   },
   {
    "duration": 71,
    "start_time": "2023-01-18T11:28:14.202Z"
   },
   {
    "duration": 4,
    "start_time": "2023-01-18T11:28:16.733Z"
   },
   {
    "duration": 13,
    "start_time": "2023-01-18T11:28:19.317Z"
   },
   {
    "duration": 4,
    "start_time": "2023-01-18T11:28:21.467Z"
   },
   {
    "duration": 4,
    "start_time": "2023-01-18T11:28:21.854Z"
   },
   {
    "duration": 15,
    "start_time": "2023-01-18T11:28:23.231Z"
   },
   {
    "duration": 39,
    "start_time": "2023-01-18T11:28:24.512Z"
   },
   {
    "duration": 153,
    "start_time": "2023-01-18T12:10:21.234Z"
   },
   {
    "duration": 1249,
    "start_time": "2023-01-18T12:10:26.909Z"
   },
   {
    "duration": 244,
    "start_time": "2023-01-18T12:10:28.160Z"
   },
   {
    "duration": 0,
    "start_time": "2023-01-18T12:10:28.409Z"
   },
   {
    "duration": 0,
    "start_time": "2023-01-18T12:10:28.411Z"
   },
   {
    "duration": 0,
    "start_time": "2023-01-18T12:10:28.412Z"
   },
   {
    "duration": 0,
    "start_time": "2023-01-18T12:10:28.413Z"
   },
   {
    "duration": 0,
    "start_time": "2023-01-18T12:10:28.414Z"
   },
   {
    "duration": 0,
    "start_time": "2023-01-18T12:10:28.415Z"
   },
   {
    "duration": 0,
    "start_time": "2023-01-18T12:10:28.416Z"
   },
   {
    "duration": 0,
    "start_time": "2023-01-18T12:10:28.417Z"
   },
   {
    "duration": 0,
    "start_time": "2023-01-18T12:10:28.418Z"
   },
   {
    "duration": 0,
    "start_time": "2023-01-18T12:10:28.419Z"
   },
   {
    "duration": 0,
    "start_time": "2023-01-18T12:10:28.421Z"
   },
   {
    "duration": 0,
    "start_time": "2023-01-18T12:10:28.422Z"
   },
   {
    "duration": 0,
    "start_time": "2023-01-18T12:10:28.423Z"
   },
   {
    "duration": 0,
    "start_time": "2023-01-18T12:10:28.424Z"
   },
   {
    "duration": 0,
    "start_time": "2023-01-18T12:10:28.425Z"
   },
   {
    "duration": 0,
    "start_time": "2023-01-18T12:10:28.426Z"
   },
   {
    "duration": 0,
    "start_time": "2023-01-18T12:10:28.427Z"
   },
   {
    "duration": 0,
    "start_time": "2023-01-18T12:10:28.427Z"
   },
   {
    "duration": 0,
    "start_time": "2023-01-18T12:10:28.428Z"
   },
   {
    "duration": 1,
    "start_time": "2023-01-18T12:10:28.429Z"
   },
   {
    "duration": 1,
    "start_time": "2023-01-18T12:10:28.430Z"
   },
   {
    "duration": 0,
    "start_time": "2023-01-18T12:10:28.431Z"
   },
   {
    "duration": 0,
    "start_time": "2023-01-18T12:10:28.432Z"
   },
   {
    "duration": 0,
    "start_time": "2023-01-18T12:10:28.433Z"
   },
   {
    "duration": 0,
    "start_time": "2023-01-18T12:10:28.434Z"
   },
   {
    "duration": 0,
    "start_time": "2023-01-18T12:10:28.435Z"
   },
   {
    "duration": 0,
    "start_time": "2023-01-18T12:10:28.436Z"
   },
   {
    "duration": 0,
    "start_time": "2023-01-18T12:10:28.437Z"
   },
   {
    "duration": 0,
    "start_time": "2023-01-18T12:10:28.438Z"
   },
   {
    "duration": 0,
    "start_time": "2023-01-18T12:10:28.439Z"
   },
   {
    "duration": 0,
    "start_time": "2023-01-18T12:10:28.440Z"
   },
   {
    "duration": 0,
    "start_time": "2023-01-18T12:10:28.441Z"
   },
   {
    "duration": 0,
    "start_time": "2023-01-18T12:10:28.442Z"
   },
   {
    "duration": 0,
    "start_time": "2023-01-18T12:10:28.443Z"
   },
   {
    "duration": 0,
    "start_time": "2023-01-18T12:10:28.444Z"
   },
   {
    "duration": 0,
    "start_time": "2023-01-18T12:10:28.445Z"
   },
   {
    "duration": 0,
    "start_time": "2023-01-18T12:10:28.446Z"
   },
   {
    "duration": 0,
    "start_time": "2023-01-18T12:10:28.447Z"
   },
   {
    "duration": 0,
    "start_time": "2023-01-18T12:10:28.448Z"
   },
   {
    "duration": 0,
    "start_time": "2023-01-18T12:10:28.449Z"
   },
   {
    "duration": 0,
    "start_time": "2023-01-18T12:10:28.450Z"
   },
   {
    "duration": 0,
    "start_time": "2023-01-18T12:10:28.451Z"
   },
   {
    "duration": 0,
    "start_time": "2023-01-18T12:10:28.453Z"
   },
   {
    "duration": 0,
    "start_time": "2023-01-18T12:10:28.454Z"
   },
   {
    "duration": 0,
    "start_time": "2023-01-18T12:10:28.455Z"
   },
   {
    "duration": 0,
    "start_time": "2023-01-18T12:10:28.457Z"
   },
   {
    "duration": 0,
    "start_time": "2023-01-18T12:10:28.459Z"
   },
   {
    "duration": 0,
    "start_time": "2023-01-18T12:10:28.460Z"
   },
   {
    "duration": 0,
    "start_time": "2023-01-18T12:10:28.462Z"
   },
   {
    "duration": 0,
    "start_time": "2023-01-18T12:10:28.463Z"
   },
   {
    "duration": 0,
    "start_time": "2023-01-18T12:10:28.464Z"
   },
   {
    "duration": 0,
    "start_time": "2023-01-18T12:10:28.466Z"
   },
   {
    "duration": 0,
    "start_time": "2023-01-18T12:10:28.467Z"
   },
   {
    "duration": 0,
    "start_time": "2023-01-18T12:10:28.469Z"
   },
   {
    "duration": 0,
    "start_time": "2023-01-18T12:10:28.470Z"
   },
   {
    "duration": 0,
    "start_time": "2023-01-18T12:10:28.472Z"
   },
   {
    "duration": 0,
    "start_time": "2023-01-18T12:10:28.473Z"
   },
   {
    "duration": 1,
    "start_time": "2023-01-18T12:10:28.474Z"
   },
   {
    "duration": 0,
    "start_time": "2023-01-18T12:10:28.476Z"
   },
   {
    "duration": 0,
    "start_time": "2023-01-18T12:10:28.477Z"
   },
   {
    "duration": 0,
    "start_time": "2023-01-18T12:10:28.478Z"
   },
   {
    "duration": 0,
    "start_time": "2023-01-18T12:10:28.538Z"
   },
   {
    "duration": 0,
    "start_time": "2023-01-18T12:10:28.539Z"
   },
   {
    "duration": 0,
    "start_time": "2023-01-18T12:10:28.540Z"
   },
   {
    "duration": 0,
    "start_time": "2023-01-18T12:10:28.541Z"
   },
   {
    "duration": 0,
    "start_time": "2023-01-18T12:10:28.541Z"
   },
   {
    "duration": 0,
    "start_time": "2023-01-18T12:10:28.543Z"
   },
   {
    "duration": 0,
    "start_time": "2023-01-18T12:10:28.544Z"
   },
   {
    "duration": 0,
    "start_time": "2023-01-18T12:10:28.545Z"
   },
   {
    "duration": 0,
    "start_time": "2023-01-18T12:10:28.546Z"
   },
   {
    "duration": 0,
    "start_time": "2023-01-18T12:10:28.547Z"
   },
   {
    "duration": 0,
    "start_time": "2023-01-18T12:10:28.548Z"
   },
   {
    "duration": 0,
    "start_time": "2023-01-18T12:10:28.549Z"
   },
   {
    "duration": 0,
    "start_time": "2023-01-18T12:10:28.550Z"
   },
   {
    "duration": 0,
    "start_time": "2023-01-18T12:10:28.551Z"
   },
   {
    "duration": 0,
    "start_time": "2023-01-18T12:10:28.552Z"
   },
   {
    "duration": 0,
    "start_time": "2023-01-18T12:10:28.553Z"
   },
   {
    "duration": 0,
    "start_time": "2023-01-18T12:10:28.554Z"
   },
   {
    "duration": 0,
    "start_time": "2023-01-18T12:10:28.555Z"
   },
   {
    "duration": 0,
    "start_time": "2023-01-18T12:10:28.557Z"
   },
   {
    "duration": 0,
    "start_time": "2023-01-18T12:10:28.558Z"
   },
   {
    "duration": 0,
    "start_time": "2023-01-18T12:10:28.559Z"
   },
   {
    "duration": 0,
    "start_time": "2023-01-18T12:10:28.561Z"
   },
   {
    "duration": 0,
    "start_time": "2023-01-18T12:10:28.562Z"
   },
   {
    "duration": 0,
    "start_time": "2023-01-18T12:10:28.563Z"
   },
   {
    "duration": 0,
    "start_time": "2023-01-18T12:10:28.564Z"
   },
   {
    "duration": 0,
    "start_time": "2023-01-18T12:10:28.565Z"
   },
   {
    "duration": 0,
    "start_time": "2023-01-18T12:10:28.567Z"
   },
   {
    "duration": 1235,
    "start_time": "2023-01-18T13:24:50.884Z"
   },
   {
    "duration": 231,
    "start_time": "2023-01-18T13:24:56.083Z"
   },
   {
    "duration": 124,
    "start_time": "2023-01-18T13:25:05.883Z"
   },
   {
    "duration": 486,
    "start_time": "2023-01-18T13:26:01.440Z"
   },
   {
    "duration": 448,
    "start_time": "2023-01-18T13:26:12.645Z"
   },
   {
    "duration": 10,
    "start_time": "2023-01-18T13:26:13.231Z"
   },
   {
    "duration": 14,
    "start_time": "2023-01-18T13:26:15.583Z"
   },
   {
    "duration": 3,
    "start_time": "2023-01-18T13:26:16.604Z"
   },
   {
    "duration": 4,
    "start_time": "2023-01-18T13:26:16.979Z"
   },
   {
    "duration": 13,
    "start_time": "2023-01-18T13:26:17.713Z"
   },
   {
    "duration": 36,
    "start_time": "2023-01-18T13:26:18.180Z"
   },
   {
    "duration": 4,
    "start_time": "2023-01-18T13:26:19.140Z"
   },
   {
    "duration": 7,
    "start_time": "2023-01-18T13:26:21.434Z"
   },
   {
    "duration": 5,
    "start_time": "2023-01-18T13:26:21.967Z"
   },
   {
    "duration": 5,
    "start_time": "2023-01-18T13:26:22.469Z"
   },
   {
    "duration": 153,
    "start_time": "2023-01-18T13:26:23.609Z"
   },
   {
    "duration": 198,
    "start_time": "2023-01-18T13:26:24.358Z"
   },
   {
    "duration": 4,
    "start_time": "2023-01-18T13:26:26.615Z"
   },
   {
    "duration": 4,
    "start_time": "2023-01-18T13:26:27.061Z"
   },
   {
    "duration": 4,
    "start_time": "2023-01-18T13:26:31.454Z"
   },
   {
    "duration": 23,
    "start_time": "2023-01-18T13:26:31.994Z"
   },
   {
    "duration": 20,
    "start_time": "2023-01-18T13:26:33.493Z"
   },
   {
    "duration": 48,
    "start_time": "2023-01-18T13:26:34.741Z"
   },
   {
    "duration": 5,
    "start_time": "2023-01-18T13:26:35.729Z"
   },
   {
    "duration": 3,
    "start_time": "2023-01-18T13:26:35.953Z"
   },
   {
    "duration": 16,
    "start_time": "2023-01-18T13:26:36.269Z"
   },
   {
    "duration": 4,
    "start_time": "2023-01-18T13:26:36.523Z"
   },
   {
    "duration": 30,
    "start_time": "2023-01-18T13:26:36.794Z"
   },
   {
    "duration": 3,
    "start_time": "2023-01-18T13:26:37.229Z"
   },
   {
    "duration": 6,
    "start_time": "2023-01-18T13:26:37.609Z"
   },
   {
    "duration": 24,
    "start_time": "2023-01-18T13:26:37.963Z"
   },
   {
    "duration": 5,
    "start_time": "2023-01-18T13:26:38.339Z"
   },
   {
    "duration": 202,
    "start_time": "2023-01-18T13:26:38.714Z"
   },
   {
    "duration": 6,
    "start_time": "2023-01-18T13:26:39.089Z"
   },
   {
    "duration": 423,
    "start_time": "2023-01-18T13:26:39.496Z"
   },
   {
    "duration": 4,
    "start_time": "2023-01-18T13:26:40.634Z"
   },
   {
    "duration": 58,
    "start_time": "2023-01-18T13:26:41.009Z"
   },
   {
    "duration": 5,
    "start_time": "2023-01-18T13:26:41.279Z"
   },
   {
    "duration": 19,
    "start_time": "2023-01-18T13:26:41.567Z"
   },
   {
    "duration": 4,
    "start_time": "2023-01-18T13:26:41.820Z"
   },
   {
    "duration": 222,
    "start_time": "2023-01-18T13:26:42.074Z"
   },
   {
    "duration": 6,
    "start_time": "2023-01-18T13:26:42.883Z"
   },
   {
    "duration": 31,
    "start_time": "2023-01-18T13:26:43.124Z"
   },
   {
    "duration": 52,
    "start_time": "2023-01-18T13:26:43.844Z"
   },
   {
    "duration": 22,
    "start_time": "2023-01-18T13:26:44.142Z"
   },
   {
    "duration": 186,
    "start_time": "2023-01-18T13:26:44.550Z"
   },
   {
    "duration": 6,
    "start_time": "2023-01-18T13:26:46.101Z"
   },
   {
    "duration": 25,
    "start_time": "2023-01-18T13:26:46.517Z"
   },
   {
    "duration": 203,
    "start_time": "2023-01-18T13:26:46.904Z"
   },
   {
    "duration": 292,
    "start_time": "2023-01-18T13:26:47.263Z"
   },
   {
    "duration": 44,
    "start_time": "2023-01-18T13:26:49.183Z"
   },
   {
    "duration": 20,
    "start_time": "2023-01-18T13:26:49.800Z"
   },
   {
    "duration": 313,
    "start_time": "2023-01-18T13:26:50.086Z"
   },
   {
    "duration": 19,
    "start_time": "2023-01-18T13:26:51.059Z"
   },
   {
    "duration": 46,
    "start_time": "2023-01-18T13:26:51.842Z"
   },
   {
    "duration": 8,
    "start_time": "2023-01-18T13:26:52.710Z"
   },
   {
    "duration": 2,
    "start_time": "2023-01-18T13:26:53.054Z"
   },
   {
    "duration": 9,
    "start_time": "2023-01-18T13:26:53.339Z"
   },
   {
    "duration": 26,
    "start_time": "2023-01-18T13:26:53.639Z"
   },
   {
    "duration": 25,
    "start_time": "2023-01-18T13:26:53.973Z"
   },
   {
    "duration": 218,
    "start_time": "2023-01-18T13:26:54.390Z"
   },
   {
    "duration": 31,
    "start_time": "2023-01-18T13:26:54.658Z"
   },
   {
    "duration": 321,
    "start_time": "2023-01-18T13:26:54.975Z"
   },
   {
    "duration": 63,
    "start_time": "2023-01-18T13:26:55.874Z"
   },
   {
    "duration": 24,
    "start_time": "2023-01-18T13:26:56.130Z"
   },
   {
    "duration": 224,
    "start_time": "2023-01-18T13:26:56.384Z"
   },
   {
    "duration": 6,
    "start_time": "2023-01-18T13:26:57.208Z"
   },
   {
    "duration": 2,
    "start_time": "2023-01-18T13:26:57.449Z"
   },
   {
    "duration": 5,
    "start_time": "2023-01-18T13:26:57.704Z"
   },
   {
    "duration": 24,
    "start_time": "2023-01-18T13:26:57.989Z"
   },
   {
    "duration": 208,
    "start_time": "2023-01-18T13:26:58.364Z"
   },
   {
    "duration": 324,
    "start_time": "2023-01-18T13:26:58.747Z"
   },
   {
    "duration": 51,
    "start_time": "2023-01-18T13:26:59.760Z"
   },
   {
    "duration": 21,
    "start_time": "2023-01-18T13:27:00.014Z"
   },
   {
    "duration": 225,
    "start_time": "2023-01-18T13:27:00.344Z"
   },
   {
    "duration": 5,
    "start_time": "2023-01-18T13:27:01.109Z"
   },
   {
    "duration": 3,
    "start_time": "2023-01-18T13:27:01.349Z"
   },
   {
    "duration": 6,
    "start_time": "2023-01-18T13:27:01.574Z"
   },
   {
    "duration": 23,
    "start_time": "2023-01-18T13:27:01.900Z"
   },
   {
    "duration": 175,
    "start_time": "2023-01-18T13:27:02.140Z"
   },
   {
    "duration": 357,
    "start_time": "2023-01-18T13:27:02.428Z"
   },
   {
    "duration": 51,
    "start_time": "2023-01-18T13:27:03.344Z"
   },
   {
    "duration": 17,
    "start_time": "2023-01-18T13:27:03.674Z"
   },
   {
    "duration": 188,
    "start_time": "2023-01-18T13:27:04.036Z"
   },
   {
    "duration": 21,
    "start_time": "2023-01-18T13:27:04.840Z"
   },
   {
    "duration": 7,
    "start_time": "2023-01-18T13:27:05.174Z"
   },
   {
    "duration": 50,
    "start_time": "2023-01-18T13:27:05.880Z"
   },
   {
    "duration": 6,
    "start_time": "2023-01-18T13:27:08.970Z"
   },
   {
    "duration": 21,
    "start_time": "2023-01-18T13:27:09.644Z"
   },
   {
    "duration": 4,
    "start_time": "2023-01-18T13:27:10.740Z"
   },
   {
    "duration": 5,
    "start_time": "2023-01-18T13:27:11.204Z"
   },
   {
    "duration": 4,
    "start_time": "2023-01-18T13:27:11.714Z"
   },
   {
    "duration": 5,
    "start_time": "2023-01-18T13:27:12.151Z"
   },
   {
    "duration": 1407,
    "start_time": "2023-01-19T12:44:17.861Z"
   },
   {
    "duration": 833,
    "start_time": "2023-01-19T12:44:19.270Z"
   },
   {
    "duration": 16,
    "start_time": "2023-01-19T12:44:20.105Z"
   },
   {
    "duration": 6,
    "start_time": "2023-01-19T12:44:20.123Z"
   },
   {
    "duration": 31,
    "start_time": "2023-01-19T12:44:20.131Z"
   },
   {
    "duration": 32,
    "start_time": "2023-01-19T12:44:20.167Z"
   },
   {
    "duration": 67,
    "start_time": "2023-01-19T12:44:20.201Z"
   },
   {
    "duration": 4,
    "start_time": "2023-01-19T12:44:20.271Z"
   },
   {
    "duration": 41,
    "start_time": "2023-01-19T12:44:20.276Z"
   },
   {
    "duration": 14,
    "start_time": "2023-01-19T12:44:20.319Z"
   },
   {
    "duration": 53,
    "start_time": "2023-01-19T12:44:20.335Z"
   },
   {
    "duration": 242,
    "start_time": "2023-01-19T12:44:20.390Z"
   },
   {
    "duration": 257,
    "start_time": "2023-01-19T12:44:20.635Z"
   },
   {
    "duration": 5,
    "start_time": "2023-01-19T12:44:20.896Z"
   },
   {
    "duration": 38,
    "start_time": "2023-01-19T12:44:20.903Z"
   },
   {
    "duration": 37,
    "start_time": "2023-01-19T12:44:20.943Z"
   },
   {
    "duration": 36,
    "start_time": "2023-01-19T12:44:20.981Z"
   },
   {
    "duration": 31,
    "start_time": "2023-01-19T12:44:21.019Z"
   },
   {
    "duration": 73,
    "start_time": "2023-01-19T12:44:21.053Z"
   },
   {
    "duration": 5,
    "start_time": "2023-01-19T12:44:21.128Z"
   },
   {
    "duration": 40,
    "start_time": "2023-01-19T12:44:21.134Z"
   },
   {
    "duration": 33,
    "start_time": "2023-01-19T12:44:21.176Z"
   },
   {
    "duration": 9,
    "start_time": "2023-01-19T12:44:21.211Z"
   },
   {
    "duration": 65,
    "start_time": "2023-01-19T12:44:21.222Z"
   },
   {
    "duration": 3,
    "start_time": "2023-01-19T12:44:21.289Z"
   },
   {
    "duration": 9,
    "start_time": "2023-01-19T12:44:21.294Z"
   },
   {
    "duration": 60,
    "start_time": "2023-01-19T12:44:21.305Z"
   },
   {
    "duration": 5,
    "start_time": "2023-01-19T12:44:21.370Z"
   },
   {
    "duration": 295,
    "start_time": "2023-01-19T12:44:21.376Z"
   },
   {
    "duration": 5,
    "start_time": "2023-01-19T12:44:21.673Z"
   },
   {
    "duration": 340,
    "start_time": "2023-01-19T12:44:21.680Z"
   },
   {
    "duration": 4,
    "start_time": "2023-01-19T12:44:22.022Z"
   },
   {
    "duration": 68,
    "start_time": "2023-01-19T12:44:22.028Z"
   },
   {
    "duration": 7,
    "start_time": "2023-01-19T12:44:22.097Z"
   },
   {
    "duration": 43,
    "start_time": "2023-01-19T12:44:22.106Z"
   },
   {
    "duration": 14,
    "start_time": "2023-01-19T12:44:22.151Z"
   },
   {
    "duration": 251,
    "start_time": "2023-01-19T12:44:22.171Z"
   },
   {
    "duration": 24,
    "start_time": "2023-01-19T12:44:22.424Z"
   },
   {
    "duration": 48,
    "start_time": "2023-01-19T12:44:22.455Z"
   },
   {
    "duration": 78,
    "start_time": "2023-01-19T12:44:22.506Z"
   },
   {
    "duration": 27,
    "start_time": "2023-01-19T12:44:22.590Z"
   },
   {
    "duration": 254,
    "start_time": "2023-01-19T12:44:22.619Z"
   },
   {
    "duration": 8,
    "start_time": "2023-01-19T12:44:22.875Z"
   },
   {
    "duration": 32,
    "start_time": "2023-01-19T12:44:22.886Z"
   },
   {
    "duration": 234,
    "start_time": "2023-01-19T12:44:22.919Z"
   },
   {
    "duration": 359,
    "start_time": "2023-01-19T12:44:23.155Z"
   },
   {
    "duration": 62,
    "start_time": "2023-01-19T12:44:23.516Z"
   },
   {
    "duration": 24,
    "start_time": "2023-01-19T12:44:23.580Z"
   },
   {
    "duration": 278,
    "start_time": "2023-01-19T12:44:23.606Z"
   },
   {
    "duration": 22,
    "start_time": "2023-01-19T12:44:23.885Z"
   },
   {
    "duration": 76,
    "start_time": "2023-01-19T12:44:23.909Z"
   },
   {
    "duration": 10,
    "start_time": "2023-01-19T12:44:23.987Z"
   },
   {
    "duration": 8,
    "start_time": "2023-01-19T12:44:23.999Z"
   },
   {
    "duration": 19,
    "start_time": "2023-01-19T12:44:24.009Z"
   },
   {
    "duration": 135,
    "start_time": "2023-01-19T12:44:24.038Z"
   },
   {
    "duration": 46,
    "start_time": "2023-01-19T12:44:24.175Z"
   },
   {
    "duration": 245,
    "start_time": "2023-01-19T12:44:24.222Z"
   },
   {
    "duration": 256,
    "start_time": "2023-01-19T12:44:24.474Z"
   },
   {
    "duration": 401,
    "start_time": "2023-01-19T12:44:24.732Z"
   },
   {
    "duration": 67,
    "start_time": "2023-01-19T12:44:25.139Z"
   },
   {
    "duration": 33,
    "start_time": "2023-01-19T12:44:25.207Z"
   },
   {
    "duration": 262,
    "start_time": "2023-01-19T12:44:25.242Z"
   },
   {
    "duration": 6,
    "start_time": "2023-01-19T12:44:25.507Z"
   },
   {
    "duration": 58,
    "start_time": "2023-01-19T12:44:25.514Z"
   },
   {
    "duration": 23,
    "start_time": "2023-01-19T12:44:25.574Z"
   },
   {
    "duration": 63,
    "start_time": "2023-01-19T12:44:25.599Z"
   },
   {
    "duration": 249,
    "start_time": "2023-01-19T12:44:25.664Z"
   },
   {
    "duration": 394,
    "start_time": "2023-01-19T12:44:25.915Z"
   },
   {
    "duration": 74,
    "start_time": "2023-01-19T12:44:26.311Z"
   },
   {
    "duration": 21,
    "start_time": "2023-01-19T12:44:26.386Z"
   },
   {
    "duration": 234,
    "start_time": "2023-01-19T12:44:26.409Z"
   },
   {
    "duration": 8,
    "start_time": "2023-01-19T12:44:26.646Z"
   },
   {
    "duration": 29,
    "start_time": "2023-01-19T12:44:26.655Z"
   },
   {
    "duration": 17,
    "start_time": "2023-01-19T12:44:26.686Z"
   },
   {
    "duration": 30,
    "start_time": "2023-01-19T12:44:26.705Z"
   },
   {
    "duration": 231,
    "start_time": "2023-01-19T12:44:26.737Z"
   },
   {
    "duration": 343,
    "start_time": "2023-01-19T12:44:26.970Z"
   },
   {
    "duration": 68,
    "start_time": "2023-01-19T12:44:27.315Z"
   },
   {
    "duration": 27,
    "start_time": "2023-01-19T12:44:27.384Z"
   },
   {
    "duration": 268,
    "start_time": "2023-01-19T12:44:27.413Z"
   },
   {
    "duration": 22,
    "start_time": "2023-01-19T12:44:27.682Z"
   },
   {
    "duration": 6,
    "start_time": "2023-01-19T12:44:27.706Z"
   },
   {
    "duration": 98,
    "start_time": "2023-01-19T12:44:27.714Z"
   },
   {
    "duration": 6,
    "start_time": "2023-01-19T12:44:27.814Z"
   },
   {
    "duration": 37,
    "start_time": "2023-01-19T12:44:27.821Z"
   },
   {
    "duration": 18,
    "start_time": "2023-01-19T12:44:27.860Z"
   },
   {
    "duration": 14,
    "start_time": "2023-01-19T12:44:27.879Z"
   },
   {
    "duration": 16,
    "start_time": "2023-01-19T12:44:27.895Z"
   },
   {
    "duration": 13,
    "start_time": "2023-01-19T12:44:27.913Z"
   },
   {
    "duration": 65,
    "start_time": "2023-01-19T23:31:07.130Z"
   },
   {
    "duration": 1523,
    "start_time": "2023-01-19T23:31:24.177Z"
   },
   {
    "duration": 618,
    "start_time": "2023-01-19T23:31:25.914Z"
   }
  ],
  "kernelspec": {
   "display_name": "Python 3",
   "language": "python",
   "name": "python3"
  },
  "language_info": {
   "codemirror_mode": {
    "name": "ipython",
    "version": 3
   },
   "file_extension": ".py",
   "mimetype": "text/x-python",
   "name": "python",
   "nbconvert_exporter": "python",
   "pygments_lexer": "ipython3",
   "version": "3.8.3"
  },
  "toc": {
   "base_numbering": 1,
   "nav_menu": {},
   "number_sections": true,
   "sideBar": true,
   "skip_h1_title": false,
   "title_cell": "Table of Contents",
   "title_sidebar": "Contents",
   "toc_cell": false,
   "toc_position": {
    "height": "calc(100% - 180px)",
    "left": "10px",
    "top": "150px",
    "width": "310.1875px"
   },
   "toc_section_display": true,
   "toc_window_display": true
  }
 },
 "nbformat": 4,
 "nbformat_minor": 5
}
